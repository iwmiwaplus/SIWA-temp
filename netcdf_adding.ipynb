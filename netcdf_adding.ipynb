{
 "cells": [
  {
   "cell_type": "code",
   "execution_count": null,
   "id": "d310b758-89b8-421a-bc18-41e5f2e02249",
   "metadata": {},
   "outputs": [],
   "source": []
  },
  {
   "cell_type": "code",
   "execution_count": 1,
   "id": "8f116643-b410-48c2-9388-b7fff4358719",
   "metadata": {},
   "outputs": [
    {
     "name": "stdout",
     "output_type": "stream",
     "text": [
      "\n",
      "\n",
      "Writing the ETA netCDF file...\n",
      "\n",
      "\n",
      "NetCDF file written to /efs/CWA/ncdf_files_sheet2_19_21/eta_monthly_added.nc in 195.82 seconds.\n"
     ]
    }
   ],
   "source": [
    "import xarray as xr\n",
    "import os\n",
    "import time\n",
    "\n",
    "# Paths to input files\n",
    "file1 = r\"/efs/CWA/ncdf_files_sheet2_19_21/etincr_monthly.nc\"\n",
    "file2 = r\"/efs/CWA/ncdf_files_sheet2_19_21/etrain_monthly.nc\"\n",
    "output_file = \"eta_monthly_added.nc\"\n",
    "MAIN_FOLDER = r\"/efs/CWA/ncdf_files_sheet2_19_21\"\n",
    "\n",
    "\n",
    "# Open the datasets\n",
    "ds1 = xr.open_dataset(file1)\n",
    "ds2 = xr.open_dataset(file2)\n",
    "\n",
    "# Extract specific variables\n",
    "var1 = ds1[\"Incremental_ET_M\"]\n",
    "var2 = ds2[\"Rainfall_ET_M\"]\n",
    "\n",
    "# Align the variables to ensure compatibility\n",
    "var1, var2 = xr.align(var1, var2, join=\"inner\")\n",
    "\n",
    "# Perform addition\n",
    "eta = var1 + var2\n",
    "\n",
    "# Set name and attributes for the result\n",
    "eta.name = \"Total_ET_M\"\n",
    "eta.attrs = {\"units\": \"mm/month\", \"source\": \"-\", \"quantity\": \"Total_ET_M\"}\n",
    "\n",
    "# Compression and chunking options\n",
    "chunks = [1, 2000, 2000]\n",
    "comp = dict(zlib=True, least_significant_digit=2, chunksizes=chunks)\n",
    "encoding = {\"Total_ET_M\": comp}\n",
    "\n",
    "# Write to NetCDF\n",
    "eta_path = os.path.join(MAIN_FOLDER, output_file)\n",
    "\n",
    "print(\"\\n\\nWriting the ETA netCDF file...\\n\\n\")\n",
    "start = time.time()\n",
    "eta.to_netcdf(eta_path, encoding=encoding)\n",
    "end = time.time()\n",
    "\n",
    "print(f\"NetCDF file written to {eta_path} in {end - start:.2f} seconds.\")\n"
   ]
  },
  {
   "cell_type": "code",
   "execution_count": null,
   "id": "8d5177d4-1ffd-486b-958b-91d94f80c28f",
   "metadata": {},
   "outputs": [],
   "source": []
  }
 ],
 "metadata": {
  "kernelspec": {
   "display_name": "Python 3 (ipykernel)",
   "language": "python",
   "name": "python3"
  },
  "language_info": {
   "codemirror_mode": {
    "name": "ipython",
    "version": 3
   },
   "file_extension": ".py",
   "mimetype": "text/x-python",
   "name": "python",
   "nbconvert_exporter": "python",
   "pygments_lexer": "ipython3",
   "version": "3.7.7"
  }
 },
 "nbformat": 4,
 "nbformat_minor": 5
}
