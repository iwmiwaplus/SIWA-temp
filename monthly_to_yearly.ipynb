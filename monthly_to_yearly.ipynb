{
 "cells": [
  {
   "cell_type": "code",
   "execution_count": 1,
   "id": "97e02578-9cca-4746-ac3a-6a6f13598dee",
   "metadata": {},
   "outputs": [
    {
     "name": "stdout",
     "output_type": "stream",
     "text": [
      "2018\n",
      "2020\n",
      "2014\n",
      "2016\n",
      "2022\n",
      "2017\n",
      "2012\n",
      "2013\n",
      "2023\n",
      "2021\n",
      "2015\n",
      "2019\n",
      "Yearly data has been created in the output folder.\n"
     ]
    }
   ],
   "source": [
    "import os\n",
    "import re\n",
    "import rasterio\n",
    "\n",
    "# Path to the folder containing the monthly TIFF files\n",
    "monthly_folder = r'/efs/Lerma/new_data_set/NPP'\n",
    "\n",
    "# Output folder for the new yearly data\n",
    "output_folder = r'/efs/Lerma/new_data_set/yearly/SSEBOP_ET'\n",
    "\n",
    "# Create the output folder if it doesn't exist\n",
    "if not os.path.exists(output_folder):\n",
    "    os.makedirs(output_folder)\n",
    "\n",
    "# List all TIFF files in the monthly folder\n",
    "monthly_tif_files = [file for file in os.listdir(monthly_folder) if file.endswith('.tif')]\n",
    "\n",
    "# Create a dictionary to store monthly data for each year\n",
    "yearly_data = {}\n",
    "\n",
    "# Loop through the monthly TIFF files\n",
    "for monthly_file in monthly_tif_files:\n",
    "    monthly_file_path = os.path.join(monthly_folder, monthly_file)\n",
    "    \n",
    "    # Extract the year from the file name using a regular expression\n",
    "    year_match = re.search(r'\\d{4}', monthly_file)\n",
    "    if year_match:\n",
    "        year = year_match.group(0)\n",
    "        \n",
    "        # Open the monthly data file\n",
    "        with rasterio.open(monthly_file_path) as monthly_src:\n",
    "            # Read the data from the monthly file\n",
    "            monthly_data = monthly_src.read(1)\n",
    "            \n",
    "            # If the year is not in the yearly_data dictionary, create an entry\n",
    "            if year not in yearly_data:\n",
    "                yearly_data[year] = monthly_data\n",
    "                print(year)\n",
    "            else:\n",
    "                # Add the monthly data to the existing yearly data\n",
    "                yearly_data[year] += monthly_data\n",
    "\n",
    "# Loop through the yearly data dictionary and save the results as new TIFF files\n",
    "for year, data in yearly_data.items():\n",
    "    output_file = f'ssebop_{year}.01.01.tif'\n",
    "    output_file_path = os.path.join(output_folder, output_file)\n",
    "    \n",
    "#     data = data/12\n",
    "    \n",
    "    # Use the metadata from one of the monthly files (assuming they have the same metadata)\n",
    "    metadata = None\n",
    "    for monthly_file in monthly_tif_files:\n",
    "        if year in monthly_file:\n",
    "            with rasterio.open(os.path.join(monthly_folder, monthly_file)) as src:\n",
    "                metadata = src.profile\n",
    "                break\n",
    "    \n",
    "    if metadata is not None:\n",
    "        with rasterio.open(output_file_path, 'w', **metadata) as dst:\n",
    "            dst.write(data, 1)\n",
    "\n",
    "print(\"Yearly data has been created in the output folder.\")\n"
   ]
  },
  {
   "cell_type": "code",
   "execution_count": null,
   "id": "c5c06c3d-bc60-4ec9-b700-2b5b20078e99",
   "metadata": {},
   "outputs": [],
   "source": []
  }
 ],
 "metadata": {
  "kernelspec": {
   "display_name": "Python 3 (ipykernel)",
   "language": "python",
   "name": "python3"
  },
  "language_info": {
   "codemirror_mode": {
    "name": "ipython",
    "version": 3
   },
   "file_extension": ".py",
   "mimetype": "text/x-python",
   "name": "python",
   "nbconvert_exporter": "python",
   "pygments_lexer": "ipython3",
   "version": "3.7.7"
  }
 },
 "nbformat": 4,
 "nbformat_minor": 5
}
