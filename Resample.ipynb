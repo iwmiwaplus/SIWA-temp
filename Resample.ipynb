{
 "cells": [
  {
   "cell_type": "code",
   "execution_count": 5,
   "id": "dfadad82-f9f5-4ecd-8089-0d75d9ee611d",
   "metadata": {},
   "outputs": [
    {
     "name": "stdout",
     "output_type": "stream",
     "text": [
      "Resampling and clipping completed with compression.\n"
     ]
    }
   ],
   "source": [
    "import os\n",
    "import rasterio\n",
    "from rasterio.enums import Resampling\n",
    "\n",
    "# Input folder containing the TIFF files\n",
    "input_folder = r'/home/iwmi-wa/tmp_1tb/MOD17_NPP'\n",
    "# Output folder where resampled and clipped TIFF files will be saved\n",
    "output_folder = r'/home/iwmi-wa/tmp_1tb/MOD17_NPP_rs'\n",
    "# Path to the mask layer (e.g., a shapefile or another raster file)\n",
    "mask_layer = r\"/efs/CWA/static_datasets/basin_mask/AFR_basinmask_1km.tif\"\n",
    "\n",
    "# Create the output folder if it doesn't exist\n",
    "if not os.path.exists(output_folder):\n",
    "    os.makedirs(output_folder)\n",
    "\n",
    "# List all TIFF files in the input folder\n",
    "tif_files = [f for f in os.listdir(input_folder) if f.endswith('.tif')]\n",
    "\n",
    "# Open the mask layer to get its resolution and bounds\n",
    "with rasterio.open(mask_layer) as mask_ds:\n",
    "    target_resolution = mask_ds.res\n",
    "    mask_bounds = mask_ds.bounds\n",
    "\n",
    "# Iterate over each TIFF file for resampling and clipping\n",
    "for tif_file in tif_files:\n",
    "    input_tif = os.path.join(input_folder, tif_file)\n",
    "    output_tif = os.path.join(output_folder, tif_file)\n",
    "\n",
    "    with rasterio.open(input_tif) as src:\n",
    "        # Create a window based on the mask layer's extent\n",
    "        window = src.window(*mask_bounds)\n",
    "\n",
    "        # Read data from the source raster within the window\n",
    "        num_bands = 1  # Update with the correct number of bands for your raster\n",
    "        data = src.read(window=window, out_shape=(num_bands, int(window.height), int(window.width)))\n",
    "\n",
    "        # Calculate the scaling factors for resampling\n",
    "        x_scale = target_resolution[0] / src.res[0]\n",
    "        y_scale = target_resolution[1] / src.res[1]\n",
    "\n",
    "        # Resample the data\n",
    "        resampled_data = src.read(\n",
    "            out_shape=(num_bands, int(data.shape[1] * y_scale), int(data.shape[2] * x_scale)),\n",
    "            resampling=Resampling.nearest\n",
    "        )\n",
    "\n",
    "        # Update metadata for the output file and add compression options\n",
    "        out_meta = src.meta.copy()\n",
    "        out_meta.update({\n",
    "            'driver': 'GTiff',\n",
    "            'height': resampled_data.shape[1],\n",
    "            'width': resampled_data.shape[2],\n",
    "            'transform': src.window_transform(window),\n",
    "            'compress': 'LZW',  # Replace 'LZW' with the desired compression method (e.g., 'JPEG', 'DEFLATE', 'PACKBITS', etc.)\n",
    "            'predictor': 2  # Optional, set predictor for some compression methods\n",
    "        })\n",
    "\n",
    "        # Write the resampled and clipped dataset to a new file with compression\n",
    "        with rasterio.open(output_tif, 'w', **out_meta) as dst:\n",
    "            dst.write(resampled_data)\n",
    "\n",
    "print(\"Resampling and clipping completed with compression.\")\n"
   ]
  },
  {
   "cell_type": "code",
   "execution_count": 11,
   "id": "0ea582ef-43d2-469f-b6db-90c6cceb29d1",
   "metadata": {},
   "outputs": [
    {
     "name": "stdout",
     "output_type": "stream",
     "text": [
      "Resampling complete. Resampled TIFF files saved in the output folder with nearest-neighbor resampling and LZW compression.\n"
     ]
    }
   ],
   "source": [
    "import os\n",
    "import rasterio\n",
    "from rasterio.enums import Resampling\n",
    "\n",
    "# Path to the folder containing the TIFF files to be resampled\n",
    "input_folder = r'/home/iwmi-wa/tmp_1tb/MOD17_GPP_rs'\n",
    "\n",
    "# Output folder for the resampled TIFF files\n",
    "output_folder = r'/home/iwmi-wa/tmp_1tb/MOD17_GPP_c_rs'\n",
    "\n",
    "# Target resolution (in degrees) for resampling in WGS 84\n",
    "target_resolution = (0.009521932053583757535, 0.009521932053583757535)  # Change this to your desired resolution in degrees\n",
    "\n",
    "# Create the output folder if it doesn't exist\n",
    "if not os.path.exists(output_folder):\n",
    "    os.makedirs(output_folder)\n",
    "\n",
    "# List all TIFF files in the input folder\n",
    "tif_files = [file for file in os.listdir(input_folder) if file.endswith('.tif')]\n",
    "\n",
    "# Loop through the TIFF files in the input folder\n",
    "for tif_file in tif_files:\n",
    "    input_tiff_path = os.path.join(input_folder, tif_file)\n",
    "    output_tiff_path = os.path.join(output_folder, tif_file)\n",
    "\n",
    "    with rasterio.open(input_tiff_path) as src:\n",
    "        # Calculate the new dimensions based on the target resolution\n",
    "        width = int(src.width * src.transform.a / target_resolution[0])\n",
    "        height = int(src.height * abs(src.transform.e) / target_resolution[1])\n",
    "\n",
    "        # Resample the source TIFF file to the target resolution using nearest-neighbor method\n",
    "        data = src.read(\n",
    "            out_shape=(src.count, height, width),\n",
    "            resampling=Resampling.nearest\n",
    "        )\n",
    "\n",
    "        # Update the profile with compression settings and the new resolution\n",
    "        profile = src.profile\n",
    "        profile.update(\n",
    "            transform=rasterio.Affine(target_resolution[0], 0, src.transform.c, 0, -target_resolution[1], src.transform.f),\n",
    "            width=width,\n",
    "            height=height,\n",
    "            compress='lzw'  # Set the compression method to LZW\n",
    "        )\n",
    "\n",
    "        # Write the resampled data to a new TIFF file with LZW compression\n",
    "        with rasterio.open(output_tiff_path, 'w', **profile) as dst:\n",
    "            dst.write(data)\n",
    "\n",
    "print(\"Resampling complete. Resampled TIFF files saved in the output folder with nearest-neighbor resampling and LZW compression.\")\n"
   ]
  },
  {
   "cell_type": "code",
   "execution_count": null,
   "id": "d70a762a-0bb3-49aa-a469-94ba1dd20803",
   "metadata": {},
   "outputs": [],
   "source": []
  }
 ],
 "metadata": {
  "kernelspec": {
   "display_name": "Python 3 (ipykernel)",
   "language": "python",
   "name": "python3"
  },
  "language_info": {
   "codemirror_mode": {
    "name": "ipython",
    "version": 3
   },
   "file_extension": ".py",
   "mimetype": "text/x-python",
   "name": "python",
   "nbconvert_exporter": "python",
   "pygments_lexer": "ipython3",
   "version": "3.7.7"
  }
 },
 "nbformat": 4,
 "nbformat_minor": 5
}
