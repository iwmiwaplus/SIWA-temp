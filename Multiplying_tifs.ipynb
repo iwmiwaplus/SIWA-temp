{
 "cells": [
  {
   "cell_type": "code",
   "execution_count": 2,
   "id": "c9a1ebba-8ad2-4f12-86a7-ba2f8dc1b4a8",
   "metadata": {},
   "outputs": [
    {
     "name": "stdout",
     "output_type": "stream",
     "text": [
      "Processing completed!\n"
     ]
    }
   ],
   "source": [
    "import os\n",
    "import rasterio\n",
    "from rasterio import Affine\n",
    "from rasterio.enums import Resampling\n",
    "\n",
    "# Define input and output folders\n",
    "input_folder = r\"/efs/CWA/rs_input_20yrs/All_20/P/ARC/Daily\"\n",
    "output_folder = r\"/efs/CWA/rs_input_20yrs/All_20/P/ARC/Daily_1.34\"\n",
    "\n",
    "# Create the output folder if it doesn't exist\n",
    "if not os.path.exists(output_folder):\n",
    "    os.makedirs(output_folder)\n",
    "\n",
    "# Iterate over each file in the input folder\n",
    "for filename in os.listdir(input_folder):\n",
    "    if filename.endswith(\".tif\"):\n",
    "        input_path = os.path.join(input_folder, filename)\n",
    "        output_path = os.path.join(output_folder, filename)\n",
    "\n",
    "        # Open the input TIFF file\n",
    "        with rasterio.open(input_path) as src:\n",
    "            # Read the data\n",
    "            data = src.read(1)  # Assuming single-band raster\n",
    "            \n",
    "            # Multiply by 1.34\n",
    "            data = data * 1.34\n",
    "            \n",
    "            # Copy the metadata\n",
    "            meta = src.meta.copy()\n",
    "            \n",
    "            # Write the output TIFF\n",
    "            with rasterio.open(output_path, 'w', **meta) as dst:\n",
    "                dst.write(data, 1)\n",
    "\n",
    "print(\"Processing completed!\")\n"
   ]
  },
  {
   "cell_type": "code",
   "execution_count": null,
   "id": "0b8dc3ab-564d-46bd-8888-1ea03c8f4843",
   "metadata": {},
   "outputs": [],
   "source": []
  }
 ],
 "metadata": {
  "kernelspec": {
   "display_name": "Python 3 (ipykernel)",
   "language": "python",
   "name": "python3"
  },
  "language_info": {
   "codemirror_mode": {
    "name": "ipython",
    "version": 3
   },
   "file_extension": ".py",
   "mimetype": "text/x-python",
   "name": "python",
   "nbconvert_exporter": "python",
   "pygments_lexer": "ipython3",
   "version": "3.7.7"
  }
 },
 "nbformat": 4,
 "nbformat_minor": 5
}
