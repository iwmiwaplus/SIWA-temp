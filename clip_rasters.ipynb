{
 "cells": [
  {
   "cell_type": "code",
   "execution_count": 9,
   "id": "c93ff167-f794-4542-9f86-7204ca0436a9",
   "metadata": {},
   "outputs": [],
   "source": [
    "import os\n",
    "import geopandas as gpd\n",
    "import rasterio\n",
    "from rasterio.mask import mask\n",
    "from shapely.geometry import mapping\n",
    "import shutil\n",
    "\n",
    "# Define the input folder containing your folder structure with TIFFs\n",
    "input_folder = r'/efs/Lerma/Thetasat'\n",
    "\n",
    "# Define the output folder where clipped TIFFs will be saved with the same structure\n",
    "output_folder = r'/efs/Lerma/lerma_data/Thetasat'\n",
    "\n",
    "# Define the path to the shapefile you want to use for clipping\n",
    "shapefile_path = r\"/efs/Lerma/Shapefile_lerma/santiago-lerma river basin_BB.shp\"\n",
    "\n",
    "# Function to create the same folder structure in the output directory\n",
    "def create_output_folder_structure(input_dir, output_dir):\n",
    "    for root, dirs, files in os.walk(input_dir):\n",
    "        for dir_name in dirs:\n",
    "            input_subfolder = os.path.join(root, dir_name)\n",
    "            output_subfolder = input_subfolder.replace(input_dir, output_dir)\n",
    "            os.makedirs(output_subfolder, exist_ok=True)\n",
    "\n",
    "# Clip TIFFs to the specified shapefile and save them in the output folder\n",
    "def clip_tiffs(input_dir, output_dir, shapefile_path):\n",
    "    create_output_folder_structure(input_dir, output_dir)\n",
    "    shapefile = gpd.read_file(shapefile_path)\n",
    "\n",
    "    for root, dirs, files in os.walk(input_dir):\n",
    "        for file_name in files:\n",
    "            if file_name.lower().endswith((\".tif\", \".tiff\")):\n",
    "                input_tif_path = os.path.join(root, file_name)\n",
    "                output_tif_path = input_tif_path.replace(input_dir, output_dir)\n",
    "\n",
    "                with rasterio.open(input_tif_path) as src:\n",
    "                    out_image, out_transform = mask(\n",
    "                        src, [mapping(shapefile.iloc[0].geometry)], crop=True, filled=False\n",
    "                    )\n",
    "                    out_meta = src.meta.copy()\n",
    "\n",
    "                out_meta.update(\n",
    "                    {\n",
    "                        \"driver\": \"GTiff\",\n",
    "                        \"height\": out_image.shape[1],\n",
    "                        \"width\": out_image.shape[2],\n",
    "                        \"transform\": out_transform,\n",
    "                        'compress': 'LZW'\n",
    "                    }\n",
    "                )\n",
    "\n",
    "                with rasterio.open(output_tif_path, \"w\", **out_meta) as dst:\n",
    "                    dst.write(out_image)\n",
    "\n",
    "if __name__ == \"__main__\":\n",
    "    clip_tiffs(input_folder, output_folder, shapefile_path)\n"
   ]
  },
  {
   "cell_type": "code",
   "execution_count": null,
   "id": "61fa38d6-2f10-46e9-b3aa-105409ece090",
   "metadata": {},
   "outputs": [],
   "source": []
  }
 ],
 "metadata": {
  "kernelspec": {
   "display_name": "Python 3 (ipykernel)",
   "language": "python",
   "name": "python3"
  },
  "language_info": {
   "codemirror_mode": {
    "name": "ipython",
    "version": 3
   },
   "file_extension": ".py",
   "mimetype": "text/x-python",
   "name": "python",
   "nbconvert_exporter": "python",
   "pygments_lexer": "ipython3",
   "version": "3.7.7"
  }
 },
 "nbformat": 4,
 "nbformat_minor": 5
}
