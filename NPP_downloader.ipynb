{
 "cells": [
  {
   "cell_type": "code",
   "execution_count": null,
   "id": "f3151a10-1546-4d50-8dc2-d7b2bf352f06",
   "metadata": {},
   "outputs": [
    {
     "name": "stderr",
     "output_type": "stream",
     "text": [
      "/home/iwmi-wa/anaconda3/envs/wa_env/lib/python3.7/site-packages/paramiko/transport.py:219: CryptographyDeprecationWarning: Blowfish has been deprecated\n",
      "  \"class\": algorithms.Blowfish,\n"
     ]
    },
    {
     "name": "stdin",
     "output_type": "stream",
     "text": [
      "Type in your account username for NASA talahiru\n",
      "Type in your password for NASA 8#94qijFzRQtpE9\n",
      "Type in your API key for NASA_BEARER \n",
      "Type in your account username for GLEAM \n",
      "Type in your password for GLEAM \n",
      "Type in your account username for FTP_WA \n",
      "Type in your password for FTP_WA \n",
      "Type in your account username for MSWEP \n",
      "Type in your password for MSWEP \n",
      "Type in your account username for Copernicus \n",
      "Type in your password for Copernicus \n",
      "Type in your account username for VITO \n",
      "Type in your password for VITO \n",
      "Type in your API key for WAPOR \n",
      "Type in your API key for VIIRS_BEARER \n"
     ]
    },
    {
     "name": "stdout",
     "output_type": "stream",
     "text": [
      "\n",
      "Download yearly MODIS NPP data for period 2003-01-01 till 2022-02-01\n",
      "Progress: |--------------------------------------------------| 0.0% CompleteData from 2003-01-01 is not available\n"
     ]
    },
    {
     "name": "stderr",
     "output_type": "stream",
     "text": [
      "ERROR 4: /efs/NPP/NPP/MOD17/MOD17A3HGF.A2003001.h17v04.061.2020168120300.hdf: No such file or directory\n"
     ]
    },
    {
     "name": "stdout",
     "output_type": "stream",
     "text": [
      "Data from 2003-01-01 is not available\n"
     ]
    },
    {
     "name": "stderr",
     "output_type": "stream",
     "text": [
      "ERROR 4: /efs/NPP/NPP/MOD17/MOD17A3HGF.A2003001.h18v04.061.2020168120309.hdf: No such file or directory\n"
     ]
    },
    {
     "name": "stdout",
     "output_type": "stream",
     "text": [
      "Data from 2003-01-01 is not available\n"
     ]
    },
    {
     "name": "stderr",
     "output_type": "stream",
     "text": [
      "ERROR 4: /efs/NPP/NPP/MOD17/MOD17A3HGF.A2003001.h19v04.061.2020168120929.hdf: No such file or directory\n"
     ]
    },
    {
     "name": "stdout",
     "output_type": "stream",
     "text": [
      "Data from 2003-01-01 is not available\n"
     ]
    },
    {
     "name": "stderr",
     "output_type": "stream",
     "text": [
      "ERROR 4: /efs/NPP/NPP/MOD17/MOD17A3HGF.A2003001.h20v04.061.2020168120312.hdf: No such file or directory\n"
     ]
    },
    {
     "name": "stdout",
     "output_type": "stream",
     "text": [
      "Data from 2003-01-01 is not available\n"
     ]
    },
    {
     "name": "stderr",
     "output_type": "stream",
     "text": [
      "ERROR 4: /efs/NPP/NPP/MOD17/MOD17A3HGF.A2003001.h21v04.061.2020168120312.hdf: No such file or directory\n"
     ]
    },
    {
     "name": "stdout",
     "output_type": "stream",
     "text": [
      "Data from 2003-01-01 is not available\n"
     ]
    },
    {
     "name": "stderr",
     "output_type": "stream",
     "text": [
      "ERROR 4: /efs/NPP/NPP/MOD17/MOD17A3HGF.A2003001.h22v04.061.2020168120310.hdf: No such file or directory\n"
     ]
    },
    {
     "name": "stdout",
     "output_type": "stream",
     "text": [
      "Data from 2003-01-01 is not available\n"
     ]
    },
    {
     "name": "stderr",
     "output_type": "stream",
     "text": [
      "ERROR 4: /efs/NPP/NPP/MOD17/MOD17A3HGF.A2003001.h16v05.061.2020168120230.hdf: No such file or directory\n"
     ]
    },
    {
     "name": "stdout",
     "output_type": "stream",
     "text": [
      "Data from 2003-01-01 is not available\n"
     ]
    },
    {
     "name": "stderr",
     "output_type": "stream",
     "text": [
      "ERROR 4: /efs/NPP/NPP/MOD17/MOD17A3HGF.A2003001.h17v05.061.2020168120248.hdf: No such file or directory\n"
     ]
    },
    {
     "name": "stdout",
     "output_type": "stream",
     "text": [
      "Data from 2003-01-01 is not available\n"
     ]
    },
    {
     "name": "stderr",
     "output_type": "stream",
     "text": [
      "ERROR 4: /efs/NPP/NPP/MOD17/MOD17A3HGF.A2003001.h18v05.061.2020168120305.hdf: No such file or directory\n"
     ]
    },
    {
     "name": "stdout",
     "output_type": "stream",
     "text": [
      "Data from 2003-01-01 is not available\n"
     ]
    },
    {
     "name": "stderr",
     "output_type": "stream",
     "text": [
      "ERROR 4: /efs/NPP/NPP/MOD17/MOD17A3HGF.A2003001.h19v05.061.2020168120240.hdf: No such file or directory\n"
     ]
    },
    {
     "name": "stdout",
     "output_type": "stream",
     "text": [
      "Data from 2003-01-01 is not available\n"
     ]
    },
    {
     "name": "stderr",
     "output_type": "stream",
     "text": [
      "ERROR 4: /efs/NPP/NPP/MOD17/MOD17A3HGF.A2003001.h20v05.061.2020168120306.hdf: No such file or directory\n"
     ]
    },
    {
     "name": "stdout",
     "output_type": "stream",
     "text": [
      "Data from 2003-01-01 is not available\n"
     ]
    },
    {
     "name": "stderr",
     "output_type": "stream",
     "text": [
      "ERROR 4: /efs/NPP/NPP/MOD17/MOD17A3HGF.A2003001.h21v05.061.2020168120242.hdf: No such file or directory\n"
     ]
    },
    {
     "name": "stdout",
     "output_type": "stream",
     "text": [
      "Data from 2003-01-01 is not available\n"
     ]
    },
    {
     "name": "stderr",
     "output_type": "stream",
     "text": [
      "ERROR 4: /efs/NPP/NPP/MOD17/MOD17A3HGF.A2003001.h22v05.061.2020168120312.hdf: No such file or directory\n"
     ]
    },
    {
     "name": "stdout",
     "output_type": "stream",
     "text": [
      "Data from 2003-01-01 is not available\n"
     ]
    },
    {
     "name": "stderr",
     "output_type": "stream",
     "text": [
      "ERROR 4: /efs/NPP/NPP/MOD17/MOD17A3HGF.A2003001.h16v06.061.2020168120235.hdf: No such file or directory\n"
     ]
    },
    {
     "name": "stdout",
     "output_type": "stream",
     "text": [
      "Data from 2003-01-01 is not available\n"
     ]
    },
    {
     "name": "stderr",
     "output_type": "stream",
     "text": [
      "ERROR 4: /efs/NPP/NPP/MOD17/MOD17A3HGF.A2003001.h17v06.061.2020168120238.hdf: No such file or directory\n"
     ]
    },
    {
     "name": "stdout",
     "output_type": "stream",
     "text": [
      "Data from 2003-01-01 is not available\n"
     ]
    },
    {
     "name": "stderr",
     "output_type": "stream",
     "text": [
      "ERROR 4: /efs/NPP/NPP/MOD17/MOD17A3HGF.A2003001.h18v06.061.2020168120254.hdf: No such file or directory\n"
     ]
    },
    {
     "name": "stdout",
     "output_type": "stream",
     "text": [
      "Data from 2003-01-01 is not available\n"
     ]
    },
    {
     "name": "stderr",
     "output_type": "stream",
     "text": [
      "ERROR 4: /efs/NPP/NPP/MOD17/MOD17A3HGF.A2003001.h19v06.061.2020168120258.hdf: No such file or directory\n"
     ]
    },
    {
     "name": "stdout",
     "output_type": "stream",
     "text": [
      "Data from 2003-01-01 is not available\n"
     ]
    },
    {
     "name": "stderr",
     "output_type": "stream",
     "text": [
      "ERROR 4: /efs/NPP/NPP/MOD17/MOD17A3HGF.A2003001.h20v06.061.2020168120917.hdf: No such file or directory\n"
     ]
    },
    {
     "name": "stdout",
     "output_type": "stream",
     "text": [
      "Data from 2003-01-01 is not available\n"
     ]
    },
    {
     "name": "stderr",
     "output_type": "stream",
     "text": [
      "ERROR 4: /efs/NPP/NPP/MOD17/MOD17A3HGF.A2003001.h21v06.061.2020168120239.hdf: No such file or directory\n"
     ]
    },
    {
     "name": "stdout",
     "output_type": "stream",
     "text": [
      "Data from 2003-01-01 is not available\n"
     ]
    },
    {
     "name": "stderr",
     "output_type": "stream",
     "text": [
      "ERROR 4: /efs/NPP/NPP/MOD17/MOD17A3HGF.A2003001.h22v06.061.2020168120242.hdf: No such file or directory\n"
     ]
    },
    {
     "name": "stdout",
     "output_type": "stream",
     "text": [
      "Data from 2003-01-01 is not available\n"
     ]
    },
    {
     "name": "stderr",
     "output_type": "stream",
     "text": [
      "ERROR 4: /efs/NPP/NPP/MOD17/MOD17A3HGF.A2003001.h16v07.061.2020168120255.hdf: No such file or directory\n"
     ]
    },
    {
     "name": "stdout",
     "output_type": "stream",
     "text": [
      "Data from 2003-01-01 is not available\n"
     ]
    },
    {
     "name": "stderr",
     "output_type": "stream",
     "text": [
      "ERROR 4: /efs/NPP/NPP/MOD17/MOD17A3HGF.A2003001.h17v07.061.2020168120253.hdf: No such file or directory\n"
     ]
    },
    {
     "name": "stdout",
     "output_type": "stream",
     "text": [
      "Data from 2003-01-01 is not available\n"
     ]
    },
    {
     "name": "stderr",
     "output_type": "stream",
     "text": [
      "ERROR 4: /efs/NPP/NPP/MOD17/MOD17A3HGF.A2003001.h18v07.061.2020168120303.hdf: No such file or directory\n"
     ]
    },
    {
     "name": "stdout",
     "output_type": "stream",
     "text": [
      "Data from 2003-01-01 is not available\n"
     ]
    },
    {
     "name": "stderr",
     "output_type": "stream",
     "text": [
      "ERROR 4: /efs/NPP/NPP/MOD17/MOD17A3HGF.A2003001.h19v07.061.2020168120241.hdf: No such file or directory\n"
     ]
    },
    {
     "name": "stdout",
     "output_type": "stream",
     "text": [
      "Data from 2003-01-01 is not available\n"
     ]
    },
    {
     "name": "stderr",
     "output_type": "stream",
     "text": [
      "ERROR 4: /efs/NPP/NPP/MOD17/MOD17A3HGF.A2003001.h20v07.061.2020168120914.hdf: No such file or directory\n"
     ]
    },
    {
     "name": "stdout",
     "output_type": "stream",
     "text": [
      "Data from 2003-01-01 is not available\n"
     ]
    },
    {
     "name": "stderr",
     "output_type": "stream",
     "text": [
      "ERROR 4: /efs/NPP/NPP/MOD17/MOD17A3HGF.A2003001.h21v07.061.2020168120313.hdf: No such file or directory\n"
     ]
    },
    {
     "name": "stdout",
     "output_type": "stream",
     "text": [
      "Data from 2003-01-01 is not available\n"
     ]
    },
    {
     "name": "stderr",
     "output_type": "stream",
     "text": [
      "ERROR 4: /efs/NPP/NPP/MOD17/MOD17A3HGF.A2003001.h22v07.061.2020168120240.hdf: No such file or directory\n"
     ]
    },
    {
     "name": "stdout",
     "output_type": "stream",
     "text": [
      "Data from 2003-01-01 is not available\n"
     ]
    },
    {
     "name": "stderr",
     "output_type": "stream",
     "text": [
      "ERROR 4: /efs/NPP/NPP/MOD17/MOD17A3HGF.A2003001.h16v08.061.2020168120250.hdf: No such file or directory\n"
     ]
    },
    {
     "name": "stdout",
     "output_type": "stream",
     "text": [
      "Data from 2003-01-01 is not available\n"
     ]
    },
    {
     "name": "stderr",
     "output_type": "stream",
     "text": [
      "ERROR 4: /efs/NPP/NPP/MOD17/MOD17A3HGF.A2003001.h17v08.061.2020168120310.hdf: No such file or directory\n"
     ]
    },
    {
     "name": "stdout",
     "output_type": "stream",
     "text": [
      "Data from 2003-01-01 is not available\n"
     ]
    },
    {
     "name": "stderr",
     "output_type": "stream",
     "text": [
      "ERROR 4: /efs/NPP/NPP/MOD17/MOD17A3HGF.A2003001.h18v08.061.2020168120319.hdf: No such file or directory\n"
     ]
    },
    {
     "name": "stdout",
     "output_type": "stream",
     "text": [
      "Data from 2003-01-01 is not available\n"
     ]
    },
    {
     "name": "stderr",
     "output_type": "stream",
     "text": [
      "ERROR 4: /efs/NPP/NPP/MOD17/MOD17A3HGF.A2003001.h19v08.061.2020168120312.hdf: No such file or directory\n"
     ]
    },
    {
     "name": "stdout",
     "output_type": "stream",
     "text": [
      "Data from 2003-01-01 is not available\n"
     ]
    },
    {
     "name": "stderr",
     "output_type": "stream",
     "text": [
      "ERROR 4: /efs/NPP/NPP/MOD17/MOD17A3HGF.A2003001.h20v08.061.2020168120313.hdf: No such file or directory\n"
     ]
    },
    {
     "name": "stdout",
     "output_type": "stream",
     "text": [
      "Data from 2003-01-01 is not available\n"
     ]
    },
    {
     "name": "stderr",
     "output_type": "stream",
     "text": [
      "ERROR 4: /efs/NPP/NPP/MOD17/MOD17A3HGF.A2003001.h21v08.061.2020168120316.hdf: No such file or directory\n"
     ]
    },
    {
     "name": "stdout",
     "output_type": "stream",
     "text": [
      "Data from 2003-01-01 is not available\n"
     ]
    },
    {
     "name": "stderr",
     "output_type": "stream",
     "text": [
      "ERROR 4: /efs/NPP/NPP/MOD17/MOD17A3HGF.A2003001.h22v08.061.2020168120931.hdf: No such file or directory\n"
     ]
    },
    {
     "name": "stdout",
     "output_type": "stream",
     "text": [
      "Data from 2003-01-01 is not available\n"
     ]
    },
    {
     "name": "stderr",
     "output_type": "stream",
     "text": [
      "ERROR 4: /efs/NPP/NPP/MOD17/MOD17A3HGF.A2003001.h16v09.061.2020168120303.hdf: No such file or directory\n",
      "ERROR 4: /efs/NPP/NPP/MOD17/MOD17A3HGF.A2003001.h16v09.061.2020168120303.hdf: No such file or directory\n"
     ]
    },
    {
     "name": "stdout",
     "output_type": "stream",
     "text": [
      "Data from 2003-01-01 is not available\n"
     ]
    },
    {
     "name": "stderr",
     "output_type": "stream",
     "text": [
      "ERROR 4: /efs/NPP/NPP/MOD17/MOD17A3HGF.A2003001.h18v09.061.2020168120241.hdf: No such file or directory\n"
     ]
    },
    {
     "name": "stdout",
     "output_type": "stream",
     "text": [
      "Data from 2003-01-01 is not available\n"
     ]
    },
    {
     "name": "stderr",
     "output_type": "stream",
     "text": [
      "ERROR 4: /efs/NPP/NPP/MOD17/MOD17A3HGF.A2003001.h19v09.061.2020168120252.hdf: No such file or directory\n"
     ]
    },
    {
     "name": "stdout",
     "output_type": "stream",
     "text": [
      "Data from 2003-01-01 is not available\n"
     ]
    },
    {
     "name": "stderr",
     "output_type": "stream",
     "text": [
      "ERROR 4: /efs/NPP/NPP/MOD17/MOD17A3HGF.A2003001.h20v09.061.2020168120319.hdf: No such file or directory\n"
     ]
    },
    {
     "name": "stdout",
     "output_type": "stream",
     "text": [
      "Data from 2003-01-01 is not available\n"
     ]
    },
    {
     "name": "stderr",
     "output_type": "stream",
     "text": [
      "ERROR 4: /efs/NPP/NPP/MOD17/MOD17A3HGF.A2003001.h21v09.061.2020168120307.hdf: No such file or directory\n"
     ]
    },
    {
     "name": "stdout",
     "output_type": "stream",
     "text": [
      "Data from 2003-01-01 is not available\n"
     ]
    },
    {
     "name": "stderr",
     "output_type": "stream",
     "text": [
      "ERROR 4: /efs/NPP/NPP/MOD17/MOD17A3HGF.A2003001.h22v09.061.2020168120305.hdf: No such file or directory\n",
      "ERROR 4: /efs/NPP/NPP/MOD17/MOD17A3HGF.A2003001.h22v09.061.2020168120305.hdf: No such file or directory\n"
     ]
    },
    {
     "name": "stdout",
     "output_type": "stream",
     "text": [
      "Data from 2003-01-01 is not available\n"
     ]
    },
    {
     "name": "stderr",
     "output_type": "stream",
     "text": [
      "ERROR 4: /efs/NPP/NPP/MOD17/MOD17A3HGF.A2003001.h17v10.061.2020168120233.hdf: No such file or directory\n",
      "ERROR 4: /efs/NPP/NPP/MOD17/MOD17A3HGF.A2003001.h17v10.061.2020168120233.hdf: No such file or directory\n"
     ]
    },
    {
     "name": "stdout",
     "output_type": "stream",
     "text": [
      "Data from 2003-01-01 is not available\n"
     ]
    },
    {
     "name": "stderr",
     "output_type": "stream",
     "text": [
      "ERROR 4: /efs/NPP/NPP/MOD17/MOD17A3HGF.A2003001.h19v10.061.2020168120259.hdf: No such file or directory\n"
     ]
    },
    {
     "name": "stdout",
     "output_type": "stream",
     "text": [
      "Data from 2003-01-01 is not available\n"
     ]
    },
    {
     "name": "stderr",
     "output_type": "stream",
     "text": [
      "ERROR 4: /efs/NPP/NPP/MOD17/MOD17A3HGF.A2003001.h20v10.061.2020168120330.hdf: No such file or directory\n"
     ]
    },
    {
     "name": "stdout",
     "output_type": "stream",
     "text": [
      "Data from 2003-01-01 is not available\n"
     ]
    },
    {
     "name": "stderr",
     "output_type": "stream",
     "text": [
      "ERROR 4: /efs/NPP/NPP/MOD17/MOD17A3HGF.A2003001.h21v10.061.2020168120307.hdf: No such file or directory\n"
     ]
    },
    {
     "name": "stdout",
     "output_type": "stream",
     "text": [
      "Data from 2003-01-01 is not available\n"
     ]
    },
    {
     "name": "stderr",
     "output_type": "stream",
     "text": [
      "ERROR 4: /efs/NPP/NPP/MOD17/MOD17A3HGF.A2003001.h22v10.061.2020168120256.hdf: No such file or directory\n",
      "ERROR 4: /efs/NPP/NPP/MOD17/MOD17A3HGF.A2003001.h22v10.061.2020168120256.hdf: No such file or directory\n",
      "ERROR 4: /efs/NPP/NPP/MOD17/MOD17A3HGF.A2003001.h22v10.061.2020168120256.hdf: No such file or directory\n",
      "ERROR 4: /efs/NPP/NPP/MOD17/MOD17A3HGF.A2003001.h22v10.061.2020168120256.hdf: No such file or directory\n"
     ]
    },
    {
     "name": "stdout",
     "output_type": "stream",
     "text": [
      "Data from 2003-01-01 is not available\n"
     ]
    },
    {
     "name": "stderr",
     "output_type": "stream",
     "text": [
      "ERROR 4: /efs/NPP/NPP/MOD17/MOD17A3HGF.A2003001.h19v11.061.2020168120304.hdf: No such file or directory\n"
     ]
    },
    {
     "name": "stdout",
     "output_type": "stream",
     "text": [
      "Data from 2003-01-01 is not available\n"
     ]
    },
    {
     "name": "stderr",
     "output_type": "stream",
     "text": [
      "ERROR 4: /efs/NPP/NPP/MOD17/MOD17A3HGF.A2003001.h20v11.061.2020168120304.hdf: No such file or directory\n"
     ]
    },
    {
     "name": "stdout",
     "output_type": "stream",
     "text": [
      "Data from 2003-01-01 is not available\n"
     ]
    },
    {
     "name": "stderr",
     "output_type": "stream",
     "text": [
      "ERROR 4: /efs/NPP/NPP/MOD17/MOD17A3HGF.A2003001.h21v11.061.2020168120308.hdf: No such file or directory\n"
     ]
    },
    {
     "name": "stdout",
     "output_type": "stream",
     "text": [
      "Data from 2003-01-01 is not available\n"
     ]
    },
    {
     "name": "stderr",
     "output_type": "stream",
     "text": [
      "ERROR 4: /efs/NPP/NPP/MOD17/MOD17A3HGF.A2003001.h22v11.061.2020168120251.hdf: No such file or directory\n"
     ]
    },
    {
     "name": "stdout",
     "output_type": "stream",
     "text": [
      "Data from 2003-01-01 is not available\n"
     ]
    },
    {
     "name": "stderr",
     "output_type": "stream",
     "text": [
      "ERROR 4: /efs/NPP/NPP/MOD17/MOD17A3HGF.A2003001.h16v12.061.2020168120251.hdf: No such file or directory\n"
     ]
    },
    {
     "name": "stdout",
     "output_type": "stream",
     "text": [
      "Data from 2003-01-01 is not available\n"
     ]
    },
    {
     "name": "stderr",
     "output_type": "stream",
     "text": [
      "ERROR 4: /efs/NPP/NPP/MOD17/MOD17A3HGF.A2003001.h17v12.061.2020168120235.hdf: No such file or directory\n",
      "ERROR 4: /efs/NPP/NPP/MOD17/MOD17A3HGF.A2003001.h17v12.061.2020168120235.hdf: No such file or directory\n"
     ]
    },
    {
     "name": "stdout",
     "output_type": "stream",
     "text": [
      "Data from 2003-01-01 is not available\n"
     ]
    },
    {
     "name": "stderr",
     "output_type": "stream",
     "text": [
      "ERROR 4: /efs/NPP/NPP/MOD17/MOD17A3HGF.A2003001.h19v12.061.2020168120311.hdf: No such file or directory\n"
     ]
    },
    {
     "name": "stdout",
     "output_type": "stream",
     "text": [
      "Data from 2003-01-01 is not available\n"
     ]
    },
    {
     "name": "stderr",
     "output_type": "stream",
     "text": [
      "ERROR 4: /efs/NPP/NPP/MOD17/MOD17A3HGF.A2003001.h20v12.061.2020168120253.hdf: No such file or directory\n",
      "ERROR 4: /efs/NPP/NPP/MOD17/MOD17A3HGF.A2003001.h20v12.061.2020168120253.hdf: No such file or directory\n",
      "ERROR 4: /efs/NPP/NPP/MOD17/MOD17A3HGF.A2003001.h20v12.061.2020168120253.hdf: No such file or directory\n",
      "ERROR 4: /efs/NPP/NPP/MOD17/MOD17A3HGF.A2003001.h20v12.061.2020168120253.hdf: No such file or directory\n"
     ]
    },
    {
     "name": "stdout",
     "output_type": "stream",
     "text": [
      "Data from 2003-01-01 is not available\n"
     ]
    },
    {
     "name": "stderr",
     "output_type": "stream",
     "text": [
      "ERROR 4: /efs/NPP/NPP/MOD17/MOD17A3HGF.A2003001.h17v13.061.2020168120237.hdf: No such file or directory\n",
      "ERROR 4: /efs/NPP/NPP/MOD17/MOD17A3HGF.A2003001.h17v13.061.2020168120237.hdf: No such file or directory\n",
      "ERROR 4: /efs/NPP/NPP/MOD17/MOD17A3HGF.A2003001.h17v13.061.2020168120237.hdf: No such file or directory\n"
     ]
    },
    {
     "name": "stdout",
     "output_type": "stream",
     "text": [
      "Data from 2003-01-01 is not available\n"
     ]
    },
    {
     "name": "stderr",
     "output_type": "stream",
     "text": [
      "ERROR 4: /efs/NPP/NPP/MOD17/MOD17A3HGF.A2003001.h20v13.061.2020168120234.hdf: No such file or directory\n"
     ]
    },
    {
     "name": "stdout",
     "output_type": "stream",
     "text": [
      "Data from 2003-01-01 is not available\n"
     ]
    },
    {
     "name": "stderr",
     "output_type": "stream",
     "text": [
      "ERROR 4: /efs/NPP/NPP/MOD17/MOD17A3HGF.A2003001.h21v13.061.2020168120251.hdf: No such file or directory\n"
     ]
    },
    {
     "name": "stdout",
     "output_type": "stream",
     "text": [
      "Data from 2003-01-01 is not available\n"
     ]
    },
    {
     "name": "stderr",
     "output_type": "stream",
     "text": [
      "ERROR 4: /efs/NPP/NPP/MOD17/MOD17A3HGF.A2003001.h22v13.061.2020168120256.hdf: No such file or directory\n"
     ]
    },
    {
     "name": "stdout",
     "output_type": "stream",
     "text": [
      "Data from 2004-01-01 is not available\n"
     ]
    },
    {
     "name": "stderr",
     "output_type": "stream",
     "text": [
      "ERROR 4: /efs/NPP/NPP/MOD17/MOD17A3HGF.A2004001.h17v04.061.2020243083021.hdf: No such file or directory\n"
     ]
    },
    {
     "name": "stdout",
     "output_type": "stream",
     "text": [
      "Data from 2004-01-01 is not available\n"
     ]
    },
    {
     "name": "stderr",
     "output_type": "stream",
     "text": [
      "ERROR 4: /efs/NPP/NPP/MOD17/MOD17A3HGF.A2004001.h18v04.061.2020243083319.hdf: No such file or directory\n"
     ]
    },
    {
     "name": "stdout",
     "output_type": "stream",
     "text": [
      "Data from 2004-01-01 is not available\n"
     ]
    },
    {
     "name": "stderr",
     "output_type": "stream",
     "text": [
      "ERROR 4: /efs/NPP/NPP/MOD17/MOD17A3HGF.A2004001.h19v04.061.2020243083317.hdf: No such file or directory\n"
     ]
    },
    {
     "name": "stdout",
     "output_type": "stream",
     "text": [
      "Data from 2004-01-01 is not available\n"
     ]
    },
    {
     "name": "stderr",
     "output_type": "stream",
     "text": [
      "ERROR 4: /efs/NPP/NPP/MOD17/MOD17A3HGF.A2004001.h20v04.061.2020243083308.hdf: No such file or directory\n"
     ]
    },
    {
     "name": "stdout",
     "output_type": "stream",
     "text": [
      "Data from 2004-01-01 is not available\n"
     ]
    },
    {
     "name": "stderr",
     "output_type": "stream",
     "text": [
      "ERROR 4: /efs/NPP/NPP/MOD17/MOD17A3HGF.A2004001.h21v04.061.2020243083040.hdf: No such file or directory\n"
     ]
    },
    {
     "name": "stdout",
     "output_type": "stream",
     "text": [
      "Data from 2004-01-01 is not available\n"
     ]
    },
    {
     "name": "stderr",
     "output_type": "stream",
     "text": [
      "ERROR 4: /efs/NPP/NPP/MOD17/MOD17A3HGF.A2004001.h22v04.061.2020243083302.hdf: No such file or directory\n"
     ]
    },
    {
     "name": "stdout",
     "output_type": "stream",
     "text": [
      "Data from 2004-01-01 is not available\n"
     ]
    },
    {
     "name": "stderr",
     "output_type": "stream",
     "text": [
      "ERROR 4: /efs/NPP/NPP/MOD17/MOD17A3HGF.A2004001.h16v05.061.2020243083359.hdf: No such file or directory\n"
     ]
    },
    {
     "name": "stdout",
     "output_type": "stream",
     "text": [
      "Data from 2004-01-01 is not available\n"
     ]
    },
    {
     "name": "stderr",
     "output_type": "stream",
     "text": [
      "ERROR 4: /efs/NPP/NPP/MOD17/MOD17A3HGF.A2004001.h17v05.061.2020243083249.hdf: No such file or directory\n"
     ]
    },
    {
     "name": "stdout",
     "output_type": "stream",
     "text": [
      "Data from 2004-01-01 is not available\n"
     ]
    },
    {
     "name": "stderr",
     "output_type": "stream",
     "text": [
      "ERROR 4: /efs/NPP/NPP/MOD17/MOD17A3HGF.A2004001.h18v05.061.2020243083016.hdf: No such file or directory\n"
     ]
    },
    {
     "name": "stdout",
     "output_type": "stream",
     "text": [
      "Data from 2004-01-01 is not available\n"
     ]
    },
    {
     "name": "stderr",
     "output_type": "stream",
     "text": [
      "ERROR 4: /efs/NPP/NPP/MOD17/MOD17A3HGF.A2004001.h19v05.061.2020243083243.hdf: No such file or directory\n"
     ]
    },
    {
     "name": "stdout",
     "output_type": "stream",
     "text": [
      "Data from 2004-01-01 is not available\n"
     ]
    },
    {
     "name": "stderr",
     "output_type": "stream",
     "text": [
      "ERROR 4: /efs/NPP/NPP/MOD17/MOD17A3HGF.A2004001.h20v05.061.2020243083027.hdf: No such file or directory\n"
     ]
    },
    {
     "name": "stdout",
     "output_type": "stream",
     "text": [
      "Data from 2004-01-01 is not available\n"
     ]
    },
    {
     "name": "stderr",
     "output_type": "stream",
     "text": [
      "ERROR 4: /efs/NPP/NPP/MOD17/MOD17A3HGF.A2004001.h21v05.061.2020243083032.hdf: No such file or directory\n"
     ]
    },
    {
     "name": "stdout",
     "output_type": "stream",
     "text": [
      "Data from 2004-01-01 is not available\n"
     ]
    },
    {
     "name": "stderr",
     "output_type": "stream",
     "text": [
      "ERROR 4: /efs/NPP/NPP/MOD17/MOD17A3HGF.A2004001.h22v05.061.2020243083035.hdf: No such file or directory\n"
     ]
    },
    {
     "name": "stdout",
     "output_type": "stream",
     "text": [
      "Data from 2004-01-01 is not available\n"
     ]
    },
    {
     "name": "stderr",
     "output_type": "stream",
     "text": [
      "ERROR 4: /efs/NPP/NPP/MOD17/MOD17A3HGF.A2004001.h16v06.061.2020243083243.hdf: No such file or directory\n"
     ]
    },
    {
     "name": "stdout",
     "output_type": "stream",
     "text": [
      "Data from 2004-01-01 is not available\n"
     ]
    },
    {
     "name": "stderr",
     "output_type": "stream",
     "text": [
      "ERROR 4: /efs/NPP/NPP/MOD17/MOD17A3HGF.A2004001.h17v06.061.2020243083245.hdf: No such file or directory\n"
     ]
    },
    {
     "name": "stdout",
     "output_type": "stream",
     "text": [
      "Data from 2004-01-01 is not available\n"
     ]
    },
    {
     "name": "stderr",
     "output_type": "stream",
     "text": [
      "ERROR 4: /efs/NPP/NPP/MOD17/MOD17A3HGF.A2004001.h18v06.061.2020243083253.hdf: No such file or directory\n"
     ]
    },
    {
     "name": "stdout",
     "output_type": "stream",
     "text": [
      "Data from 2004-01-01 is not available\n"
     ]
    },
    {
     "name": "stderr",
     "output_type": "stream",
     "text": [
      "ERROR 4: /efs/NPP/NPP/MOD17/MOD17A3HGF.A2004001.h19v06.061.2020243083243.hdf: No such file or directory\n"
     ]
    },
    {
     "name": "stdout",
     "output_type": "stream",
     "text": [
      "Data from 2004-01-01 is not available\n"
     ]
    },
    {
     "name": "stderr",
     "output_type": "stream",
     "text": [
      "ERROR 4: /efs/NPP/NPP/MOD17/MOD17A3HGF.A2004001.h20v06.061.2020243083022.hdf: No such file or directory\n"
     ]
    },
    {
     "name": "stdout",
     "output_type": "stream",
     "text": [
      "Data from 2004-01-01 is not available\n"
     ]
    },
    {
     "name": "stderr",
     "output_type": "stream",
     "text": [
      "ERROR 4: /efs/NPP/NPP/MOD17/MOD17A3HGF.A2004001.h21v06.061.2020243083022.hdf: No such file or directory\n"
     ]
    },
    {
     "name": "stdout",
     "output_type": "stream",
     "text": [
      "Data from 2004-01-01 is not available\n"
     ]
    },
    {
     "name": "stderr",
     "output_type": "stream",
     "text": [
      "ERROR 4: /efs/NPP/NPP/MOD17/MOD17A3HGF.A2004001.h22v06.061.2020243083029.hdf: No such file or directory\n"
     ]
    },
    {
     "name": "stdout",
     "output_type": "stream",
     "text": [
      "Data from 2004-01-01 is not available\n"
     ]
    },
    {
     "name": "stderr",
     "output_type": "stream",
     "text": [
      "ERROR 4: /efs/NPP/NPP/MOD17/MOD17A3HGF.A2004001.h16v07.061.2020243083254.hdf: No such file or directory\n"
     ]
    },
    {
     "name": "stdout",
     "output_type": "stream",
     "text": [
      "Data from 2004-01-01 is not available\n"
     ]
    },
    {
     "name": "stderr",
     "output_type": "stream",
     "text": [
      "ERROR 4: /efs/NPP/NPP/MOD17/MOD17A3HGF.A2004001.h17v07.061.2020243083306.hdf: No such file or directory\n"
     ]
    },
    {
     "name": "stdout",
     "output_type": "stream",
     "text": [
      "Data from 2004-01-01 is not available\n"
     ]
    },
    {
     "name": "stderr",
     "output_type": "stream",
     "text": [
      "ERROR 4: /efs/NPP/NPP/MOD17/MOD17A3HGF.A2004001.h18v07.061.2020243083313.hdf: No such file or directory\n"
     ]
    },
    {
     "name": "stdout",
     "output_type": "stream",
     "text": [
      "Data from 2004-01-01 is not available\n"
     ]
    },
    {
     "name": "stderr",
     "output_type": "stream",
     "text": [
      "ERROR 4: /efs/NPP/NPP/MOD17/MOD17A3HGF.A2004001.h19v07.061.2020243083308.hdf: No such file or directory\n"
     ]
    },
    {
     "name": "stdout",
     "output_type": "stream",
     "text": [
      "Data from 2004-01-01 is not available\n"
     ]
    },
    {
     "name": "stderr",
     "output_type": "stream",
     "text": [
      "ERROR 4: /efs/NPP/NPP/MOD17/MOD17A3HGF.A2004001.h20v07.061.2020243083306.hdf: No such file or directory\n"
     ]
    },
    {
     "name": "stdout",
     "output_type": "stream",
     "text": [
      "Data from 2004-01-01 is not available\n"
     ]
    },
    {
     "name": "stderr",
     "output_type": "stream",
     "text": [
      "ERROR 4: /efs/NPP/NPP/MOD17/MOD17A3HGF.A2004001.h21v07.061.2020243083310.hdf: No such file or directory\n"
     ]
    },
    {
     "name": "stdout",
     "output_type": "stream",
     "text": [
      "Data from 2004-01-01 is not available\n"
     ]
    },
    {
     "name": "stderr",
     "output_type": "stream",
     "text": [
      "ERROR 4: /efs/NPP/NPP/MOD17/MOD17A3HGF.A2004001.h22v07.061.2020243083017.hdf: No such file or directory\n"
     ]
    },
    {
     "name": "stdout",
     "output_type": "stream",
     "text": [
      "Data from 2004-01-01 is not available\n"
     ]
    },
    {
     "name": "stderr",
     "output_type": "stream",
     "text": [
      "ERROR 4: /efs/NPP/NPP/MOD17/MOD17A3HGF.A2004001.h16v08.061.2020243083020.hdf: No such file or directory\n"
     ]
    },
    {
     "name": "stdout",
     "output_type": "stream",
     "text": [
      "Data from 2004-01-01 is not available\n"
     ]
    },
    {
     "name": "stderr",
     "output_type": "stream",
     "text": [
      "ERROR 4: /efs/NPP/NPP/MOD17/MOD17A3HGF.A2004001.h17v08.061.2020243083245.hdf: No such file or directory\n"
     ]
    },
    {
     "name": "stdout",
     "output_type": "stream",
     "text": [
      "Data from 2004-01-01 is not available\n"
     ]
    },
    {
     "name": "stderr",
     "output_type": "stream",
     "text": [
      "ERROR 4: /efs/NPP/NPP/MOD17/MOD17A3HGF.A2004001.h18v08.061.2020243083250.hdf: No such file or directory\n"
     ]
    },
    {
     "name": "stdout",
     "output_type": "stream",
     "text": [
      "Data from 2004-01-01 is not available\n"
     ]
    },
    {
     "name": "stderr",
     "output_type": "stream",
     "text": [
      "ERROR 4: /efs/NPP/NPP/MOD17/MOD17A3HGF.A2004001.h19v08.061.2020243083305.hdf: No such file or directory\n"
     ]
    },
    {
     "name": "stdout",
     "output_type": "stream",
     "text": [
      "Data from 2004-01-01 is not available\n"
     ]
    },
    {
     "name": "stderr",
     "output_type": "stream",
     "text": [
      "ERROR 4: /efs/NPP/NPP/MOD17/MOD17A3HGF.A2004001.h20v08.061.2020243083327.hdf: No such file or directory\n"
     ]
    },
    {
     "name": "stdout",
     "output_type": "stream",
     "text": [
      "Data from 2004-01-01 is not available\n"
     ]
    },
    {
     "name": "stderr",
     "output_type": "stream",
     "text": [
      "ERROR 4: /efs/NPP/NPP/MOD17/MOD17A3HGF.A2004001.h21v08.061.2020243083304.hdf: No such file or directory\n"
     ]
    },
    {
     "name": "stdout",
     "output_type": "stream",
     "text": [
      "Data from 2004-01-01 is not available\n"
     ]
    },
    {
     "name": "stderr",
     "output_type": "stream",
     "text": [
      "ERROR 4: /efs/NPP/NPP/MOD17/MOD17A3HGF.A2004001.h22v08.061.2020243083304.hdf: No such file or directory\n"
     ]
    },
    {
     "name": "stdout",
     "output_type": "stream",
     "text": [
      "Data from 2004-01-01 is not available\n"
     ]
    },
    {
     "name": "stderr",
     "output_type": "stream",
     "text": [
      "ERROR 4: /efs/NPP/NPP/MOD17/MOD17A3HGF.A2004001.h16v09.061.2020243083242.hdf: No such file or directory\n",
      "ERROR 4: /efs/NPP/NPP/MOD17/MOD17A3HGF.A2004001.h16v09.061.2020243083242.hdf: No such file or directory\n"
     ]
    },
    {
     "name": "stdout",
     "output_type": "stream",
     "text": [
      "Data from 2004-01-01 is not available\n"
     ]
    },
    {
     "name": "stderr",
     "output_type": "stream",
     "text": [
      "ERROR 4: /efs/NPP/NPP/MOD17/MOD17A3HGF.A2004001.h18v09.061.2020243083016.hdf: No such file or directory\n"
     ]
    },
    {
     "name": "stdout",
     "output_type": "stream",
     "text": [
      "Data from 2004-01-01 is not available\n"
     ]
    },
    {
     "name": "stderr",
     "output_type": "stream",
     "text": [
      "ERROR 4: /efs/NPP/NPP/MOD17/MOD17A3HGF.A2004001.h19v09.061.2020243083308.hdf: No such file or directory\n"
     ]
    },
    {
     "name": "stdout",
     "output_type": "stream",
     "text": [
      "Data from 2004-01-01 is not available\n"
     ]
    },
    {
     "name": "stderr",
     "output_type": "stream",
     "text": [
      "ERROR 4: /efs/NPP/NPP/MOD17/MOD17A3HGF.A2004001.h20v09.061.2020243083311.hdf: No such file or directory\n"
     ]
    },
    {
     "name": "stdout",
     "output_type": "stream",
     "text": [
      "Data from 2004-01-01 is not available\n"
     ]
    },
    {
     "name": "stderr",
     "output_type": "stream",
     "text": [
      "ERROR 4: /efs/NPP/NPP/MOD17/MOD17A3HGF.A2004001.h21v09.061.2020243083037.hdf: No such file or directory\n"
     ]
    },
    {
     "name": "stdout",
     "output_type": "stream",
     "text": [
      "Data from 2004-01-01 is not available\n"
     ]
    },
    {
     "name": "stderr",
     "output_type": "stream",
     "text": [
      "ERROR 4: /efs/NPP/NPP/MOD17/MOD17A3HGF.A2004001.h22v09.061.2020243083239.hdf: No such file or directory\n",
      "ERROR 4: /efs/NPP/NPP/MOD17/MOD17A3HGF.A2004001.h22v09.061.2020243083239.hdf: No such file or directory\n"
     ]
    },
    {
     "name": "stdout",
     "output_type": "stream",
     "text": [
      "Data from 2004-01-01 is not available\n"
     ]
    },
    {
     "name": "stderr",
     "output_type": "stream",
     "text": [
      "ERROR 4: /efs/NPP/NPP/MOD17/MOD17A3HGF.A2004001.h17v10.061.2020243083238.hdf: No such file or directory\n",
      "ERROR 4: /efs/NPP/NPP/MOD17/MOD17A3HGF.A2004001.h17v10.061.2020243083238.hdf: No such file or directory\n"
     ]
    },
    {
     "name": "stdout",
     "output_type": "stream",
     "text": [
      "Data from 2004-01-01 is not available\n"
     ]
    },
    {
     "name": "stderr",
     "output_type": "stream",
     "text": [
      "ERROR 4: /efs/NPP/NPP/MOD17/MOD17A3HGF.A2004001.h19v10.061.2020243083257.hdf: No such file or directory\n"
     ]
    },
    {
     "name": "stdout",
     "output_type": "stream",
     "text": [
      "Data from 2004-01-01 is not available\n"
     ]
    },
    {
     "name": "stderr",
     "output_type": "stream",
     "text": [
      "ERROR 4: /efs/NPP/NPP/MOD17/MOD17A3HGF.A2004001.h20v10.061.2020243083316.hdf: No such file or directory\n"
     ]
    },
    {
     "name": "stdout",
     "output_type": "stream",
     "text": [
      "Data from 2004-01-01 is not available\n"
     ]
    },
    {
     "name": "stderr",
     "output_type": "stream",
     "text": [
      "ERROR 4: /efs/NPP/NPP/MOD17/MOD17A3HGF.A2004001.h21v10.061.2020243083302.hdf: No such file or directory\n"
     ]
    },
    {
     "name": "stdout",
     "output_type": "stream",
     "text": [
      "Data from 2004-01-01 is not available\n"
     ]
    },
    {
     "name": "stderr",
     "output_type": "stream",
     "text": [
      "ERROR 4: /efs/NPP/NPP/MOD17/MOD17A3HGF.A2004001.h22v10.061.2020243083255.hdf: No such file or directory\n",
      "ERROR 4: /efs/NPP/NPP/MOD17/MOD17A3HGF.A2004001.h22v10.061.2020243083255.hdf: No such file or directory\n",
      "ERROR 4: /efs/NPP/NPP/MOD17/MOD17A3HGF.A2004001.h22v10.061.2020243083255.hdf: No such file or directory\n",
      "ERROR 4: /efs/NPP/NPP/MOD17/MOD17A3HGF.A2004001.h22v10.061.2020243083255.hdf: No such file or directory\n"
     ]
    },
    {
     "name": "stdout",
     "output_type": "stream",
     "text": [
      "Data from 2004-01-01 is not available\n"
     ]
    },
    {
     "name": "stderr",
     "output_type": "stream",
     "text": [
      "ERROR 4: /efs/NPP/NPP/MOD17/MOD17A3HGF.A2004001.h19v11.061.2020243083308.hdf: No such file or directory\n"
     ]
    },
    {
     "name": "stdout",
     "output_type": "stream",
     "text": [
      "Data from 2004-01-01 is not available\n"
     ]
    },
    {
     "name": "stderr",
     "output_type": "stream",
     "text": [
      "ERROR 4: /efs/NPP/NPP/MOD17/MOD17A3HGF.A2004001.h20v11.061.2020243083307.hdf: No such file or directory\n"
     ]
    },
    {
     "name": "stdout",
     "output_type": "stream",
     "text": [
      "Data from 2004-01-01 is not available\n"
     ]
    },
    {
     "name": "stderr",
     "output_type": "stream",
     "text": [
      "ERROR 4: /efs/NPP/NPP/MOD17/MOD17A3HGF.A2004001.h21v11.061.2020243083239.hdf: No such file or directory\n"
     ]
    },
    {
     "name": "stdout",
     "output_type": "stream",
     "text": [
      "Data from 2004-01-01 is not available\n"
     ]
    },
    {
     "name": "stderr",
     "output_type": "stream",
     "text": [
      "ERROR 4: /efs/NPP/NPP/MOD17/MOD17A3HGF.A2004001.h22v11.061.2020243083243.hdf: No such file or directory\n"
     ]
    },
    {
     "name": "stdout",
     "output_type": "stream",
     "text": [
      "Data from 2004-01-01 is not available\n"
     ]
    },
    {
     "name": "stderr",
     "output_type": "stream",
     "text": [
      "ERROR 4: /efs/NPP/NPP/MOD17/MOD17A3HGF.A2004001.h16v12.061.2020243083238.hdf: No such file or directory\n"
     ]
    },
    {
     "name": "stdout",
     "output_type": "stream",
     "text": [
      "Data from 2004-01-01 is not available\n"
     ]
    },
    {
     "name": "stderr",
     "output_type": "stream",
     "text": [
      "ERROR 4: /efs/NPP/NPP/MOD17/MOD17A3HGF.A2004001.h17v12.061.2020243083027.hdf: No such file or directory\n",
      "ERROR 4: /efs/NPP/NPP/MOD17/MOD17A3HGF.A2004001.h17v12.061.2020243083027.hdf: No such file or directory\n"
     ]
    },
    {
     "name": "stdout",
     "output_type": "stream",
     "text": [
      "Data from 2004-01-01 is not available\n"
     ]
    },
    {
     "name": "stderr",
     "output_type": "stream",
     "text": [
      "ERROR 4: /efs/NPP/NPP/MOD17/MOD17A3HGF.A2004001.h19v12.061.2020243083313.hdf: No such file or directory\n"
     ]
    },
    {
     "name": "stdout",
     "output_type": "stream",
     "text": [
      "Data from 2004-01-01 is not available\n"
     ]
    },
    {
     "name": "stderr",
     "output_type": "stream",
     "text": [
      "ERROR 4: /efs/NPP/NPP/MOD17/MOD17A3HGF.A2004001.h20v12.061.2020243083022.hdf: No such file or directory\n",
      "ERROR 4: /efs/NPP/NPP/MOD17/MOD17A3HGF.A2004001.h20v12.061.2020243083022.hdf: No such file or directory\n",
      "ERROR 4: /efs/NPP/NPP/MOD17/MOD17A3HGF.A2004001.h20v12.061.2020243083022.hdf: No such file or directory\n",
      "ERROR 4: /efs/NPP/NPP/MOD17/MOD17A3HGF.A2004001.h20v12.061.2020243083022.hdf: No such file or directory\n"
     ]
    },
    {
     "name": "stdout",
     "output_type": "stream",
     "text": [
      "Data from 2004-01-01 is not available\n"
     ]
    },
    {
     "name": "stderr",
     "output_type": "stream",
     "text": [
      "ERROR 4: /efs/NPP/NPP/MOD17/MOD17A3HGF.A2004001.h17v13.061.2020243083230.hdf: No such file or directory\n",
      "ERROR 4: /efs/NPP/NPP/MOD17/MOD17A3HGF.A2004001.h17v13.061.2020243083230.hdf: No such file or directory\n",
      "ERROR 4: /efs/NPP/NPP/MOD17/MOD17A3HGF.A2004001.h17v13.061.2020243083230.hdf: No such file or directory\n"
     ]
    },
    {
     "name": "stdout",
     "output_type": "stream",
     "text": [
      "Data from 2004-01-01 is not available\n"
     ]
    },
    {
     "name": "stderr",
     "output_type": "stream",
     "text": [
      "ERROR 4: /efs/NPP/NPP/MOD17/MOD17A3HGF.A2004001.h20v13.061.2020243083022.hdf: No such file or directory\n"
     ]
    },
    {
     "name": "stdout",
     "output_type": "stream",
     "text": [
      "Data from 2004-01-01 is not available\n"
     ]
    },
    {
     "name": "stderr",
     "output_type": "stream",
     "text": [
      "ERROR 4: /efs/NPP/NPP/MOD17/MOD17A3HGF.A2004001.h21v13.061.2020243083248.hdf: No such file or directory\n"
     ]
    },
    {
     "name": "stdout",
     "output_type": "stream",
     "text": [
      "Data from 2004-01-01 is not available\n"
     ]
    },
    {
     "name": "stderr",
     "output_type": "stream",
     "text": [
      "ERROR 4: /efs/NPP/NPP/MOD17/MOD17A3HGF.A2004001.h22v13.061.2020243083250.hdf: No such file or directory\n"
     ]
    },
    {
     "name": "stdout",
     "output_type": "stream",
     "text": [
      "Data from 2005-01-01 is not available\n"
     ]
    },
    {
     "name": "stderr",
     "output_type": "stream",
     "text": [
      "ERROR 4: /efs/NPP/NPP/MOD17/MOD17A3HGF.A2005001.h17v04.061.2020258190811.hdf: No such file or directory\n"
     ]
    },
    {
     "name": "stdout",
     "output_type": "stream",
     "text": [
      "Data from 2005-01-01 is not available\n"
     ]
    },
    {
     "name": "stderr",
     "output_type": "stream",
     "text": [
      "ERROR 4: /efs/NPP/NPP/MOD17/MOD17A3HGF.A2005001.h18v04.061.2020258194226.hdf: No such file or directory\n"
     ]
    },
    {
     "name": "stdout",
     "output_type": "stream",
     "text": [
      "Data from 2005-01-01 is not available\n"
     ]
    },
    {
     "name": "stderr",
     "output_type": "stream",
     "text": [
      "ERROR 4: /efs/NPP/NPP/MOD17/MOD17A3HGF.A2005001.h19v04.061.2020258195926.hdf: No such file or directory\n"
     ]
    },
    {
     "name": "stdout",
     "output_type": "stream",
     "text": [
      "Data from 2005-01-01 is not available\n"
     ]
    },
    {
     "name": "stderr",
     "output_type": "stream",
     "text": [
      "ERROR 4: /efs/NPP/NPP/MOD17/MOD17A3HGF.A2005001.h20v04.061.2020258194204.hdf: No such file or directory\n"
     ]
    },
    {
     "name": "stdout",
     "output_type": "stream",
     "text": [
      "Data from 2005-01-01 is not available\n"
     ]
    },
    {
     "name": "stderr",
     "output_type": "stream",
     "text": [
      "ERROR 4: /efs/NPP/NPP/MOD17/MOD17A3HGF.A2005001.h21v04.061.2020258194216.hdf: No such file or directory\n"
     ]
    },
    {
     "name": "stdout",
     "output_type": "stream",
     "text": [
      "Data from 2005-01-01 is not available\n"
     ]
    },
    {
     "name": "stderr",
     "output_type": "stream",
     "text": [
      "ERROR 4: /efs/NPP/NPP/MOD17/MOD17A3HGF.A2005001.h22v04.061.2020258191138.hdf: No such file or directory\n"
     ]
    },
    {
     "name": "stdout",
     "output_type": "stream",
     "text": [
      "Data from 2005-01-01 is not available\n"
     ]
    },
    {
     "name": "stderr",
     "output_type": "stream",
     "text": [
      "ERROR 4: /efs/NPP/NPP/MOD17/MOD17A3HGF.A2005001.h16v05.061.2020258194141.hdf: No such file or directory\n"
     ]
    },
    {
     "name": "stdout",
     "output_type": "stream",
     "text": [
      "Data from 2005-01-01 is not available\n"
     ]
    },
    {
     "name": "stderr",
     "output_type": "stream",
     "text": [
      "ERROR 4: /efs/NPP/NPP/MOD17/MOD17A3HGF.A2005001.h17v05.061.2020258193252.hdf: No such file or directory\n"
     ]
    },
    {
     "name": "stdout",
     "output_type": "stream",
     "text": [
      "Data from 2005-01-01 is not available\n"
     ]
    },
    {
     "name": "stderr",
     "output_type": "stream",
     "text": [
      "ERROR 4: /efs/NPP/NPP/MOD17/MOD17A3HGF.A2005001.h18v05.061.2020258194235.hdf: No such file or directory\n"
     ]
    },
    {
     "name": "stdout",
     "output_type": "stream",
     "text": [
      "Data from 2005-01-01 is not available\n"
     ]
    },
    {
     "name": "stderr",
     "output_type": "stream",
     "text": [
      "ERROR 4: /efs/NPP/NPP/MOD17/MOD17A3HGF.A2005001.h19v05.061.2020258191620.hdf: No such file or directory\n"
     ]
    },
    {
     "name": "stdout",
     "output_type": "stream",
     "text": [
      "Data from 2005-01-01 is not available\n"
     ]
    },
    {
     "name": "stderr",
     "output_type": "stream",
     "text": [
      "ERROR 4: /efs/NPP/NPP/MOD17/MOD17A3HGF.A2005001.h20v05.061.2020258195439.hdf: No such file or directory\n"
     ]
    },
    {
     "name": "stdout",
     "output_type": "stream",
     "text": [
      "Data from 2005-01-01 is not available\n"
     ]
    },
    {
     "name": "stderr",
     "output_type": "stream",
     "text": [
      "ERROR 4: /efs/NPP/NPP/MOD17/MOD17A3HGF.A2005001.h21v05.061.2020258191552.hdf: No such file or directory\n"
     ]
    },
    {
     "name": "stdout",
     "output_type": "stream",
     "text": [
      "Data from 2005-01-01 is not available\n"
     ]
    },
    {
     "name": "stderr",
     "output_type": "stream",
     "text": [
      "ERROR 4: /efs/NPP/NPP/MOD17/MOD17A3HGF.A2005001.h22v05.061.2020258194212.hdf: No such file or directory\n"
     ]
    },
    {
     "name": "stdout",
     "output_type": "stream",
     "text": [
      "Data from 2005-01-01 is not available\n"
     ]
    },
    {
     "name": "stderr",
     "output_type": "stream",
     "text": [
      "ERROR 4: /efs/NPP/NPP/MOD17/MOD17A3HGF.A2005001.h16v06.061.2020258193228.hdf: No such file or directory\n"
     ]
    },
    {
     "name": "stdout",
     "output_type": "stream",
     "text": [
      "Data from 2005-01-01 is not available\n"
     ]
    },
    {
     "name": "stderr",
     "output_type": "stream",
     "text": [
      "ERROR 4: /efs/NPP/NPP/MOD17/MOD17A3HGF.A2005001.h17v06.061.2020258191543.hdf: No such file or directory\n"
     ]
    },
    {
     "name": "stdout",
     "output_type": "stream",
     "text": [
      "Data from 2005-01-01 is not available\n"
     ]
    },
    {
     "name": "stderr",
     "output_type": "stream",
     "text": [
      "ERROR 4: /efs/NPP/NPP/MOD17/MOD17A3HGF.A2005001.h18v06.061.2020258193228.hdf: No such file or directory\n"
     ]
    },
    {
     "name": "stdout",
     "output_type": "stream",
     "text": [
      "Data from 2005-01-01 is not available\n"
     ]
    },
    {
     "name": "stderr",
     "output_type": "stream",
     "text": [
      "ERROR 4: /efs/NPP/NPP/MOD17/MOD17A3HGF.A2005001.h19v06.061.2020258194154.hdf: No such file or directory\n"
     ]
    },
    {
     "name": "stdout",
     "output_type": "stream",
     "text": [
      "Data from 2005-01-01 is not available\n"
     ]
    },
    {
     "name": "stderr",
     "output_type": "stream",
     "text": [
      "ERROR 4: /efs/NPP/NPP/MOD17/MOD17A3HGF.A2005001.h20v06.061.2020258194204.hdf: No such file or directory\n"
     ]
    },
    {
     "name": "stdout",
     "output_type": "stream",
     "text": [
      "Data from 2005-01-01 is not available\n"
     ]
    },
    {
     "name": "stderr",
     "output_type": "stream",
     "text": [
      "ERROR 4: /efs/NPP/NPP/MOD17/MOD17A3HGF.A2005001.h21v06.061.2020258194150.hdf: No such file or directory\n"
     ]
    },
    {
     "name": "stdout",
     "output_type": "stream",
     "text": [
      "Data from 2005-01-01 is not available\n"
     ]
    },
    {
     "name": "stderr",
     "output_type": "stream",
     "text": [
      "ERROR 4: /efs/NPP/NPP/MOD17/MOD17A3HGF.A2005001.h22v06.061.2020258191550.hdf: No such file or directory\n"
     ]
    },
    {
     "name": "stdout",
     "output_type": "stream",
     "text": [
      "Data from 2005-01-01 is not available\n"
     ]
    },
    {
     "name": "stderr",
     "output_type": "stream",
     "text": [
      "ERROR 4: /efs/NPP/NPP/MOD17/MOD17A3HGF.A2005001.h16v07.061.2020258192712.hdf: No such file or directory\n"
     ]
    },
    {
     "name": "stdout",
     "output_type": "stream",
     "text": [
      "Data from 2005-01-01 is not available\n"
     ]
    },
    {
     "name": "stderr",
     "output_type": "stream",
     "text": [
      "ERROR 4: /efs/NPP/NPP/MOD17/MOD17A3HGF.A2005001.h17v07.061.2020258194354.hdf: No such file or directory\n"
     ]
    },
    {
     "name": "stdout",
     "output_type": "stream",
     "text": [
      "Data from 2005-01-01 is not available\n"
     ]
    },
    {
     "name": "stderr",
     "output_type": "stream",
     "text": [
      "ERROR 4: /efs/NPP/NPP/MOD17/MOD17A3HGF.A2005001.h18v07.061.2020258193247.hdf: No such file or directory\n"
     ]
    },
    {
     "name": "stdout",
     "output_type": "stream",
     "text": [
      "Data from 2005-01-01 is not available\n"
     ]
    },
    {
     "name": "stderr",
     "output_type": "stream",
     "text": [
      "ERROR 4: /efs/NPP/NPP/MOD17/MOD17A3HGF.A2005001.h19v07.061.2020258194205.hdf: No such file or directory\n"
     ]
    },
    {
     "name": "stdout",
     "output_type": "stream",
     "text": [
      "Data from 2005-01-01 is not available\n"
     ]
    },
    {
     "name": "stderr",
     "output_type": "stream",
     "text": [
      "ERROR 4: /efs/NPP/NPP/MOD17/MOD17A3HGF.A2005001.h20v07.061.2020258193416.hdf: No such file or directory\n"
     ]
    },
    {
     "name": "stdout",
     "output_type": "stream",
     "text": [
      "Data from 2005-01-01 is not available\n"
     ]
    },
    {
     "name": "stderr",
     "output_type": "stream",
     "text": [
      "ERROR 4: /efs/NPP/NPP/MOD17/MOD17A3HGF.A2005001.h21v07.061.2020258194213.hdf: No such file or directory\n"
     ]
    },
    {
     "name": "stdout",
     "output_type": "stream",
     "text": [
      "Data from 2005-01-01 is not available\n"
     ]
    },
    {
     "name": "stderr",
     "output_type": "stream",
     "text": [
      "ERROR 4: /efs/NPP/NPP/MOD17/MOD17A3HGF.A2005001.h22v07.061.2020258194205.hdf: No such file or directory\n"
     ]
    },
    {
     "name": "stdout",
     "output_type": "stream",
     "text": [
      "Data from 2005-01-01 is not available\n"
     ]
    },
    {
     "name": "stderr",
     "output_type": "stream",
     "text": [
      "ERROR 4: /efs/NPP/NPP/MOD17/MOD17A3HGF.A2005001.h16v08.061.2020258192252.hdf: No such file or directory\n"
     ]
    },
    {
     "name": "stdout",
     "output_type": "stream",
     "text": [
      "Data from 2005-01-01 is not available\n"
     ]
    },
    {
     "name": "stderr",
     "output_type": "stream",
     "text": [
      "ERROR 4: /efs/NPP/NPP/MOD17/MOD17A3HGF.A2005001.h17v08.061.2020258194153.hdf: No such file or directory\n"
     ]
    },
    {
     "name": "stdout",
     "output_type": "stream",
     "text": [
      "Data from 2005-01-01 is not available\n"
     ]
    },
    {
     "name": "stderr",
     "output_type": "stream",
     "text": [
      "ERROR 4: /efs/NPP/NPP/MOD17/MOD17A3HGF.A2005001.h18v08.061.2020258194226.hdf: No such file or directory\n"
     ]
    },
    {
     "name": "stdout",
     "output_type": "stream",
     "text": [
      "Data from 2005-01-01 is not available\n"
     ]
    },
    {
     "name": "stderr",
     "output_type": "stream",
     "text": [
      "ERROR 4: /efs/NPP/NPP/MOD17/MOD17A3HGF.A2005001.h19v08.061.2020258194221.hdf: No such file or directory\n"
     ]
    },
    {
     "name": "stdout",
     "output_type": "stream",
     "text": [
      "Data from 2005-01-01 is not available\n"
     ]
    },
    {
     "name": "stderr",
     "output_type": "stream",
     "text": [
      "ERROR 4: /efs/NPP/NPP/MOD17/MOD17A3HGF.A2005001.h20v08.061.2020258194218.hdf: No such file or directory\n"
     ]
    },
    {
     "name": "stdout",
     "output_type": "stream",
     "text": [
      "Data from 2005-01-01 is not available\n"
     ]
    },
    {
     "name": "stderr",
     "output_type": "stream",
     "text": [
      "ERROR 4: /efs/NPP/NPP/MOD17/MOD17A3HGF.A2005001.h21v08.061.2020258192327.hdf: No such file or directory\n"
     ]
    },
    {
     "name": "stdout",
     "output_type": "stream",
     "text": [
      "Data from 2005-01-01 is not available\n"
     ]
    },
    {
     "name": "stderr",
     "output_type": "stream",
     "text": [
      "ERROR 4: /efs/NPP/NPP/MOD17/MOD17A3HGF.A2005001.h22v08.061.2020258192254.hdf: No such file or directory\n"
     ]
    },
    {
     "name": "stdout",
     "output_type": "stream",
     "text": [
      "Data from 2005-01-01 is not available\n"
     ]
    },
    {
     "name": "stderr",
     "output_type": "stream",
     "text": [
      "ERROR 4: /efs/NPP/NPP/MOD17/MOD17A3HGF.A2005001.h16v09.061.2020258191609.hdf: No such file or directory\n",
      "ERROR 4: /efs/NPP/NPP/MOD17/MOD17A3HGF.A2005001.h16v09.061.2020258191609.hdf: No such file or directory\n"
     ]
    },
    {
     "name": "stdout",
     "output_type": "stream",
     "text": [
      "Data from 2005-01-01 is not available\n"
     ]
    },
    {
     "name": "stderr",
     "output_type": "stream",
     "text": [
      "ERROR 4: /efs/NPP/NPP/MOD17/MOD17A3HGF.A2005001.h18v09.061.2020258194200.hdf: No such file or directory\n"
     ]
    },
    {
     "name": "stdout",
     "output_type": "stream",
     "text": [
      "Data from 2005-01-01 is not available\n"
     ]
    },
    {
     "name": "stderr",
     "output_type": "stream",
     "text": [
      "ERROR 4: /efs/NPP/NPP/MOD17/MOD17A3HGF.A2005001.h19v09.061.2020258193524.hdf: No such file or directory\n"
     ]
    },
    {
     "name": "stdout",
     "output_type": "stream",
     "text": [
      "Data from 2005-01-01 is not available\n"
     ]
    },
    {
     "name": "stderr",
     "output_type": "stream",
     "text": [
      "ERROR 4: /efs/NPP/NPP/MOD17/MOD17A3HGF.A2005001.h20v09.061.2020258194455.hdf: No such file or directory\n"
     ]
    },
    {
     "name": "stdout",
     "output_type": "stream",
     "text": [
      "Data from 2005-01-01 is not available\n"
     ]
    },
    {
     "name": "stderr",
     "output_type": "stream",
     "text": [
      "ERROR 4: /efs/NPP/NPP/MOD17/MOD17A3HGF.A2005001.h21v09.061.2020258194215.hdf: No such file or directory\n"
     ]
    },
    {
     "name": "stdout",
     "output_type": "stream",
     "text": [
      "Data from 2005-01-01 is not available\n"
     ]
    },
    {
     "name": "stderr",
     "output_type": "stream",
     "text": [
      "ERROR 4: /efs/NPP/NPP/MOD17/MOD17A3HGF.A2005001.h22v09.061.2020258202923.hdf: No such file or directory\n",
      "ERROR 4: /efs/NPP/NPP/MOD17/MOD17A3HGF.A2005001.h22v09.061.2020258202923.hdf: No such file or directory\n"
     ]
    },
    {
     "name": "stdout",
     "output_type": "stream",
     "text": [
      "Data from 2005-01-01 is not available\n"
     ]
    },
    {
     "name": "stderr",
     "output_type": "stream",
     "text": [
      "ERROR 4: /efs/NPP/NPP/MOD17/MOD17A3HGF.A2005001.h17v10.061.2020258191542.hdf: No such file or directory\n",
      "ERROR 4: /efs/NPP/NPP/MOD17/MOD17A3HGF.A2005001.h17v10.061.2020258191542.hdf: No such file or directory\n"
     ]
    },
    {
     "name": "stdout",
     "output_type": "stream",
     "text": [
      "Data from 2005-01-01 is not available\n"
     ]
    },
    {
     "name": "stderr",
     "output_type": "stream",
     "text": [
      "ERROR 4: /efs/NPP/NPP/MOD17/MOD17A3HGF.A2005001.h19v10.061.2020258202944.hdf: No such file or directory\n"
     ]
    },
    {
     "name": "stdout",
     "output_type": "stream",
     "text": [
      "Data from 2005-01-01 is not available\n"
     ]
    },
    {
     "name": "stderr",
     "output_type": "stream",
     "text": [
      "ERROR 4: /efs/NPP/NPP/MOD17/MOD17A3HGF.A2005001.h20v10.061.2020258195053.hdf: No such file or directory\n"
     ]
    },
    {
     "name": "stdout",
     "output_type": "stream",
     "text": [
      "Data from 2005-01-01 is not available\n"
     ]
    },
    {
     "name": "stderr",
     "output_type": "stream",
     "text": [
      "ERROR 4: /efs/NPP/NPP/MOD17/MOD17A3HGF.A2005001.h21v10.061.2020258195927.hdf: No such file or directory\n"
     ]
    },
    {
     "name": "stdout",
     "output_type": "stream",
     "text": [
      "Data from 2005-01-01 is not available\n"
     ]
    },
    {
     "name": "stderr",
     "output_type": "stream",
     "text": [
      "ERROR 4: /efs/NPP/NPP/MOD17/MOD17A3HGF.A2005001.h22v10.061.2020258194203.hdf: No such file or directory\n",
      "ERROR 4: /efs/NPP/NPP/MOD17/MOD17A3HGF.A2005001.h22v10.061.2020258194203.hdf: No such file or directory\n",
      "ERROR 4: /efs/NPP/NPP/MOD17/MOD17A3HGF.A2005001.h22v10.061.2020258194203.hdf: No such file or directory\n",
      "ERROR 4: /efs/NPP/NPP/MOD17/MOD17A3HGF.A2005001.h22v10.061.2020258194203.hdf: No such file or directory\n"
     ]
    },
    {
     "name": "stdout",
     "output_type": "stream",
     "text": [
      "Data from 2005-01-01 is not available\n"
     ]
    },
    {
     "name": "stderr",
     "output_type": "stream",
     "text": [
      "ERROR 4: /efs/NPP/NPP/MOD17/MOD17A3HGF.A2005001.h19v11.061.2020258193446.hdf: No such file or directory\n"
     ]
    },
    {
     "name": "stdout",
     "output_type": "stream",
     "text": [
      "Data from 2005-01-01 is not available\n"
     ]
    },
    {
     "name": "stderr",
     "output_type": "stream",
     "text": [
      "ERROR 4: /efs/NPP/NPP/MOD17/MOD17A3HGF.A2005001.h20v11.061.2020258191557.hdf: No such file or directory\n"
     ]
    },
    {
     "name": "stdout",
     "output_type": "stream",
     "text": [
      "Data from 2005-01-01 is not available\n"
     ]
    },
    {
     "name": "stderr",
     "output_type": "stream",
     "text": [
      "ERROR 4: /efs/NPP/NPP/MOD17/MOD17A3HGF.A2005001.h21v11.061.2020258191103.hdf: No such file or directory\n"
     ]
    },
    {
     "name": "stdout",
     "output_type": "stream",
     "text": [
      "Data from 2005-01-01 is not available\n"
     ]
    },
    {
     "name": "stderr",
     "output_type": "stream",
     "text": [
      "ERROR 4: /efs/NPP/NPP/MOD17/MOD17A3HGF.A2005001.h22v11.061.2020258191119.hdf: No such file or directory\n"
     ]
    },
    {
     "name": "stdout",
     "output_type": "stream",
     "text": [
      "Data from 2005-01-01 is not available\n"
     ]
    },
    {
     "name": "stderr",
     "output_type": "stream",
     "text": [
      "ERROR 4: /efs/NPP/NPP/MOD17/MOD17A3HGF.A2005001.h16v12.061.2020258194142.hdf: No such file or directory\n"
     ]
    },
    {
     "name": "stdout",
     "output_type": "stream",
     "text": [
      "Data from 2005-01-01 is not available\n"
     ]
    },
    {
     "name": "stderr",
     "output_type": "stream",
     "text": [
      "ERROR 4: /efs/NPP/NPP/MOD17/MOD17A3HGF.A2005001.h17v12.061.2020258191541.hdf: No such file or directory\n",
      "ERROR 4: /efs/NPP/NPP/MOD17/MOD17A3HGF.A2005001.h17v12.061.2020258191541.hdf: No such file or directory\n"
     ]
    },
    {
     "name": "stdout",
     "output_type": "stream",
     "text": [
      "Data from 2005-01-01 is not available\n"
     ]
    },
    {
     "name": "stderr",
     "output_type": "stream",
     "text": [
      "ERROR 4: /efs/NPP/NPP/MOD17/MOD17A3HGF.A2005001.h19v12.061.2020258194216.hdf: No such file or directory\n"
     ]
    },
    {
     "name": "stdout",
     "output_type": "stream",
     "text": [
      "Data from 2005-01-01 is not available\n"
     ]
    },
    {
     "name": "stderr",
     "output_type": "stream",
     "text": [
      "ERROR 4: /efs/NPP/NPP/MOD17/MOD17A3HGF.A2005001.h20v12.061.2020258195858.hdf: No such file or directory\n",
      "ERROR 4: /efs/NPP/NPP/MOD17/MOD17A3HGF.A2005001.h20v12.061.2020258195858.hdf: No such file or directory\n",
      "ERROR 4: /efs/NPP/NPP/MOD17/MOD17A3HGF.A2005001.h20v12.061.2020258195858.hdf: No such file or directory\n",
      "ERROR 4: /efs/NPP/NPP/MOD17/MOD17A3HGF.A2005001.h20v12.061.2020258195858.hdf: No such file or directory\n"
     ]
    },
    {
     "name": "stdout",
     "output_type": "stream",
     "text": [
      "Data from 2005-01-01 is not available\n"
     ]
    },
    {
     "name": "stderr",
     "output_type": "stream",
     "text": [
      "ERROR 4: /efs/NPP/NPP/MOD17/MOD17A3HGF.A2005001.h17v13.061.2020258194140.hdf: No such file or directory\n",
      "ERROR 4: /efs/NPP/NPP/MOD17/MOD17A3HGF.A2005001.h17v13.061.2020258194140.hdf: No such file or directory\n",
      "ERROR 4: /efs/NPP/NPP/MOD17/MOD17A3HGF.A2005001.h17v13.061.2020258194140.hdf: No such file or directory\n"
     ]
    },
    {
     "name": "stdout",
     "output_type": "stream",
     "text": [
      "Data from 2005-01-01 is not available\n"
     ]
    },
    {
     "name": "stderr",
     "output_type": "stream",
     "text": [
      "ERROR 4: /efs/NPP/NPP/MOD17/MOD17A3HGF.A2005001.h20v13.061.2020258193402.hdf: No such file or directory\n"
     ]
    },
    {
     "name": "stdout",
     "output_type": "stream",
     "text": [
      "Data from 2005-01-01 is not available\n"
     ]
    },
    {
     "name": "stderr",
     "output_type": "stream",
     "text": [
      "ERROR 4: /efs/NPP/NPP/MOD17/MOD17A3HGF.A2005001.h21v13.061.2020258191623.hdf: No such file or directory\n"
     ]
    },
    {
     "name": "stdout",
     "output_type": "stream",
     "text": [
      "Data from 2005-01-01 is not available\n"
     ]
    },
    {
     "name": "stderr",
     "output_type": "stream",
     "text": [
      "ERROR 4: /efs/NPP/NPP/MOD17/MOD17A3HGF.A2005001.h22v13.061.2020258191628.hdf: No such file or directory\n"
     ]
    },
    {
     "name": "stdout",
     "output_type": "stream",
     "text": [
      "Data from 2006-01-01 is not available\n"
     ]
    },
    {
     "name": "stderr",
     "output_type": "stream",
     "text": [
      "ERROR 4: /efs/NPP/NPP/MOD17/MOD17A3HGF.A2006001.h17v04.061.2021059052235.hdf: No such file or directory\n"
     ]
    },
    {
     "name": "stdout",
     "output_type": "stream",
     "text": [
      "Data from 2006-01-01 is not available\n"
     ]
    },
    {
     "name": "stderr",
     "output_type": "stream",
     "text": [
      "ERROR 4: /efs/NPP/NPP/MOD17/MOD17A3HGF.A2006001.h18v04.061.2021059054358.hdf: No such file or directory\n"
     ]
    },
    {
     "name": "stdout",
     "output_type": "stream",
     "text": [
      "Data from 2006-01-01 is not available\n"
     ]
    },
    {
     "name": "stderr",
     "output_type": "stream",
     "text": [
      "ERROR 4: /efs/NPP/NPP/MOD17/MOD17A3HGF.A2006001.h19v04.061.2021059063338.hdf: No such file or directory\n"
     ]
    },
    {
     "name": "stdout",
     "output_type": "stream",
     "text": [
      "Data from 2006-01-01 is not available\n"
     ]
    },
    {
     "name": "stderr",
     "output_type": "stream",
     "text": [
      "ERROR 4: /efs/NPP/NPP/MOD17/MOD17A3HGF.A2006001.h20v04.061.2021059052823.hdf: No such file or directory\n"
     ]
    },
    {
     "name": "stdout",
     "output_type": "stream",
     "text": [
      "Data from 2006-01-01 is not available\n"
     ]
    },
    {
     "name": "stderr",
     "output_type": "stream",
     "text": [
      "ERROR 4: /efs/NPP/NPP/MOD17/MOD17A3HGF.A2006001.h21v04.061.2021059055402.hdf: No such file or directory\n"
     ]
    },
    {
     "name": "stdout",
     "output_type": "stream",
     "text": [
      "Data from 2006-01-01 is not available\n"
     ]
    },
    {
     "name": "stderr",
     "output_type": "stream",
     "text": [
      "ERROR 4: /efs/NPP/NPP/MOD17/MOD17A3HGF.A2006001.h22v04.061.2021059052620.hdf: No such file or directory\n"
     ]
    },
    {
     "name": "stdout",
     "output_type": "stream",
     "text": [
      "Data from 2006-01-01 is not available\n"
     ]
    },
    {
     "name": "stderr",
     "output_type": "stream",
     "text": [
      "ERROR 4: /efs/NPP/NPP/MOD17/MOD17A3HGF.A2006001.h16v05.061.2021059054356.hdf: No such file or directory\n"
     ]
    },
    {
     "name": "stdout",
     "output_type": "stream",
     "text": [
      "Data from 2006-01-01 is not available\n"
     ]
    },
    {
     "name": "stderr",
     "output_type": "stream",
     "text": [
      "ERROR 4: /efs/NPP/NPP/MOD17/MOD17A3HGF.A2006001.h17v05.061.2021059051632.hdf: No such file or directory\n"
     ]
    },
    {
     "name": "stdout",
     "output_type": "stream",
     "text": [
      "Data from 2006-01-01 is not available\n"
     ]
    },
    {
     "name": "stderr",
     "output_type": "stream",
     "text": [
      "ERROR 4: /efs/NPP/NPP/MOD17/MOD17A3HGF.A2006001.h18v05.061.2021059052108.hdf: No such file or directory\n"
     ]
    },
    {
     "name": "stdout",
     "output_type": "stream",
     "text": [
      "Data from 2006-01-01 is not available\n"
     ]
    },
    {
     "name": "stderr",
     "output_type": "stream",
     "text": [
      "ERROR 4: /efs/NPP/NPP/MOD17/MOD17A3HGF.A2006001.h19v05.061.2021059052436.hdf: No such file or directory\n"
     ]
    },
    {
     "name": "stdout",
     "output_type": "stream",
     "text": [
      "Data from 2006-01-01 is not available\n"
     ]
    },
    {
     "name": "stderr",
     "output_type": "stream",
     "text": [
      "ERROR 4: /efs/NPP/NPP/MOD17/MOD17A3HGF.A2006001.h20v05.061.2021059050903.hdf: No such file or directory\n"
     ]
    },
    {
     "name": "stdout",
     "output_type": "stream",
     "text": [
      "Data from 2006-01-01 is not available\n"
     ]
    },
    {
     "name": "stderr",
     "output_type": "stream",
     "text": [
      "ERROR 4: /efs/NPP/NPP/MOD17/MOD17A3HGF.A2006001.h21v05.061.2021059053940.hdf: No such file or directory\n"
     ]
    },
    {
     "name": "stdout",
     "output_type": "stream",
     "text": [
      "Data from 2006-01-01 is not available\n"
     ]
    },
    {
     "name": "stderr",
     "output_type": "stream",
     "text": [
      "ERROR 4: /efs/NPP/NPP/MOD17/MOD17A3HGF.A2006001.h22v05.061.2021059052223.hdf: No such file or directory\n"
     ]
    },
    {
     "name": "stdout",
     "output_type": "stream",
     "text": [
      "Data from 2006-01-01 is not available\n"
     ]
    },
    {
     "name": "stderr",
     "output_type": "stream",
     "text": [
      "ERROR 4: /efs/NPP/NPP/MOD17/MOD17A3HGF.A2006001.h16v06.061.2021059054303.hdf: No such file or directory\n"
     ]
    },
    {
     "name": "stdout",
     "output_type": "stream",
     "text": [
      "Data from 2006-01-01 is not available\n"
     ]
    },
    {
     "name": "stderr",
     "output_type": "stream",
     "text": [
      "ERROR 4: /efs/NPP/NPP/MOD17/MOD17A3HGF.A2006001.h17v06.061.2021059052427.hdf: No such file or directory\n"
     ]
    },
    {
     "name": "stdout",
     "output_type": "stream",
     "text": [
      "Data from 2006-01-01 is not available\n"
     ]
    },
    {
     "name": "stderr",
     "output_type": "stream",
     "text": [
      "ERROR 4: /efs/NPP/NPP/MOD17/MOD17A3HGF.A2006001.h18v06.061.2021059050855.hdf: No such file or directory\n"
     ]
    },
    {
     "name": "stdout",
     "output_type": "stream",
     "text": [
      "Data from 2006-01-01 is not available\n"
     ]
    },
    {
     "name": "stderr",
     "output_type": "stream",
     "text": [
      "ERROR 4: /efs/NPP/NPP/MOD17/MOD17A3HGF.A2006001.h19v06.061.2021059054502.hdf: No such file or directory\n"
     ]
    },
    {
     "name": "stdout",
     "output_type": "stream",
     "text": [
      "Data from 2006-01-01 is not available\n"
     ]
    },
    {
     "name": "stderr",
     "output_type": "stream",
     "text": [
      "ERROR 4: /efs/NPP/NPP/MOD17/MOD17A3HGF.A2006001.h20v06.061.2021059045907.hdf: No such file or directory\n"
     ]
    },
    {
     "name": "stdout",
     "output_type": "stream",
     "text": [
      "Data from 2006-01-01 is not available\n"
     ]
    },
    {
     "name": "stderr",
     "output_type": "stream",
     "text": [
      "ERROR 4: /efs/NPP/NPP/MOD17/MOD17A3HGF.A2006001.h21v06.061.2021059052922.hdf: No such file or directory\n"
     ]
    },
    {
     "name": "stdout",
     "output_type": "stream",
     "text": [
      "Data from 2006-01-01 is not available\n"
     ]
    },
    {
     "name": "stderr",
     "output_type": "stream",
     "text": [
      "ERROR 4: /efs/NPP/NPP/MOD17/MOD17A3HGF.A2006001.h22v06.061.2021059053659.hdf: No such file or directory\n"
     ]
    },
    {
     "name": "stdout",
     "output_type": "stream",
     "text": [
      "Data from 2006-01-01 is not available\n"
     ]
    },
    {
     "name": "stderr",
     "output_type": "stream",
     "text": [
      "ERROR 4: /efs/NPP/NPP/MOD17/MOD17A3HGF.A2006001.h16v07.061.2021059051628.hdf: No such file or directory\n"
     ]
    },
    {
     "name": "stdout",
     "output_type": "stream",
     "text": [
      "Data from 2006-01-01 is not available\n"
     ]
    },
    {
     "name": "stderr",
     "output_type": "stream",
     "text": [
      "ERROR 4: /efs/NPP/NPP/MOD17/MOD17A3HGF.A2006001.h17v07.061.2021059055630.hdf: No such file or directory\n"
     ]
    },
    {
     "name": "stdout",
     "output_type": "stream",
     "text": [
      "Data from 2006-01-01 is not available\n"
     ]
    },
    {
     "name": "stderr",
     "output_type": "stream",
     "text": [
      "ERROR 4: /efs/NPP/NPP/MOD17/MOD17A3HGF.A2006001.h18v07.061.2021059053330.hdf: No such file or directory\n"
     ]
    },
    {
     "name": "stdout",
     "output_type": "stream",
     "text": [
      "Data from 2006-01-01 is not available\n"
     ]
    },
    {
     "name": "stderr",
     "output_type": "stream",
     "text": [
      "ERROR 4: /efs/NPP/NPP/MOD17/MOD17A3HGF.A2006001.h19v07.061.2021059052528.hdf: No such file or directory\n"
     ]
    },
    {
     "name": "stdout",
     "output_type": "stream",
     "text": [
      "Data from 2006-01-01 is not available\n"
     ]
    },
    {
     "name": "stderr",
     "output_type": "stream",
     "text": [
      "ERROR 4: /efs/NPP/NPP/MOD17/MOD17A3HGF.A2006001.h20v07.061.2021059052724.hdf: No such file or directory\n"
     ]
    },
    {
     "name": "stdout",
     "output_type": "stream",
     "text": [
      "Data from 2006-01-01 is not available\n"
     ]
    },
    {
     "name": "stderr",
     "output_type": "stream",
     "text": [
      "ERROR 4: /efs/NPP/NPP/MOD17/MOD17A3HGF.A2006001.h21v07.061.2021059055334.hdf: No such file or directory\n"
     ]
    },
    {
     "name": "stdout",
     "output_type": "stream",
     "text": [
      "Data from 2006-01-01 is not available\n"
     ]
    },
    {
     "name": "stderr",
     "output_type": "stream",
     "text": [
      "ERROR 4: /efs/NPP/NPP/MOD17/MOD17A3HGF.A2006001.h22v07.061.2021059045912.hdf: No such file or directory\n"
     ]
    },
    {
     "name": "stdout",
     "output_type": "stream",
     "text": [
      "Data from 2006-01-01 is not available\n"
     ]
    },
    {
     "name": "stderr",
     "output_type": "stream",
     "text": [
      "ERROR 4: /efs/NPP/NPP/MOD17/MOD17A3HGF.A2006001.h16v08.061.2021059053157.hdf: No such file or directory\n"
     ]
    },
    {
     "name": "stdout",
     "output_type": "stream",
     "text": [
      "Data from 2006-01-01 is not available\n"
     ]
    },
    {
     "name": "stderr",
     "output_type": "stream",
     "text": [
      "ERROR 4: /efs/NPP/NPP/MOD17/MOD17A3HGF.A2006001.h17v08.061.2021059052100.hdf: No such file or directory\n"
     ]
    },
    {
     "name": "stdout",
     "output_type": "stream",
     "text": [
      "Data from 2006-01-01 is not available\n"
     ]
    },
    {
     "name": "stderr",
     "output_type": "stream",
     "text": [
      "ERROR 4: /efs/NPP/NPP/MOD17/MOD17A3HGF.A2006001.h18v08.061.2021059052540.hdf: No such file or directory\n"
     ]
    },
    {
     "name": "stdout",
     "output_type": "stream",
     "text": [
      "Data from 2006-01-01 is not available\n"
     ]
    },
    {
     "name": "stderr",
     "output_type": "stream",
     "text": [
      "ERROR 4: /efs/NPP/NPP/MOD17/MOD17A3HGF.A2006001.h19v08.061.2021059052441.hdf: No such file or directory\n"
     ]
    },
    {
     "name": "stdout",
     "output_type": "stream",
     "text": [
      "Data from 2006-01-01 is not available\n"
     ]
    },
    {
     "name": "stderr",
     "output_type": "stream",
     "text": [
      "ERROR 4: /efs/NPP/NPP/MOD17/MOD17A3HGF.A2006001.h20v08.061.2021059061411.hdf: No such file or directory\n"
     ]
    },
    {
     "name": "stdout",
     "output_type": "stream",
     "text": [
      "Data from 2006-01-01 is not available\n"
     ]
    },
    {
     "name": "stderr",
     "output_type": "stream",
     "text": [
      "ERROR 4: /efs/NPP/NPP/MOD17/MOD17A3HGF.A2006001.h21v08.061.2021059053125.hdf: No such file or directory\n"
     ]
    },
    {
     "name": "stdout",
     "output_type": "stream",
     "text": [
      "Data from 2006-01-01 is not available\n"
     ]
    },
    {
     "name": "stderr",
     "output_type": "stream",
     "text": [
      "ERROR 4: /efs/NPP/NPP/MOD17/MOD17A3HGF.A2006001.h22v08.061.2021059055248.hdf: No such file or directory\n"
     ]
    },
    {
     "name": "stdout",
     "output_type": "stream",
     "text": [
      "Data from 2006-01-01 is not available\n"
     ]
    },
    {
     "name": "stderr",
     "output_type": "stream",
     "text": [
      "ERROR 4: /efs/NPP/NPP/MOD17/MOD17A3HGF.A2006001.h16v09.061.2021059053932.hdf: No such file or directory\n",
      "ERROR 4: /efs/NPP/NPP/MOD17/MOD17A3HGF.A2006001.h16v09.061.2021059053932.hdf: No such file or directory\n"
     ]
    },
    {
     "name": "stdout",
     "output_type": "stream",
     "text": [
      "Data from 2006-01-01 is not available\n"
     ]
    },
    {
     "name": "stderr",
     "output_type": "stream",
     "text": [
      "ERROR 4: /efs/NPP/NPP/MOD17/MOD17A3HGF.A2006001.h18v09.061.2021059053906.hdf: No such file or directory\n"
     ]
    },
    {
     "name": "stdout",
     "output_type": "stream",
     "text": [
      "Data from 2006-01-01 is not available\n"
     ]
    },
    {
     "name": "stderr",
     "output_type": "stream",
     "text": [
      "ERROR 4: /efs/NPP/NPP/MOD17/MOD17A3HGF.A2006001.h19v09.061.2021059051419.hdf: No such file or directory\n"
     ]
    },
    {
     "name": "stdout",
     "output_type": "stream",
     "text": [
      "Data from 2006-01-01 is not available\n"
     ]
    },
    {
     "name": "stderr",
     "output_type": "stream",
     "text": [
      "ERROR 4: /efs/NPP/NPP/MOD17/MOD17A3HGF.A2006001.h20v09.061.2021059054110.hdf: No such file or directory\n"
     ]
    },
    {
     "name": "stdout",
     "output_type": "stream",
     "text": [
      "Data from 2006-01-01 is not available\n"
     ]
    },
    {
     "name": "stderr",
     "output_type": "stream",
     "text": [
      "ERROR 4: /efs/NPP/NPP/MOD17/MOD17A3HGF.A2006001.h21v09.061.2021059053140.hdf: No such file or directory\n"
     ]
    },
    {
     "name": "stdout",
     "output_type": "stream",
     "text": [
      "Data from 2006-01-01 is not available\n"
     ]
    },
    {
     "name": "stderr",
     "output_type": "stream",
     "text": [
      "ERROR 4: /efs/NPP/NPP/MOD17/MOD17A3HGF.A2006001.h22v09.061.2021059051518.hdf: No such file or directory\n",
      "ERROR 4: /efs/NPP/NPP/MOD17/MOD17A3HGF.A2006001.h22v09.061.2021059051518.hdf: No such file or directory\n"
     ]
    },
    {
     "name": "stdout",
     "output_type": "stream",
     "text": [
      "Data from 2006-01-01 is not available\n"
     ]
    },
    {
     "name": "stderr",
     "output_type": "stream",
     "text": [
      "ERROR 4: /efs/NPP/NPP/MOD17/MOD17A3HGF.A2006001.h17v10.061.2021059045654.hdf: No such file or directory\n",
      "ERROR 4: /efs/NPP/NPP/MOD17/MOD17A3HGF.A2006001.h17v10.061.2021059045654.hdf: No such file or directory\n"
     ]
    },
    {
     "name": "stdout",
     "output_type": "stream",
     "text": [
      "Data from 2006-01-01 is not available\n"
     ]
    },
    {
     "name": "stderr",
     "output_type": "stream",
     "text": [
      "ERROR 4: /efs/NPP/NPP/MOD17/MOD17A3HGF.A2006001.h19v10.061.2021059053704.hdf: No such file or directory\n"
     ]
    },
    {
     "name": "stdout",
     "output_type": "stream",
     "text": [
      "Data from 2006-01-01 is not available\n"
     ]
    },
    {
     "name": "stderr",
     "output_type": "stream",
     "text": [
      "ERROR 4: /efs/NPP/NPP/MOD17/MOD17A3HGF.A2006001.h20v10.061.2021059053648.hdf: No such file or directory\n"
     ]
    },
    {
     "name": "stdout",
     "output_type": "stream",
     "text": [
      "Data from 2006-01-01 is not available\n"
     ]
    },
    {
     "name": "stderr",
     "output_type": "stream",
     "text": [
      "ERROR 4: /efs/NPP/NPP/MOD17/MOD17A3HGF.A2006001.h21v10.061.2021059055130.hdf: No such file or directory\n"
     ]
    },
    {
     "name": "stdout",
     "output_type": "stream",
     "text": [
      "Data from 2006-01-01 is not available\n"
     ]
    },
    {
     "name": "stderr",
     "output_type": "stream",
     "text": [
      "ERROR 4: /efs/NPP/NPP/MOD17/MOD17A3HGF.A2006001.h22v10.061.2021059054531.hdf: No such file or directory\n",
      "ERROR 4: /efs/NPP/NPP/MOD17/MOD17A3HGF.A2006001.h22v10.061.2021059054531.hdf: No such file or directory\n",
      "ERROR 4: /efs/NPP/NPP/MOD17/MOD17A3HGF.A2006001.h22v10.061.2021059054531.hdf: No such file or directory\n",
      "ERROR 4: /efs/NPP/NPP/MOD17/MOD17A3HGF.A2006001.h22v10.061.2021059054531.hdf: No such file or directory\n"
     ]
    },
    {
     "name": "stdout",
     "output_type": "stream",
     "text": [
      "Data from 2006-01-01 is not available\n"
     ]
    },
    {
     "name": "stderr",
     "output_type": "stream",
     "text": [
      "ERROR 4: /efs/NPP/NPP/MOD17/MOD17A3HGF.A2006001.h19v11.061.2021059052651.hdf: No such file or directory\n"
     ]
    },
    {
     "name": "stdout",
     "output_type": "stream",
     "text": [
      "Data from 2006-01-01 is not available\n"
     ]
    },
    {
     "name": "stderr",
     "output_type": "stream",
     "text": [
      "ERROR 4: /efs/NPP/NPP/MOD17/MOD17A3HGF.A2006001.h20v11.061.2021059053644.hdf: No such file or directory\n"
     ]
    },
    {
     "name": "stdout",
     "output_type": "stream",
     "text": [
      "Data from 2006-01-01 is not available\n"
     ]
    },
    {
     "name": "stderr",
     "output_type": "stream",
     "text": [
      "ERROR 4: /efs/NPP/NPP/MOD17/MOD17A3HGF.A2006001.h21v11.061.2021059050552.hdf: No such file or directory\n"
     ]
    },
    {
     "name": "stdout",
     "output_type": "stream",
     "text": [
      "Data from 2006-01-01 is not available\n"
     ]
    },
    {
     "name": "stderr",
     "output_type": "stream",
     "text": [
      "ERROR 4: /efs/NPP/NPP/MOD17/MOD17A3HGF.A2006001.h22v11.061.2021059053521.hdf: No such file or directory\n"
     ]
    },
    {
     "name": "stdout",
     "output_type": "stream",
     "text": [
      "Data from 2006-01-01 is not available\n"
     ]
    },
    {
     "name": "stderr",
     "output_type": "stream",
     "text": [
      "ERROR 4: /efs/NPP/NPP/MOD17/MOD17A3HGF.A2006001.h16v12.061.2021059054510.hdf: No such file or directory\n"
     ]
    },
    {
     "name": "stdout",
     "output_type": "stream",
     "text": [
      "Data from 2006-01-01 is not available\n"
     ]
    },
    {
     "name": "stderr",
     "output_type": "stream",
     "text": [
      "ERROR 4: /efs/NPP/NPP/MOD17/MOD17A3HGF.A2006001.h17v12.061.2021059052306.hdf: No such file or directory\n",
      "ERROR 4: /efs/NPP/NPP/MOD17/MOD17A3HGF.A2006001.h17v12.061.2021059052306.hdf: No such file or directory\n"
     ]
    },
    {
     "name": "stdout",
     "output_type": "stream",
     "text": [
      "Data from 2006-01-01 is not available\n"
     ]
    },
    {
     "name": "stderr",
     "output_type": "stream",
     "text": [
      "ERROR 4: /efs/NPP/NPP/MOD17/MOD17A3HGF.A2006001.h19v12.061.2021059053206.hdf: No such file or directory\n"
     ]
    },
    {
     "name": "stdout",
     "output_type": "stream",
     "text": [
      "Data from 2006-01-01 is not available\n"
     ]
    },
    {
     "name": "stderr",
     "output_type": "stream",
     "text": [
      "ERROR 4: /efs/NPP/NPP/MOD17/MOD17A3HGF.A2006001.h20v12.061.2021059055609.hdf: No such file or directory\n",
      "ERROR 4: /efs/NPP/NPP/MOD17/MOD17A3HGF.A2006001.h20v12.061.2021059055609.hdf: No such file or directory\n",
      "ERROR 4: /efs/NPP/NPP/MOD17/MOD17A3HGF.A2006001.h20v12.061.2021059055609.hdf: No such file or directory\n",
      "ERROR 4: /efs/NPP/NPP/MOD17/MOD17A3HGF.A2006001.h20v12.061.2021059055609.hdf: No such file or directory\n"
     ]
    },
    {
     "name": "stdout",
     "output_type": "stream",
     "text": [
      "Data from 2006-01-01 is not available\n"
     ]
    },
    {
     "name": "stderr",
     "output_type": "stream",
     "text": [
      "ERROR 4: /efs/NPP/NPP/MOD17/MOD17A3HGF.A2006001.h17v13.061.2021059052511.hdf: No such file or directory\n",
      "ERROR 4: /efs/NPP/NPP/MOD17/MOD17A3HGF.A2006001.h17v13.061.2021059052511.hdf: No such file or directory\n",
      "ERROR 4: /efs/NPP/NPP/MOD17/MOD17A3HGF.A2006001.h17v13.061.2021059052511.hdf: No such file or directory\n"
     ]
    },
    {
     "name": "stdout",
     "output_type": "stream",
     "text": [
      "Data from 2006-01-01 is not available\n"
     ]
    },
    {
     "name": "stderr",
     "output_type": "stream",
     "text": [
      "ERROR 4: /efs/NPP/NPP/MOD17/MOD17A3HGF.A2006001.h20v13.061.2021059054359.hdf: No such file or directory\n"
     ]
    },
    {
     "name": "stdout",
     "output_type": "stream",
     "text": [
      "Data from 2006-01-01 is not available\n"
     ]
    },
    {
     "name": "stderr",
     "output_type": "stream",
     "text": [
      "ERROR 4: /efs/NPP/NPP/MOD17/MOD17A3HGF.A2006001.h21v13.061.2021059051425.hdf: No such file or directory\n"
     ]
    },
    {
     "name": "stdout",
     "output_type": "stream",
     "text": [
      "Data from 2006-01-01 is not available\n"
     ]
    },
    {
     "name": "stderr",
     "output_type": "stream",
     "text": [
      "ERROR 4: /efs/NPP/NPP/MOD17/MOD17A3HGF.A2006001.h22v13.061.2021059051216.hdf: No such file or directory\n"
     ]
    },
    {
     "name": "stdout",
     "output_type": "stream",
     "text": [
      "Data from 2007-01-01 is not available\n"
     ]
    },
    {
     "name": "stderr",
     "output_type": "stream",
     "text": [
      "ERROR 4: /efs/NPP/NPP/MOD17/MOD17A3HGF.A2007001.h17v04.061.2021089143932.hdf: No such file or directory\n"
     ]
    },
    {
     "name": "stdout",
     "output_type": "stream",
     "text": [
      "Data from 2007-01-01 is not available\n"
     ]
    },
    {
     "name": "stderr",
     "output_type": "stream",
     "text": [
      "ERROR 4: /efs/NPP/NPP/MOD17/MOD17A3HGF.A2007001.h18v04.061.2021089144418.hdf: No such file or directory\n"
     ]
    },
    {
     "name": "stdout",
     "output_type": "stream",
     "text": [
      "Data from 2007-01-01 is not available\n"
     ]
    },
    {
     "name": "stderr",
     "output_type": "stream",
     "text": [
      "ERROR 4: /efs/NPP/NPP/MOD17/MOD17A3HGF.A2007001.h19v04.061.2021089155059.hdf: No such file or directory\n"
     ]
    },
    {
     "name": "stdout",
     "output_type": "stream",
     "text": [
      "Data from 2007-01-01 is not available\n"
     ]
    },
    {
     "name": "stderr",
     "output_type": "stream",
     "text": [
      "ERROR 4: /efs/NPP/NPP/MOD17/MOD17A3HGF.A2007001.h20v04.061.2021089151317.hdf: No such file or directory\n"
     ]
    },
    {
     "name": "stdout",
     "output_type": "stream",
     "text": [
      "Data from 2007-01-01 is not available\n"
     ]
    },
    {
     "name": "stderr",
     "output_type": "stream",
     "text": [
      "ERROR 4: /efs/NPP/NPP/MOD17/MOD17A3HGF.A2007001.h21v04.061.2021089152553.hdf: No such file or directory\n"
     ]
    },
    {
     "name": "stdout",
     "output_type": "stream",
     "text": [
      "Data from 2007-01-01 is not available\n"
     ]
    },
    {
     "name": "stderr",
     "output_type": "stream",
     "text": [
      "ERROR 4: /efs/NPP/NPP/MOD17/MOD17A3HGF.A2007001.h22v04.061.2021089145141.hdf: No such file or directory\n"
     ]
    },
    {
     "name": "stdout",
     "output_type": "stream",
     "text": [
      "Data from 2007-01-01 is not available\n"
     ]
    },
    {
     "name": "stderr",
     "output_type": "stream",
     "text": [
      "ERROR 4: /efs/NPP/NPP/MOD17/MOD17A3HGF.A2007001.h16v05.061.2021089143314.hdf: No such file or directory\n"
     ]
    },
    {
     "name": "stdout",
     "output_type": "stream",
     "text": [
      "Data from 2007-01-01 is not available\n"
     ]
    },
    {
     "name": "stderr",
     "output_type": "stream",
     "text": [
      "ERROR 4: /efs/NPP/NPP/MOD17/MOD17A3HGF.A2007001.h17v05.061.2021089145204.hdf: No such file or directory\n"
     ]
    },
    {
     "name": "stdout",
     "output_type": "stream",
     "text": [
      "Data from 2007-01-01 is not available\n"
     ]
    },
    {
     "name": "stderr",
     "output_type": "stream",
     "text": [
      "ERROR 4: /efs/NPP/NPP/MOD17/MOD17A3HGF.A2007001.h18v05.061.2021089161420.hdf: No such file or directory\n"
     ]
    },
    {
     "name": "stdout",
     "output_type": "stream",
     "text": [
      "Data from 2007-01-01 is not available\n"
     ]
    },
    {
     "name": "stderr",
     "output_type": "stream",
     "text": [
      "ERROR 4: /efs/NPP/NPP/MOD17/MOD17A3HGF.A2007001.h19v05.061.2021089145904.hdf: No such file or directory\n"
     ]
    },
    {
     "name": "stdout",
     "output_type": "stream",
     "text": [
      "Data from 2007-01-01 is not available\n"
     ]
    },
    {
     "name": "stderr",
     "output_type": "stream",
     "text": [
      "ERROR 4: /efs/NPP/NPP/MOD17/MOD17A3HGF.A2007001.h20v05.061.2021089143614.hdf: No such file or directory\n"
     ]
    },
    {
     "name": "stdout",
     "output_type": "stream",
     "text": [
      "Data from 2007-01-01 is not available\n"
     ]
    },
    {
     "name": "stderr",
     "output_type": "stream",
     "text": [
      "ERROR 4: /efs/NPP/NPP/MOD17/MOD17A3HGF.A2007001.h21v05.061.2021089150414.hdf: No such file or directory\n"
     ]
    },
    {
     "name": "stdout",
     "output_type": "stream",
     "text": [
      "Data from 2007-01-01 is not available\n"
     ]
    },
    {
     "name": "stderr",
     "output_type": "stream",
     "text": [
      "ERROR 4: /efs/NPP/NPP/MOD17/MOD17A3HGF.A2007001.h22v05.061.2021089162538.hdf: No such file or directory\n"
     ]
    },
    {
     "name": "stdout",
     "output_type": "stream",
     "text": [
      "Data from 2007-01-01 is not available\n"
     ]
    },
    {
     "name": "stderr",
     "output_type": "stream",
     "text": [
      "ERROR 4: /efs/NPP/NPP/MOD17/MOD17A3HGF.A2007001.h16v06.061.2021089161440.hdf: No such file or directory\n"
     ]
    },
    {
     "name": "stdout",
     "output_type": "stream",
     "text": [
      "Data from 2007-01-01 is not available\n"
     ]
    },
    {
     "name": "stderr",
     "output_type": "stream",
     "text": [
      "ERROR 4: /efs/NPP/NPP/MOD17/MOD17A3HGF.A2007001.h17v06.061.2021089155855.hdf: No such file or directory\n"
     ]
    },
    {
     "name": "stdout",
     "output_type": "stream",
     "text": [
      "Data from 2007-01-01 is not available\n"
     ]
    },
    {
     "name": "stderr",
     "output_type": "stream",
     "text": [
      "ERROR 4: /efs/NPP/NPP/MOD17/MOD17A3HGF.A2007001.h18v06.061.2021089150851.hdf: No such file or directory\n"
     ]
    },
    {
     "name": "stdout",
     "output_type": "stream",
     "text": [
      "Data from 2007-01-01 is not available\n"
     ]
    },
    {
     "name": "stderr",
     "output_type": "stream",
     "text": [
      "ERROR 4: /efs/NPP/NPP/MOD17/MOD17A3HGF.A2007001.h19v06.061.2021089143440.hdf: No such file or directory\n"
     ]
    },
    {
     "name": "stdout",
     "output_type": "stream",
     "text": [
      "Data from 2007-01-01 is not available\n"
     ]
    },
    {
     "name": "stderr",
     "output_type": "stream",
     "text": [
      "ERROR 4: /efs/NPP/NPP/MOD17/MOD17A3HGF.A2007001.h20v06.061.2021089151750.hdf: No such file or directory\n"
     ]
    },
    {
     "name": "stdout",
     "output_type": "stream",
     "text": [
      "Data from 2007-01-01 is not available\n"
     ]
    },
    {
     "name": "stderr",
     "output_type": "stream",
     "text": [
      "ERROR 4: /efs/NPP/NPP/MOD17/MOD17A3HGF.A2007001.h21v06.061.2021089145809.hdf: No such file or directory\n"
     ]
    },
    {
     "name": "stdout",
     "output_type": "stream",
     "text": [
      "Data from 2007-01-01 is not available\n"
     ]
    },
    {
     "name": "stderr",
     "output_type": "stream",
     "text": [
      "ERROR 4: /efs/NPP/NPP/MOD17/MOD17A3HGF.A2007001.h22v06.061.2021089145936.hdf: No such file or directory\n"
     ]
    },
    {
     "name": "stdout",
     "output_type": "stream",
     "text": [
      "Data from 2007-01-01 is not available\n"
     ]
    },
    {
     "name": "stderr",
     "output_type": "stream",
     "text": [
      "ERROR 4: /efs/NPP/NPP/MOD17/MOD17A3HGF.A2007001.h16v07.061.2021089143440.hdf: No such file or directory\n"
     ]
    },
    {
     "name": "stdout",
     "output_type": "stream",
     "text": [
      "Data from 2007-01-01 is not available\n"
     ]
    },
    {
     "name": "stderr",
     "output_type": "stream",
     "text": [
      "ERROR 4: /efs/NPP/NPP/MOD17/MOD17A3HGF.A2007001.h17v07.061.2021089150347.hdf: No such file or directory\n"
     ]
    },
    {
     "name": "stdout",
     "output_type": "stream",
     "text": [
      "Data from 2007-01-01 is not available\n"
     ]
    },
    {
     "name": "stderr",
     "output_type": "stream",
     "text": [
      "ERROR 4: /efs/NPP/NPP/MOD17/MOD17A3HGF.A2007001.h18v07.061.2021089150940.hdf: No such file or directory\n"
     ]
    },
    {
     "name": "stdout",
     "output_type": "stream",
     "text": [
      "Data from 2007-01-01 is not available\n"
     ]
    },
    {
     "name": "stderr",
     "output_type": "stream",
     "text": [
      "ERROR 4: /efs/NPP/NPP/MOD17/MOD17A3HGF.A2007001.h19v07.061.2021089155554.hdf: No such file or directory\n"
     ]
    },
    {
     "name": "stdout",
     "output_type": "stream",
     "text": [
      "Data from 2007-01-01 is not available\n"
     ]
    },
    {
     "name": "stderr",
     "output_type": "stream",
     "text": [
      "ERROR 4: /efs/NPP/NPP/MOD17/MOD17A3HGF.A2007001.h20v07.061.2021089151123.hdf: No such file or directory\n"
     ]
    },
    {
     "name": "stdout",
     "output_type": "stream",
     "text": [
      "Data from 2007-01-01 is not available\n"
     ]
    },
    {
     "name": "stderr",
     "output_type": "stream",
     "text": [
      "ERROR 4: /efs/NPP/NPP/MOD17/MOD17A3HGF.A2007001.h21v07.061.2021089145206.hdf: No such file or directory\n"
     ]
    },
    {
     "name": "stdout",
     "output_type": "stream",
     "text": [
      "Data from 2007-01-01 is not available\n"
     ]
    },
    {
     "name": "stderr",
     "output_type": "stream",
     "text": [
      "ERROR 4: /efs/NPP/NPP/MOD17/MOD17A3HGF.A2007001.h22v07.061.2021089161953.hdf: No such file or directory\n"
     ]
    },
    {
     "name": "stdout",
     "output_type": "stream",
     "text": [
      "Data from 2007-01-01 is not available\n"
     ]
    },
    {
     "name": "stderr",
     "output_type": "stream",
     "text": [
      "ERROR 4: /efs/NPP/NPP/MOD17/MOD17A3HGF.A2007001.h16v08.061.2021089145450.hdf: No such file or directory\n"
     ]
    },
    {
     "name": "stdout",
     "output_type": "stream",
     "text": [
      "Data from 2007-01-01 is not available\n"
     ]
    },
    {
     "name": "stderr",
     "output_type": "stream",
     "text": [
      "ERROR 4: /efs/NPP/NPP/MOD17/MOD17A3HGF.A2007001.h17v08.061.2021089154335.hdf: No such file or directory\n"
     ]
    },
    {
     "name": "stdout",
     "output_type": "stream",
     "text": [
      "Data from 2007-01-01 is not available\n"
     ]
    },
    {
     "name": "stderr",
     "output_type": "stream",
     "text": [
      "ERROR 4: /efs/NPP/NPP/MOD17/MOD17A3HGF.A2007001.h18v08.061.2021089143742.hdf: No such file or directory\n"
     ]
    },
    {
     "name": "stdout",
     "output_type": "stream",
     "text": [
      "Data from 2007-01-01 is not available\n"
     ]
    },
    {
     "name": "stderr",
     "output_type": "stream",
     "text": [
      "ERROR 4: /efs/NPP/NPP/MOD17/MOD17A3HGF.A2007001.h19v08.061.2021089144444.hdf: No such file or directory\n"
     ]
    },
    {
     "name": "stdout",
     "output_type": "stream",
     "text": [
      "Data from 2007-01-01 is not available\n"
     ]
    },
    {
     "name": "stderr",
     "output_type": "stream",
     "text": [
      "ERROR 4: /efs/NPP/NPP/MOD17/MOD17A3HGF.A2007001.h20v08.061.2021089150944.hdf: No such file or directory\n"
     ]
    },
    {
     "name": "stdout",
     "output_type": "stream",
     "text": [
      "Data from 2007-01-01 is not available\n"
     ]
    },
    {
     "name": "stderr",
     "output_type": "stream",
     "text": [
      "ERROR 4: /efs/NPP/NPP/MOD17/MOD17A3HGF.A2007001.h21v08.061.2021089151605.hdf: No such file or directory\n"
     ]
    },
    {
     "name": "stdout",
     "output_type": "stream",
     "text": [
      "Data from 2007-01-01 is not available\n"
     ]
    },
    {
     "name": "stderr",
     "output_type": "stream",
     "text": [
      "ERROR 4: /efs/NPP/NPP/MOD17/MOD17A3HGF.A2007001.h22v08.061.2021089145948.hdf: No such file or directory\n"
     ]
    },
    {
     "name": "stdout",
     "output_type": "stream",
     "text": [
      "Data from 2007-01-01 is not available\n"
     ]
    },
    {
     "name": "stderr",
     "output_type": "stream",
     "text": [
      "ERROR 4: /efs/NPP/NPP/MOD17/MOD17A3HGF.A2007001.h16v09.061.2021089145209.hdf: No such file or directory\n",
      "ERROR 4: /efs/NPP/NPP/MOD17/MOD17A3HGF.A2007001.h16v09.061.2021089145209.hdf: No such file or directory\n"
     ]
    },
    {
     "name": "stdout",
     "output_type": "stream",
     "text": [
      "Data from 2007-01-01 is not available\n"
     ]
    },
    {
     "name": "stderr",
     "output_type": "stream",
     "text": [
      "ERROR 4: /efs/NPP/NPP/MOD17/MOD17A3HGF.A2007001.h18v09.061.2021089150300.hdf: No such file or directory\n"
     ]
    },
    {
     "name": "stdout",
     "output_type": "stream",
     "text": [
      "Data from 2007-01-01 is not available\n"
     ]
    },
    {
     "name": "stderr",
     "output_type": "stream",
     "text": [
      "ERROR 4: /efs/NPP/NPP/MOD17/MOD17A3HGF.A2007001.h19v09.061.2021089145445.hdf: No such file or directory\n"
     ]
    },
    {
     "name": "stdout",
     "output_type": "stream",
     "text": [
      "Data from 2007-01-01 is not available\n"
     ]
    },
    {
     "name": "stderr",
     "output_type": "stream",
     "text": [
      "ERROR 4: /efs/NPP/NPP/MOD17/MOD17A3HGF.A2007001.h20v09.061.2021089154852.hdf: No such file or directory\n"
     ]
    },
    {
     "name": "stdout",
     "output_type": "stream",
     "text": [
      "Data from 2007-01-01 is not available\n"
     ]
    },
    {
     "name": "stderr",
     "output_type": "stream",
     "text": [
      "ERROR 4: /efs/NPP/NPP/MOD17/MOD17A3HGF.A2007001.h21v09.061.2021089151504.hdf: No such file or directory\n"
     ]
    },
    {
     "name": "stdout",
     "output_type": "stream",
     "text": [
      "Data from 2007-01-01 is not available\n"
     ]
    },
    {
     "name": "stderr",
     "output_type": "stream",
     "text": [
      "ERROR 4: /efs/NPP/NPP/MOD17/MOD17A3HGF.A2007001.h22v09.061.2021089151345.hdf: No such file or directory\n",
      "ERROR 4: /efs/NPP/NPP/MOD17/MOD17A3HGF.A2007001.h22v09.061.2021089151345.hdf: No such file or directory\n"
     ]
    },
    {
     "name": "stdout",
     "output_type": "stream",
     "text": [
      "Data from 2007-01-01 is not available\n"
     ]
    },
    {
     "name": "stderr",
     "output_type": "stream",
     "text": [
      "ERROR 4: /efs/NPP/NPP/MOD17/MOD17A3HGF.A2007001.h17v10.061.2021089143823.hdf: No such file or directory\n",
      "ERROR 4: /efs/NPP/NPP/MOD17/MOD17A3HGF.A2007001.h17v10.061.2021089143823.hdf: No such file or directory\n"
     ]
    },
    {
     "name": "stdout",
     "output_type": "stream",
     "text": [
      "Data from 2007-01-01 is not available\n"
     ]
    },
    {
     "name": "stderr",
     "output_type": "stream",
     "text": [
      "ERROR 4: /efs/NPP/NPP/MOD17/MOD17A3HGF.A2007001.h19v10.061.2021089153532.hdf: No such file or directory\n"
     ]
    },
    {
     "name": "stdout",
     "output_type": "stream",
     "text": [
      "Data from 2007-01-01 is not available\n"
     ]
    },
    {
     "name": "stderr",
     "output_type": "stream",
     "text": [
      "ERROR 4: /efs/NPP/NPP/MOD17/MOD17A3HGF.A2007001.h20v10.061.2021089152312.hdf: No such file or directory\n"
     ]
    },
    {
     "name": "stdout",
     "output_type": "stream",
     "text": [
      "Data from 2007-01-01 is not available\n"
     ]
    },
    {
     "name": "stderr",
     "output_type": "stream",
     "text": [
      "ERROR 4: /efs/NPP/NPP/MOD17/MOD17A3HGF.A2007001.h21v10.061.2021089151532.hdf: No such file or directory\n"
     ]
    },
    {
     "name": "stdout",
     "output_type": "stream",
     "text": [
      "Data from 2007-01-01 is not available\n"
     ]
    },
    {
     "name": "stderr",
     "output_type": "stream",
     "text": [
      "ERROR 4: /efs/NPP/NPP/MOD17/MOD17A3HGF.A2007001.h22v10.061.2021089155620.hdf: No such file or directory\n",
      "ERROR 4: /efs/NPP/NPP/MOD17/MOD17A3HGF.A2007001.h22v10.061.2021089155620.hdf: No such file or directory\n",
      "ERROR 4: /efs/NPP/NPP/MOD17/MOD17A3HGF.A2007001.h22v10.061.2021089155620.hdf: No such file or directory\n",
      "ERROR 4: /efs/NPP/NPP/MOD17/MOD17A3HGF.A2007001.h22v10.061.2021089155620.hdf: No such file or directory\n"
     ]
    },
    {
     "name": "stdout",
     "output_type": "stream",
     "text": [
      "Data from 2007-01-01 is not available\n"
     ]
    },
    {
     "name": "stderr",
     "output_type": "stream",
     "text": [
      "ERROR 4: /efs/NPP/NPP/MOD17/MOD17A3HGF.A2007001.h19v11.061.2021089150306.hdf: No such file or directory\n"
     ]
    },
    {
     "name": "stdout",
     "output_type": "stream",
     "text": [
      "Data from 2007-01-01 is not available\n"
     ]
    },
    {
     "name": "stderr",
     "output_type": "stream",
     "text": [
      "ERROR 4: /efs/NPP/NPP/MOD17/MOD17A3HGF.A2007001.h20v11.061.2021089153453.hdf: No such file or directory\n"
     ]
    },
    {
     "name": "stdout",
     "output_type": "stream",
     "text": [
      "Data from 2007-01-01 is not available\n"
     ]
    },
    {
     "name": "stderr",
     "output_type": "stream",
     "text": [
      "ERROR 4: /efs/NPP/NPP/MOD17/MOD17A3HGF.A2007001.h21v11.061.2021089145350.hdf: No such file or directory\n"
     ]
    },
    {
     "name": "stdout",
     "output_type": "stream",
     "text": [
      "Data from 2007-01-01 is not available\n"
     ]
    },
    {
     "name": "stderr",
     "output_type": "stream",
     "text": [
      "ERROR 4: /efs/NPP/NPP/MOD17/MOD17A3HGF.A2007001.h22v11.061.2021089152714.hdf: No such file or directory\n"
     ]
    },
    {
     "name": "stdout",
     "output_type": "stream",
     "text": [
      "Data from 2007-01-01 is not available\n"
     ]
    },
    {
     "name": "stderr",
     "output_type": "stream",
     "text": [
      "ERROR 4: /efs/NPP/NPP/MOD17/MOD17A3HGF.A2007001.h16v12.061.2021089162109.hdf: No such file or directory\n"
     ]
    },
    {
     "name": "stdout",
     "output_type": "stream",
     "text": [
      "Data from 2007-01-01 is not available\n"
     ]
    },
    {
     "name": "stderr",
     "output_type": "stream",
     "text": [
      "ERROR 4: /efs/NPP/NPP/MOD17/MOD17A3HGF.A2007001.h17v12.061.2021089162106.hdf: No such file or directory\n",
      "ERROR 4: /efs/NPP/NPP/MOD17/MOD17A3HGF.A2007001.h17v12.061.2021089162106.hdf: No such file or directory\n"
     ]
    },
    {
     "name": "stdout",
     "output_type": "stream",
     "text": [
      "Data from 2007-01-01 is not available\n"
     ]
    },
    {
     "name": "stderr",
     "output_type": "stream",
     "text": [
      "ERROR 4: /efs/NPP/NPP/MOD17/MOD17A3HGF.A2007001.h19v12.061.2021089153514.hdf: No such file or directory\n"
     ]
    },
    {
     "name": "stdout",
     "output_type": "stream",
     "text": [
      "Data from 2007-01-01 is not available\n"
     ]
    },
    {
     "name": "stderr",
     "output_type": "stream",
     "text": [
      "ERROR 4: /efs/NPP/NPP/MOD17/MOD17A3HGF.A2007001.h20v12.061.2021089155506.hdf: No such file or directory\n",
      "ERROR 4: /efs/NPP/NPP/MOD17/MOD17A3HGF.A2007001.h20v12.061.2021089155506.hdf: No such file or directory\n",
      "ERROR 4: /efs/NPP/NPP/MOD17/MOD17A3HGF.A2007001.h20v12.061.2021089155506.hdf: No such file or directory\n",
      "ERROR 4: /efs/NPP/NPP/MOD17/MOD17A3HGF.A2007001.h20v12.061.2021089155506.hdf: No such file or directory\n"
     ]
    },
    {
     "name": "stdout",
     "output_type": "stream",
     "text": [
      "Data from 2007-01-01 is not available\n"
     ]
    },
    {
     "name": "stderr",
     "output_type": "stream",
     "text": [
      "ERROR 4: /efs/NPP/NPP/MOD17/MOD17A3HGF.A2007001.h17v13.061.2021089152924.hdf: No such file or directory\n",
      "ERROR 4: /efs/NPP/NPP/MOD17/MOD17A3HGF.A2007001.h17v13.061.2021089152924.hdf: No such file or directory\n",
      "ERROR 4: /efs/NPP/NPP/MOD17/MOD17A3HGF.A2007001.h17v13.061.2021089152924.hdf: No such file or directory\n"
     ]
    },
    {
     "name": "stdout",
     "output_type": "stream",
     "text": [
      "Data from 2007-01-01 is not available\n"
     ]
    },
    {
     "name": "stderr",
     "output_type": "stream",
     "text": [
      "ERROR 4: /efs/NPP/NPP/MOD17/MOD17A3HGF.A2007001.h20v13.061.2021089160112.hdf: No such file or directory\n"
     ]
    },
    {
     "name": "stdout",
     "output_type": "stream",
     "text": [
      "Data from 2007-01-01 is not available\n"
     ]
    },
    {
     "name": "stderr",
     "output_type": "stream",
     "text": [
      "ERROR 4: /efs/NPP/NPP/MOD17/MOD17A3HGF.A2007001.h21v13.061.2021089152349.hdf: No such file or directory\n"
     ]
    },
    {
     "name": "stdout",
     "output_type": "stream",
     "text": [
      "Data from 2007-01-01 is not available\n"
     ]
    },
    {
     "name": "stderr",
     "output_type": "stream",
     "text": [
      "ERROR 4: /efs/NPP/NPP/MOD17/MOD17A3HGF.A2007001.h22v13.061.2021089150502.hdf: No such file or directory\n"
     ]
    }
   ],
   "source": [
    "import sys\n",
    "from watertools.Collect.MOD17.NPP_yearly import main as npp\n",
    "\n",
    "import watertools\n",
    "\n",
    "\n",
    "watertools.Set_Up_watertools.set_up_account()\n",
    "\n",
    "\n",
    "save_path = r'/efs/NPP'\n",
    "\n",
    "start_date = '2003-01-01'\n",
    "end_date = '2022-02-01'\n",
    "latlim = [-40,40]\n",
    "lonlim = [-20,55]\n",
    "\n",
    "npp(save_path,start_date,end_date,latlim,lonlim,1,1)\n"
   ]
  },
  {
   "cell_type": "code",
   "execution_count": null,
   "id": "fba47832-918f-4f49-838b-e1da81a222f8",
   "metadata": {},
   "outputs": [],
   "source": []
  }
 ],
 "metadata": {
  "kernelspec": {
   "display_name": "Python 3 (ipykernel)",
   "language": "python",
   "name": "python3"
  },
  "language_info": {
   "codemirror_mode": {
    "name": "ipython",
    "version": 3
   },
   "file_extension": ".py",
   "mimetype": "text/x-python",
   "name": "python",
   "nbconvert_exporter": "python",
   "pygments_lexer": "ipython3",
   "version": "3.7.7"
  }
 },
 "nbformat": 4,
 "nbformat_minor": 5
}
