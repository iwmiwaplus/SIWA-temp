{
 "cells": [
  {
   "cell_type": "code",
   "execution_count": 3,
   "id": "35a10b81-d0ff-4f8c-a877-567e163b3f69",
   "metadata": {},
   "outputs": [],
   "source": [
    "import pandas as pd\n",
    "import os\n",
    "import sys\n",
    "sys.path.append(r'/efs/CWA/scripts_aridity')\n",
    "from WAsheets import print_sheet_cwa as ps\n",
    "\n",
    "# Directory containing your CSV files\n",
    "directory = '/efs/CWA/hydroloop_results_03_21/yearly_cwa/'\n",
    "\n",
    "save_path = os.path.abspath(os.path.join(directory,'..','average_sheet1'))\n",
    "\n",
    "os.makedirs(save_path) if not os.path.exists(save_path) else None\n",
    "\n",
    "# Step 1: Read all the CSV files in the directory and extract 'VALUE' column\n",
    "csv_files = [file for file in os.listdir(directory) if file.endswith('.csv')]\n",
    "dataframes = []\n",
    "\n",
    "for csv_file in csv_files:\n",
    "    file_path = os.path.join(directory, csv_file)\n",
    "    df = pd.read_csv(file_path, delimiter=';')\n",
    "    dataframes.append(df['VALUE'])\n",
    "\n",
    "# Step 2: Calculate the average of 'VALUE' column\n",
    "average_values = sum(dataframes) / len(dataframes)\n",
    "\n",
    "# Step 3: Choose one CSV file to replace 'VALUE' column with averaged values\n",
    "# For example, we'll use the first CSV file\n",
    "first_csv_file = os.path.join(directory, csv_files[0])\n",
    "first_df = pd.read_csv(first_csv_file, delimiter=';')\n",
    "first_df['VALUE'] = average_values\n",
    "\n",
    "# Step 4: Save the modified CSV as a semicolon-delimited file\n",
    "file_name = 'sheet1.csv'\n",
    "average_file = os.path.join(save_path, file_name) \n",
    "first_df.to_csv(average_file, sep=';', index=False)\n"
   ]
  },
  {
   "cell_type": "code",
   "execution_count": 4,
   "id": "fe1a989d-42e5-431c-a678-897d22ee9a83",
   "metadata": {},
   "outputs": [
    {
     "data": {
      "text/plain": [
       "'/efs/CWA/hydroloop_results_03_21/average_sheet1/sheet1.pdf'"
      ]
     },
     "execution_count": 4,
     "metadata": {},
     "output_type": "execute_result"
    }
   ],
   "source": [
    "period= '2003-2021'\n",
    "\n",
    "str_unit='km3/year'\n",
    "\n",
    "basin = 'Africa'\n",
    "\n",
    "output=average_file.replace('.csv','.pdf')\n",
    "ps.print_sheet1(basin,period=period,\n",
    "                output=output,units=str_unit,data=average_file)"
   ]
  },
  {
   "cell_type": "code",
   "execution_count": null,
   "id": "fb187cf1-cf27-4e6a-b0d7-c5271f813199",
   "metadata": {},
   "outputs": [],
   "source": []
  }
 ],
 "metadata": {
  "kernelspec": {
   "display_name": "Python 3 (ipykernel)",
   "language": "python",
   "name": "python3"
  },
  "language_info": {
   "codemirror_mode": {
    "name": "ipython",
    "version": 3
   },
   "file_extension": ".py",
   "mimetype": "text/x-python",
   "name": "python",
   "nbconvert_exporter": "python",
   "pygments_lexer": "ipython3",
   "version": "3.7.7"
  }
 },
 "nbformat": 4,
 "nbformat_minor": 5
}
