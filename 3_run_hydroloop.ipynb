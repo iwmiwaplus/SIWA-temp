{
 "cells": [
  {
   "cell_type": "code",
   "execution_count": null,
   "metadata": {},
   "outputs": [],
   "source": [
    "import xarray as xr\n",
    "from dask.distributed import Client\n",
    "client = Client('tcp://10.0.0.241:8786')"
   ]
  },
  {
   "cell_type": "code",
   "execution_count": null,
   "metadata": {},
   "outputs": [],
   "source": [
    "client"
   ]
  },
  {
   "cell_type": "code",
   "execution_count": 1,
   "metadata": {},
   "outputs": [],
   "source": [
    "import os\n",
    "import sys\n",
    "sys.path.append(r'/efs/Lerma/scripts_aridity')\n",
    "import pandas as pd\n",
    "import time\n",
    "\n",
    "from WAsheets import calculate_flux as cf\n",
    "from WAsheets import hydroloop as hl"
   ]
  },
  {
   "cell_type": "markdown",
   "metadata": {},
   "source": [
    "## Hydroloop run"
   ]
  },
  {
   "cell_type": "code",
   "execution_count": 2,
   "metadata": {},
   "outputs": [],
   "source": [
    "wp_folder=r\"/efs/Lerma/results_chirps_ssebop/netcdfs\" #folder with nc files from water balance model\n",
    "BASIN={\n",
    "       'name': 'Mexico',\n",
    "       'hydroyear':'A-DEC', #Water year end month\n",
    "       'chunksize':[1, 5000, 5000],\n",
    "       'unit_conversion':1e6, #1e3 for input data in MCM, 1e6 for input data in km3\n",
    "       'output_folder':r\"/efs/Lerma/results_chirps_ssebop/Hydroloop_results\",\n",
    "       'gis_data':{\n",
    "               'basin_mask': r'/efs/Lerma/Static_data/Template_mexico.tif',\n",
    "               'subbasin_mask':{\n",
    "                       1: r\"/efs/Lerma/Static_data/Template_mexico.tif\"                       \n",
    "                       },\n",
    "               'dem':r\"/efs/Lerma/Static_data/dem.tif\",\n",
    "               'aeisw':r\"/efs/Lerma/Static_data/gmia_mexico.tif\", #area equipped with surface water irrigation percentage\n",
    "               'population':r\"/efs/Lerma/Static_data/pop_d_mexico.tif\",\n",
    "               'wpl':r\"/efs/Lerma/Static_data/WPL/WPL_Max1.tif\",\n",
    "               'environ_water_req': r\"/efs/Lerma/Static_data/EWR/EWR.tif\"\n",
    "               },\n",
    "       'data_cube':{\n",
    "           'monthly':{\n",
    "               'p':os.path.join(wp_folder,\n",
    "                                          'Mexico_P_CHIRPS.nc'),\n",
    "                'etref':os.path.join(wp_folder,\n",
    "                                          'Mexico_ETref_GLEAM.nc'),\n",
    "               'et':os.path.join(wp_folder,\n",
    "                                          'eta_monthly.nc'),\n",
    "               'i':os.path.join(wp_folder,\n",
    "                                          'i_monthly.nc'),\n",
    "               't':None,\n",
    "               'e':None,\n",
    "               'nrd':os.path.join(wp_folder,\n",
    "                                          'nRD_monthly.nc'),\n",
    "               'etincr':os.path.join(wp_folder,\n",
    "                                          'etincr_monthly.nc'),\n",
    "               'etrain':os.path.join(wp_folder,\n",
    "                                          'etrain_monthly.nc'),\n",
    "               'lai':os.path.join(wp_folder,\n",
    "                                          'Mexico_LAI_MOD15.nc'),\n",
    "              'ndm':os.path.join(wp_folder,\n",
    "                                          'Mexico_NDM_ProbaV.nc'),\n",
    "             'sro':os.path.join(wp_folder,\n",
    "                                         'sro_monthly.nc'),\n",
    "             'sroincr':os.path.join(wp_folder,\n",
    "                                          'd_sro_monthly.nc'),\n",
    "             'perc':os.path.join(wp_folder,\n",
    "                                          'perco_monthly.nc'),\n",
    "             'percincr':os.path.join(wp_folder,\n",
    "                                          'd_perco_monthly.nc'),\n",
    "             'bf':os.path.join(wp_folder,\n",
    "                                          'bf_monthly.nc'),\n",
    "            'supply':os.path.join(wp_folder,\n",
    "                                          'supply_monthly.nc')\n",
    "               },\n",
    "           'yearly':{\n",
    "                'lu':os.path.join(wp_folder,\n",
    "                                          'Mexico_LU_WA_CCI.nc'),\n",
    "                   }      \n",
    "                     },\n",
    "        'ts_data':{\n",
    "                'q_in_sw':{\n",
    "                        'basin':None,\n",
    "                        1:None, #unit MCM\n",
    "                        2:None,\n",
    "                        },\n",
    "                'q_in_gw':{\n",
    "                        'basin':None,\n",
    "                        1:None, #unit MCM\n",
    "                        2:None,\n",
    "                        },\n",
    "                'q_in_desal':{\n",
    "                        'basin':None,\n",
    "                        1:None, #unit MCM\n",
    "                        2:None,\n",
    "                        },\n",
    "                'q_outflow':{ #river flow\n",
    "                        'basin':None,\n",
    "                        1:None,\n",
    "                        2:None\n",
    "                        },\n",
    "                'q_out_sw':{ #interbasin transfer\n",
    "                        'basin':None,\n",
    "                        1:None,\n",
    "                        2:None,\n",
    "                        },\n",
    "                'q_out_gw':{ #interbasin transfer\n",
    "                        'basin':None,\n",
    "                        1:None,\n",
    "                        2:None,\n",
    "                        },\n",
    "                'dS_sw':{\n",
    "                        'basin':None,\n",
    "                        1:None, #unit MCM\n",
    "                        2:None,\n",
    "                        },\n",
    "                                \n",
    "                },\n",
    "        'params':{\n",
    "            'crops':{#lu_code: [r'seasons_dates.csv','Crop_type']\n",
    "                    35.0: [r'/efs/Cimanuk/static_datasets/growing seasons/rice_rain_java.txt','N/A'],\n",
    "                    54.0: [r'/efs/Cimanuk/static_datasets/growing seasons/rice_irrigated_java.txt','N/A'],    \n",
    "                    52.0: [r'/efs/Cimanuk/static_datasets/growing seasons/palm_perennial.txt','N/A'],\n",
    "                    33.0: [r'/efs/Cimanuk/static_datasets/growing seasons/palm_perennial.txt','N/A']             \n",
    "                    },\n",
    "            'dico_in':{1:[]},\n",
    "            'dico_out':{1:[]},\n",
    "            'residential_sw_supply_fraction':0.6,\n",
    "            'wcpc':110, #Water consumption per capita per day in [liter/person/day]\n",
    "            'wcpc_min':100, #minimum demand\n",
    "            'fraction_xs':[4,25,4,25]\n",
    "        }\n",
    "        \n",
    "       }\n",
    "            "
   ]
  },
  {
   "cell_type": "code",
   "execution_count": 3,
   "metadata": {},
   "outputs": [
    {
     "data": {
      "text/plain": [
       "[]"
      ]
     },
     "execution_count": 3,
     "metadata": {},
     "output_type": "execute_result"
    }
   ],
   "source": [
    "BASIN['params']['dico_in'][1]"
   ]
  },
  {
   "cell_type": "code",
   "execution_count": 4,
   "metadata": {},
   "outputs": [],
   "source": [
    "start = time.time()\n",
    "\n",
    "out_folder = BASIN['output_folder']\n",
    "if not os.path.exists(out_folder):\n",
    "    os.makedirs(out_folder)"
   ]
  },
  {
   "cell_type": "code",
   "execution_count": 6,
   "metadata": {},
   "outputs": [],
   "source": [
    "# time.sleep(10000)"
   ]
  },
  {
   "cell_type": "code",
   "execution_count": 6,
   "metadata": {},
   "outputs": [
    {
     "name": "stdout",
     "output_type": "stream",
     "text": [
      "Save monthly LU datacube as /efs/Lerma/results_chirps_ssebop/netcdfs/Mexico_LU_WA_CCI_resampled_monthly.nc\n"
     ]
    }
   ],
   "source": [
    "### Resample yearly LU to monthly netCDF\n",
    "yearly_nc=BASIN['data_cube']['yearly']['lu']\n",
    "sample_nc=BASIN['data_cube']['monthly']['p']\n",
    "monthly_nc=cf.resample_to_monthly_dataset(yearly_nc, sample_nc,\n",
    "                                start_month=0,\n",
    "                                output=None,\n",
    "                                chunksize=BASIN['chunksize'])"
   ]
  },
  {
   "cell_type": "code",
   "execution_count": 5,
   "metadata": {},
   "outputs": [],
   "source": [
    "\n",
    "yearly_nc=BASIN['data_cube']['yearly']['lu']\n",
    "sample_nc=BASIN['data_cube']['monthly']['p']\n",
    "monthly_nc = r'/efs/Lerma/results_chirps_ssebop/netcdfs/Mexico_LU_WA_CCI_resampled_monthly.nc'"
   ]
  },
  {
   "cell_type": "code",
   "execution_count": null,
   "metadata": {},
   "outputs": [
    {
     "name": "stderr",
     "output_type": "stream",
     "text": [
      "/home/iwmi-wa/anaconda3/envs/wa_env/lib/python3.7/site-packages/numpy/lib/nanfunctions.py:1665: RuntimeWarning: Degrees of freedom <= 0 for slice.\n",
      "  keepdims=keepdims)\n",
      "/home/iwmi-wa/anaconda3/envs/wa_env/lib/python3.7/site-packages/numpy/lib/nanfunctions.py:1665: RuntimeWarning: Degrees of freedom <= 0 for slice.\n",
      "  keepdims=keepdims)\n",
      "/home/iwmi-wa/anaconda3/envs/wa_env/lib/python3.7/site-packages/numpy/lib/nanfunctions.py:1665: RuntimeWarning: Degrees of freedom <= 0 for slice.\n",
      "  keepdims=keepdims)\n",
      "/home/iwmi-wa/anaconda3/envs/wa_env/lib/python3.7/site-packages/numpy/lib/nanfunctions.py:1665: RuntimeWarning: Degrees of freedom <= 0 for slice.\n",
      "  keepdims=keepdims)\n",
      "/home/iwmi-wa/anaconda3/envs/wa_env/lib/python3.7/site-packages/numpy/lib/nanfunctions.py:1665: RuntimeWarning: Degrees of freedom <= 0 for slice.\n",
      "  keepdims=keepdims)\n",
      "/home/iwmi-wa/anaconda3/envs/wa_env/lib/python3.7/site-packages/numpy/lib/nanfunctions.py:1665: RuntimeWarning: Degrees of freedom <= 0 for slice.\n",
      "  keepdims=keepdims)\n",
      "/home/iwmi-wa/anaconda3/envs/wa_env/lib/python3.7/site-packages/numpy/lib/nanfunctions.py:1665: RuntimeWarning: Degrees of freedom <= 0 for slice.\n",
      "  keepdims=keepdims)\n",
      "/home/iwmi-wa/anaconda3/envs/wa_env/lib/python3.7/site-packages/numpy/lib/nanfunctions.py:1665: RuntimeWarning: Degrees of freedom <= 0 for slice.\n",
      "  keepdims=keepdims)\n",
      "/home/iwmi-wa/anaconda3/envs/wa_env/lib/python3.7/site-packages/numpy/lib/nanfunctions.py:1665: RuntimeWarning: Degrees of freedom <= 0 for slice.\n",
      "  keepdims=keepdims)\n",
      "/home/iwmi-wa/anaconda3/envs/wa_env/lib/python3.7/site-packages/numpy/lib/nanfunctions.py:1665: RuntimeWarning: Degrees of freedom <= 0 for slice.\n",
      "  keepdims=keepdims)\n",
      "/home/iwmi-wa/anaconda3/envs/wa_env/lib/python3.7/site-packages/numpy/lib/nanfunctions.py:1665: RuntimeWarning: Degrees of freedom <= 0 for slice.\n",
      "  keepdims=keepdims)\n",
      "/home/iwmi-wa/anaconda3/envs/wa_env/lib/python3.7/site-packages/numpy/lib/nanfunctions.py:1665: RuntimeWarning: Degrees of freedom <= 0 for slice.\n",
      "  keepdims=keepdims)\n"
     ]
    }
   ],
   "source": [
    "## check this one again\n",
    "BASIN['data_cube']['monthly']['lu']=monthly_nc\n",
    "### Split ETI\n",
    "e_nc,i_nc,t_nc=hl.split_ETI(et_nc=BASIN['data_cube']['monthly']['et'],\n",
    "                            i_nc=BASIN['data_cube']['monthly']['i'],\n",
    "                            t_nc=BASIN['data_cube']['monthly']['t'],\n",
    "                              p_nc=BASIN['data_cube']['monthly']['p'],\n",
    "                              lai_nc=BASIN['data_cube']['monthly']['lai'],\n",
    "                              nrd_nc=BASIN['data_cube']['monthly']['nrd'],\n",
    "                              ndm_nc=BASIN['data_cube']['monthly']['ndm']\n",
    "              ) "
   ]
  },
  {
   "cell_type": "code",
   "execution_count": null,
   "metadata": {},
   "outputs": [],
   "source": [
    "BASIN['data_cube']['monthly']['i']=i_nc\n",
    "BASIN['data_cube']['monthly']['t']=t_nc\n",
    "BASIN['data_cube']['monthly']['e']=e_nc"
   ]
  },
  {
   "cell_type": "code",
   "execution_count": null,
   "metadata": {},
   "outputs": [],
   "source": [
    "### split supply\n",
    "sw_supply_fraction_nc=hl.calc_sw_supply_fraction_by_LU(BASIN['data_cube']['monthly']['lu'],\n",
    "                                                       BASIN['gis_data']['aeisw'],\n",
    "                                                      chunksize=BASIN['chunksize'])\n",
    "\n",
    "sw_supply_nc,gw_supply_nc=hl.split_flow(BASIN['data_cube']['monthly']['supply'],\n",
    "              fraction_nc=sw_supply_fraction_nc, chunksize=BASIN['chunksize'])"
   ]
  },
  {
   "cell_type": "code",
   "execution_count": null,
   "metadata": {},
   "outputs": [],
   "source": [
    "BASIN['data_cube']['monthly']['t'] = os.path.join(wp_folder,'transpiration.nc')\n",
    "BASIN['data_cube']['monthly']['e'] = os.path.join(wp_folder,'evaporation.nc')\n",
    "BASIN['data_cube']['monthly']['lu'] = os.path.join(wp_folder,'AFR_LU_WA_resampled_monthly.nc')\n",
    "BASIN['data_cube']['monthly']['sw_supply_fraction'] = os.path.join(wp_folder,'sw_supply_fraction.nc')\n",
    "BASIN['data_cube']['monthly']['supply_sw'] = os.path.join(wp_folder,'total_sw_supply.nc')\n",
    "BASIN['data_cube']['monthly']['demand'] = os.path.join(wp_folder,'total_demand.nc')\n",
    "BASIN['data_cube']['monthly']['fraction'] = os.path.join(wp_folder,'fraction.nc')\n",
    "BASIN['data_cube']['monthly']['return_sw'] = os.path.join(wp_folder,'return_sw.nc')\n",
    "BASIN['data_cube']['monthly']['return_gw'] = os.path.join(wp_folder,'return_gw.nc')\n",
    "BASIN['data_cube']['monthly']['supply'] = os.path.join(wp_folder,'total_supply.nc')\n",
    "BASIN['data_cube']['monthly']['sw_supply_fraction'] = os.path.join(wp_folder,'sw_supply_fraction.nc')\n",
    "BASIN['data_cube']['monthly']['sw_return_fraction'] = os.path.join(wp_folder,'sw_return_fraction.nc')\n",
    "BASIN['data_cube']['monthly']['supply_monthly_sw'] = os.path.join(wp_folder,'supply_monthly_sw.nc')\n",
    "BASIN['data_cube']['monthly']['supply_monthly_gw'] = os.path.join(wp_folder,'supply_monthly_gw.nc')\n",
    "BASIN['data_cube']['monthly']['residential_supply'] = os.path.join(wp_folder,'residential_supply.nc')\n",
    "BASIN['data_cube']['monthly']['residential_demand'] = os.path.join(wp_folder,'residential_demand.nc')"
   ]
  },
  {
   "cell_type": "code",
   "execution_count": null,
   "metadata": {},
   "outputs": [],
   "source": [
    "# check the numbers for Irrigated crops ---- above"
   ]
  },
  {
   "cell_type": "code",
   "execution_count": null,
   "metadata": {},
   "outputs": [],
   "source": [
    "### demand of land surface\n",
    "demand_nc=hl.calc_land_surface_water_demand(BASIN['data_cube']['monthly']['lai'],\n",
    "                                  BASIN['data_cube']['monthly']['etref'],\n",
    "                                  BASIN['data_cube']['monthly']['p'],\n",
    "                                  BASIN['data_cube']['monthly']['lu'],\n",
    "                                  chunksize=BASIN['chunksize'])"
   ]
  },
  {
   "cell_type": "code",
   "execution_count": null,
   "metadata": {},
   "outputs": [],
   "source": [
    "### non-consumed supply or return flow\n",
    "return_nc=hl.substract_flow(BASIN['data_cube']['monthly']['supply'],\n",
    "                                  BASIN['data_cube']['monthly']['etincr'],\n",
    "                                  name='return',\n",
    "                                  chunksize=BASIN['chunksize']\n",
    "                                  )"
   ]
  },
  {
   "cell_type": "code",
   "execution_count": null,
   "metadata": {},
   "outputs": [],
   "source": [
    "### split return by sroincr/total_incremental ratio\n",
    "sw_return_fraction_nc=hl.calc_sw_return_fraction(\n",
    "        BASIN['data_cube']['monthly']['sroincr'],\n",
    "        BASIN['data_cube']['monthly']['percincr'])\n",
    "sw_return_nc,gw_return_nc=hl.split_flow(return_nc,fraction_nc=sw_return_fraction_nc, chunksize=BASIN['chunksize'])"
   ]
  },
  {
   "cell_type": "code",
   "execution_count": null,
   "metadata": {},
   "outputs": [],
   "source": [
    "### residential supply and demand\n",
    "residential_supply_nc=hl.calc_residential_water_consumption(\n",
    "        BASIN['gis_data']['population'],\n",
    "        BASIN['gis_data']['basin_mask'],\n",
    "        BASIN['data_cube']['monthly']['lu'],\n",
    "        wcpc=110,\n",
    "        flow_type='supply',\n",
    "        chunksize=BASIN['chunksize']\n",
    "        )\n",
    "\n",
    "residential_demand_nc=hl.calc_residential_water_consumption(\n",
    "        BASIN['gis_data']['population'],\n",
    "        BASIN['gis_data']['basin_mask'],\n",
    "        BASIN['data_cube']['monthly']['lu'],\n",
    "        wcpc=100,\n",
    "        flow_type='demand',\n",
    "        chunksize=BASIN['chunksize'])"
   ]
  },
  {
   "cell_type": "code",
   "execution_count": null,
   "metadata": {},
   "outputs": [],
   "source": [
    "sw_return_nc = BASIN['data_cube']['monthly']['return_sw']\n",
    "gw_return_nc = BASIN['data_cube']['monthly']['return_gw']\n",
    "sw_supply_fraction_nc = BASIN['data_cube']['monthly']['sw_supply_fraction']\n",
    "sw_return_fraction_nc = BASIN['data_cube']['monthly']['sw_return_fraction']\n",
    "residential_supply_nc = BASIN['data_cube']['monthly']['residential_supply']\n",
    "residential_demand_nc = BASIN['data_cube']['monthly']['residential_demand']\n",
    "sw_supply_nc = BASIN['data_cube']['monthly']['supply_monthly_sw']\n",
    "gw_supply_nc = BASIN['data_cube']['monthly']['supply_monthly_gw']"
   ]
  },
  {
   "cell_type": "code",
   "execution_count": null,
   "metadata": {},
   "outputs": [],
   "source": [
    "### split return flow by source sw/gw\n",
    "return_sw_from_sw_nc,return_sw_from_gw_nc=hl.split_flow(\n",
    "        sw_return_nc,fraction_nc=sw_supply_fraction_nc, chunksize=BASIN['chunksize'])\n",
    "return_gw_from_sw_nc,return_gw_from_gw_nc=hl.split_flow(\n",
    "        gw_return_nc,fraction_nc=sw_supply_fraction_nc, chunksize=BASIN['chunksize'])"
   ]
  },
  {
   "cell_type": "code",
   "execution_count": null,
   "metadata": {},
   "outputs": [],
   "source": [
    "### split residential supply by sw/gw fraction\n",
    "f=BASIN['params']['residential_sw_supply_fraction']\n",
    "sw_residential_supply_nc,gw_residential_supply_nc=hl.split_flow(\n",
    "        residential_supply_nc,fraction=f, chunksize=BASIN['chunksize'])"
   ]
  },
  {
   "cell_type": "code",
   "execution_count": null,
   "metadata": {},
   "outputs": [],
   "source": [
    "### add residential sw/gw supply to sw/gw supply and sw/gw return\n",
    "BASIN['data_cube']['monthly']['supply_sw']=hl.add_flow(\n",
    "        sw_supply_nc,sw_residential_supply_nc,name='total_sw_supply', chunksize=BASIN['chunksize'])\n",
    "BASIN['data_cube']['monthly']['supply_gw']=hl.add_flow(\n",
    "        gw_supply_nc,gw_residential_supply_nc,name='total_gw_supply', chunksize=BASIN['chunksize'])"
   ]
  },
  {
   "cell_type": "code",
   "execution_count": null,
   "metadata": {},
   "outputs": [],
   "source": [
    "#assume that residential supply from sw return to sw, from gw return to gw\n",
    "BASIN['data_cube']['monthly']['return_sw_from_sw']=hl.add_flow(\n",
    "        return_sw_from_sw_nc,sw_residential_supply_nc,name='total_return_sw_from_sw', chunksize=BASIN['chunksize'])\n",
    "BASIN['data_cube']['monthly']['return_gw_from_gw']=hl.add_flow(\n",
    "        return_gw_from_gw_nc,gw_residential_supply_nc,name='total_return_gw_from_gw', chunksize=BASIN['chunksize'])\n",
    "\n",
    "BASIN['data_cube']['monthly']['return_sw_from_gw']=return_sw_from_gw_nc\n",
    "BASIN['data_cube']['monthly']['return_gw_from_sw']=return_gw_from_sw_nc"
   ]
  },
  {
   "cell_type": "code",
   "execution_count": null,
   "metadata": {},
   "outputs": [],
   "source": [
    "### add residential demand to total demand\n",
    "BASIN['data_cube']['monthly']['demand']=hl.add_flow(\n",
    "        demand_nc,residential_demand_nc,name='total_demand', chunksize=BASIN['chunksize'])\n",
    "### total return and supply\n",
    "BASIN['data_cube']['monthly']['return_sw']=hl.add_flow(\n",
    "        BASIN['data_cube']['monthly']['return_sw_from_gw'],\n",
    "        BASIN['data_cube']['monthly']['return_sw_from_sw'],\n",
    "        name='return_sw',\n",
    "        chunksize=BASIN['chunksize'])\n",
    "BASIN['data_cube']['monthly']['return_gw']=hl.add_flow(\n",
    "        BASIN['data_cube']['monthly']['return_gw_from_gw'],\n",
    "        BASIN['data_cube']['monthly']['return_gw_from_sw'],\n",
    "        name='return_gw',\n",
    "        chunksize=BASIN['chunksize'])\n",
    "BASIN['data_cube']['monthly']['supply']=hl.add_flow(\n",
    "        BASIN['data_cube']['monthly']['supply_sw'],\n",
    "        BASIN['data_cube']['monthly']['supply_gw'],\n",
    "        name='total_supply',\n",
    "        chunksize=BASIN['chunksize'])"
   ]
  },
  {
   "cell_type": "code",
   "execution_count": null,
   "metadata": {},
   "outputs": [],
   "source": [
    "### calculate recharge\n",
    "BASIN['data_cube']['monthly']['recharge']=BASIN['data_cube']['monthly']['perc']\n",
    "\n",
    "BASIN['data_cube']['monthly']['fraction'] = hl.calc_fractions(BASIN['data_cube']['monthly']['p'],\n",
    "                                                              dem=BASIN['gis_data']['dem'],\n",
    "                                                              lu=BASIN['data_cube']['yearly']['lu'],\n",
    "                                                              fraction_altitude_xs=BASIN['params']['fraction_xs'],\n",
    "                                                              chunksize=BASIN['chunksize'])"
   ]
  },
  {
   "cell_type": "code",
   "execution_count": null,
   "metadata": {},
   "outputs": [],
   "source": [
    "# Run from here\n",
    "\n",
    "BASIN['data_cube']['monthly']['supply'] = os.path.join(wp_folder,'return.nc')\n",
    "BASIN['data_cube']['monthly']['supply_sw'] = os.path.join(wp_folder,'total_sw_supply.nc')\n",
    "BASIN['data_cube']['monthly']['supply_gw'] = os.path.join(wp_folder,'total_gw_supply.nc')\n",
    "BASIN['data_cube']['monthly']['return_sw_from_sw'] = os.path.join(wp_folder,'total_return_sw_from_sw.nc')\n",
    "BASIN['data_cube']['monthly']['return_gw_from_gw'] = os.path.join(wp_folder,'total_return_gw_from_gw.nc')\n",
    "BASIN['data_cube']['monthly']['demand'] = os.path.join(wp_folder,'total_demand.nc')\n",
    "BASIN['data_cube']['monthly']['return_sw'] = os.path.join(wp_folder,'return_sw.nc')\n",
    "BASIN['data_cube']['monthly']['return_gw'] = os.path.join(wp_folder,'return_gw.nc')\n",
    "BASIN['data_cube']['monthly']['supply'] = os.path.join(wp_folder,'total_supply.nc')\n",
    "BASIN['data_cube']['monthly']['t'] = os.path.join(wp_folder,'transpiration.nc')\n",
    "BASIN['data_cube']['monthly']['e'] = os.path.join(wp_folder,'evaporation.nc')\n",
    "BASIN['data_cube']['monthly']['lu'] = os.path.join(wp_folder,'Incomati_LU_WA_resampled_monthly.nc')\n",
    "BASIN['data_cube']['monthly']['fraction'] = os.path.join(wp_folder,'fractions.nc')"
   ]
  },
  {
   "cell_type": "code",
   "execution_count": null,
   "metadata": {},
   "outputs": [],
   "source": [
    "### Calculate subbasin-wide timeseries\n",
    "\n",
    "for sb in BASIN['gis_data']['subbasin_mask']:\n",
    "    subbasin={}\n",
    "    for key in ['sro','return_sw','bf','supply_sw']:\n",
    "        output=os.path.join(BASIN['output_folder'],\n",
    "                            'subbasin_{0}_{1}.csv'.format(sb,key))\n",
    "        df=cf.calc_flux_per_basin(BASIN['data_cube']['monthly'][key],\n",
    "                                BASIN['gis_data']['subbasin_mask'][sb],\n",
    "                                output=output)\n",
    "        subbasin[key]=df        \n",
    "    # read subbasin inflow\n",
    "    if len(BASIN['params']['dico_in'][sb])==0: #no inflow\n",
    "        inflow=None \n",
    "    else: #1 or more inflows\n",
    "        for i in range(len(BASIN['params']['dico_in'][sb])):            \n",
    "            if BASIN['params']['dico_in'][sb][i] == 0: #inflow from outside\n",
    "                needed_params = ['q_in_desal','q_in_sw','q_in_gw'] #check only inflows\n",
    "                t = 0\n",
    "                for q_in in BASIN['ts_data'].keys():\n",
    "                    if (q_in in needed_params) and (BASIN['ts_data'][q_in][sb] != None):       #check csv                 \n",
    "                        df_inflow_ = pd.read_csv(BASIN['ts_data'][q_in][sb],\n",
    "                                      sep=';',index_col=0)\n",
    "                        \n",
    "                        if t == 0:\n",
    "                            df_inflow = df_inflow_\n",
    "                        else:\n",
    "                            df_inflow = df_inflow + df_inflow_\n",
    "                        \n",
    "                        t += 1\n",
    "                        \n",
    "                if t == 0:                                \n",
    "                    print('Warning, missing inflow textfiles, proceeding without inflow textfiles')\n",
    "                 \n",
    "                         \n",
    "            else: #inflow from upstream subbasin                  \n",
    "                subbasin_in=BASIN['params']['dico_in'][sb][i]\n",
    "                df_inflow=pd.read_csv(\n",
    "                        BASIN['ts_data']['q_outflow'][subbasin_in],\n",
    "                                      sep=';',index_col=0) \n",
    "                # df_inflow = pd.read_csv(BASIN['ts_data']['q_in_sw'][subbasin_in],\n",
    "                #                       sep=';',index_col=0)                \n",
    "                #assuming that outflow of upstream subbasin was calculated before\n",
    "            if i == 0:\n",
    "                inflow=df_inflow\n",
    "            else:\n",
    "                inflow=inflow+df_inflow    \n",
    "    \n",
    "    ## Interbasin transfer outflow\n",
    "    if BASIN['ts_data']['q_out_sw'][sb] == None:\n",
    "        q_out_sw=None\n",
    "    else: \n",
    "        q_out_sw = pd.read_csv(\n",
    "                        BASIN['ts_data']['q_out_sw'][sb],\n",
    "                                      sep=';',index_col=0)\n",
    "\n",
    "    # calculate sw discharge and dS from pixel-based model results\n",
    "    output=os.path.join(BASIN['output_folder'],\n",
    "                        'subbasin_{0}_{1}.csv'.format(sb,'{0}'))\n",
    "    discharge,dS_sw=hl.calc_sw_from_wp(subbasin['sro'],\n",
    "                                        subbasin['return_sw'],\n",
    "                                        subbasin['bf'],\n",
    "                                        subbasin['supply_sw'],\n",
    "                                        inflow=inflow,\n",
    "                                        q_out_sw = q_out_sw,\n",
    "                                        output=output,\n",
    "                                        outflow=True, #not endorheic basin\n",
    "                                        plot=True\n",
    "                                        )\n",
    "    BASIN['ts_data']['q_outflow'][sb]=discharge\n",
    "    BASIN['ts_data']['dS_sw'][sb]=dS_sw    \n",
    "    inflow = None"
   ]
  },
  {
   "cell_type": "code",
   "execution_count": null,
   "metadata": {},
   "outputs": [],
   "source": [
    "# outflow of basin is outflow of downstream subbasin   \n",
    "for sb in BASIN['params']['dico_out']:\n",
    "    if 0 in BASIN['params']['dico_out'][sb]: #if subbasin outflow is basin outflow\n",
    "        BASIN['ts_data']['q_outflow']['basin']=BASIN['ts_data']['q_outflow'][sb]\n",
    "\n",
    "# dS_sw of basin is sum of dS_sw of all subbasins\n",
    "for i in range(len(BASIN['gis_data']['subbasin_mask'])):\n",
    "    sb=list(BASIN['gis_data']['subbasin_mask'].keys())[i]\n",
    "    df=pd.read_csv(BASIN['ts_data']['dS_sw'][sb],sep=';',index_col=0)\n",
    "    if i==0:\n",
    "        dS_sw=df\n",
    "    else:\n",
    "        dS_sw=dS_sw+df\n",
    "dS_sw.to_csv(os.path.join(BASIN['output_folder'],\n",
    "                        'basin_dS_sw.csv'),sep=';')\n",
    "BASIN['ts_data']['dS_sw']['basin']=os.path.join(BASIN['output_folder'],\n",
    "                        'basin_dS_sw.csv')"
   ]
  },
  {
   "cell_type": "code",
   "execution_count": null,
   "metadata": {},
   "outputs": [],
   "source": [
    "#%% yearly datacube\n",
    "for key in BASIN['data_cube']['monthly']:\n",
    "    if key != 'lu':\n",
    "        print(key)\n",
    "        BASIN['data_cube']['yearly'][key] = cf.create_yearly_dataset(\n",
    "                monthly_nc = BASIN['data_cube']['monthly'][key], hydroyear = BASIN['hydroyear'], chunksize = BASIN['chunksize'])"
   ]
  },
  {
   "cell_type": "code",
   "execution_count": null,
   "metadata": {},
   "outputs": [],
   "source": [
    "#%% Calculate yearly and (intermediate) monthly sheet csvs\n",
    "from WAsheets import sheet1\n",
    "from WAsheets import sheet2\n",
    "from WAsheets import sheet3\n",
    "from WAsheets import sheet4\n",
    "from WAsheets import sheet5\n",
    "from WAsheets import sheet6\n",
    "\n",
    "sheet1_yearly_csvs=sheet1.main(BASIN,unit_conversion=BASIN['unit_conversion'])\n",
    "# sheet2_yearly_csvs=sheet2.main(BASIN,unit_conversion=BASIN['unit_conversion'])"
   ]
  },
  {
   "cell_type": "code",
   "execution_count": null,
   "metadata": {},
   "outputs": [],
   "source": [
    "from WAsheets import print_sheet as ps\n",
    "\n",
    "if BASIN['unit_conversion'] == 1e6:\n",
    "    str_unit='km3/year'\n",
    "elif BASIN['unit_conversion']==1e3:\n",
    "    str_unit='MCM/year'\n",
    "    \n",
    "for sheet1_csv in sheet1_yearly_csvs:\n",
    "    period=os.path.basename(sheet1_csv).split('.')[0].split('_')[-1]\n",
    "    output=sheet1_csv.replace('.csv','.pdf')\n",
    "    ps.print_sheet1(BASIN['name'],period=period,\n",
    "                    output=output,units=str_unit,data=sheet1_csv)\n"
   ]
  },
  {
   "cell_type": "code",
   "execution_count": null,
   "metadata": {},
   "outputs": [],
   "source": [
    "from WAsheets import print_sheet as ps\n",
    "\n",
    "if BASIN['unit_conversion'] == 1e6:\n",
    "    str_unit='km3/year'\n",
    "elif BASIN['unit_conversion']==1e3:\n",
    "    str_unit='MCM/year'\n",
    "    \n",
    "for sheet2_csv in sheet2_yearly_csvs:\n",
    "    period=os.path.basename(sheet2_csv).split('.')[0].split('_')[-1]\n",
    "    output=sheet2_csv.replace('.csv','.pdf')\n",
    "    ps.print_sheet2(BASIN['name'],period=period,\n",
    "                    output=output,units=str_unit,data=sheet2_csv)"
   ]
  },
  {
   "cell_type": "code",
   "execution_count": null,
   "metadata": {},
   "outputs": [],
   "source": [
    "end = time.time()\n",
    "total_time = end - start\n",
    "print ('total time :',total_time)"
   ]
  },
  {
   "cell_type": "code",
   "execution_count": null,
   "metadata": {},
   "outputs": [],
   "source": [
    "import glob\n",
    "import os\n",
    "from WAsheets import print_sheet_cwa as ps\n",
    "import shutil\n",
    "\n",
    "str_unit='km3/year'\n",
    "\n",
    "out_folder = BASIN['output_folder']\n",
    "\n",
    "directory_path = os.path.join(out_folder,r'csv/sheet1/yearly_cwa/')\n",
    "old_path = os.path.join(out_folder,r'csv/sheet1/yearly/')\n",
    "\n",
    "try :\n",
    "    shutil.copytree(old_path, directory_path)\n",
    "except : \n",
    "    pass\n",
    "\n",
    "csv_files = glob.glob(os.path.join(directory_path, '*.csv'))\n",
    "sheet1_yearly_csvs = [file_path for file_path in csv_files]\n",
    "\n",
    "basin = 'Lerma'\n",
    "\n",
    "\n",
    "for sheet1_csv in sheet1_yearly_csvs:\n",
    "    period=os.path.basename(sheet1_csv).split('.')[0].split('_')[-1]\n",
    "    output=sheet1_csv.replace('.csv','.pdf')\n",
    "    ps.print_sheet1(basin,period=period,\n",
    "                    output=output,units=str_unit,data=sheet1_csv)"
   ]
  },
  {
   "cell_type": "code",
   "execution_count": null,
   "metadata": {},
   "outputs": [],
   "source": [
    "import pandas as pd\n",
    "import os\n",
    "import sys\n",
    "sys.path.append(r'/efs/Lerma/scripts_aridity')\n",
    "from WAsheets import print_sheet_cwa as ps\n",
    "\n",
    "# Directory containing your CSV files\n",
    "directory = '/efs/Lerma/results_chirps_gleam/Hydroloop_results/csv/sheet1/yearly_cwa'\n",
    "\n",
    "save_path = os.path.abspath(os.path.join(directory,'..','average_sheet1'))\n",
    "\n",
    "os.makedirs(save_path) if not os.path.exists(save_path) else None\n",
    "\n",
    "# Step 1: Read all the CSV files in the directory and extract 'VALUE' column\n",
    "csv_files = [file for file in os.listdir(directory) if file.endswith('.csv')]\n",
    "dataframes = []\n",
    "\n",
    "for csv_file in csv_files:\n",
    "    file_path = os.path.join(directory, csv_file)\n",
    "    df = pd.read_csv(file_path, delimiter=';')\n",
    "    dataframes.append(df['VALUE'])\n",
    "\n",
    "# Step 2: Calculate the average of 'VALUE' column\n",
    "average_values = sum(dataframes) / len(dataframes)\n",
    "\n",
    "# Step 3: Choose one CSV file to replace 'VALUE' column with averaged values\n",
    "# For example, we'll use the first CSV file\n",
    "first_csv_file = os.path.join(directory, csv_files[0])\n",
    "first_df = pd.read_csv(first_csv_file, delimiter=';')\n",
    "first_df['VALUE'] = average_values\n",
    "\n",
    "# Step 4: Save the modified CSV as a semicolon-delimited file\n",
    "file_name = 'sheet1_2012-2023.csv'\n",
    "average_file = os.path.join(save_path, file_name) \n",
    "first_df.to_csv(average_file, sep=';', index=False)"
   ]
  },
  {
   "cell_type": "code",
   "execution_count": null,
   "metadata": {},
   "outputs": [],
   "source": [
    "#Run from here\n",
    "import glob\n",
    "import os\n",
    "sys.path.append(r'/efs/Lerma/scripts_aridity')\n",
    "from WAsheets import print_sheet_cwa as ps\n",
    "import shutil\n",
    " \n",
    " \n",
    "unit = 1e6\n",
    " \n",
    "if unit == 1e6:\n",
    "    str_unit='km3/year'\n",
    "elif unit==1e3:\n",
    "    str_unit='MCM/year'\n",
    " \n",
    "# out_folder = BASIN['output_folder']\n",
    "out_folder = r\"/efs/Lerma/results_chirps_gleam/Hydroloop_results/csv/sheet1\"\n",
    " \n",
    "directory_path = os.path.join(out_folder,r'average_sheet1/')\n",
    "old_path = os.path.join(out_folder,r'yearly_cwa/')\n",
    " \n",
    "try :\n",
    "    shutil.copytree(old_path, directory_path)\n",
    "except : \n",
    "    pass\n",
    " \n",
    "csv_files = glob.glob(os.path.join(directory_path, '*.csv'))\n",
    "sheet1_yearly_csvs = [file_path for file_path in csv_files]\n",
    " \n",
    "# basin = BASIN['name']\n",
    "basin = 'Lerma'\n",
    " \n",
    " \n",
    "for sheet1_csv in sheet1_yearly_csvs:\n",
    "    period=os.path.basename(sheet1_csv).split('.')[0].split('_')[-1]\n",
    "    output=sheet1_csv.replace('.csv','.pdf')\n",
    "    ps.print_sheet1(basin,period=period,\n",
    "                    output=output,units=str_unit,data=sheet1_csv)"
   ]
  },
  {
   "cell_type": "code",
   "execution_count": null,
   "metadata": {},
   "outputs": [],
   "source": []
  }
 ],
 "metadata": {
  "kernelspec": {
   "display_name": "Python 3 (ipykernel)",
   "language": "python",
   "name": "python3"
  },
  "language_info": {
   "codemirror_mode": {
    "name": "ipython",
    "version": 3
   },
   "file_extension": ".py",
   "mimetype": "text/x-python",
   "name": "python",
   "nbconvert_exporter": "python",
   "pygments_lexer": "ipython3",
   "version": "3.7.7"
  }
 },
 "nbformat": 4,
 "nbformat_minor": 4
}
