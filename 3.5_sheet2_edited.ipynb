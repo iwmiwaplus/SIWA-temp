{
 "cells": [
  {
   "cell_type": "code",
   "execution_count": 1,
   "id": "009358b8-8342-429f-946f-3224be53498e",
   "metadata": {},
   "outputs": [],
   "source": [
    "import os\n",
    "import sys\n",
    "sys.path.append(r'/efs/Incomati/scripts_aridity')\n",
    "import pandas as pd\n",
    "import time\n",
    "\n",
    "from WAsheets import calculate_flux as cf\n",
    "from WAsheets import hydroloop as hl\n",
    "from WAsheets import sheet2_v3 as sheet2\n",
    "from WAsheets import print_sheet as ps"
   ]
  },
  {
   "cell_type": "code",
   "execution_count": null,
   "id": "fbc0bd11-86e9-4f7c-a366-a6284880a44f",
   "metadata": {},
   "outputs": [],
   "source": [
    "wp_folder=r\"/efs/CWA/ncdf_files_sheet2_07_11/\" #folder with nc files from water balance model\n",
    "BASIN={\n",
    "       'name': 'AFR',\n",
    "       'hydroyear':'A-DEC', #Water year end month\n",
    "       'chunksize':[1, 1000, 1000],\n",
    "       'unit_conversion':1e6, #1e3 for input data in MCM, 1e6 for input data in km3\n",
    "       'output_folder':r\"/efs/CWA/hydroloop_results_07_11_2_test\",\n",
    "       'gis_data':{\n",
    "               'basin_mask': r'/efs/CWA/static_datasets/basin_mask/AFR_basinmask_1km.tif',\n",
    "               'subbasin_mask':{\n",
    "                       1: r\"/efs/CWA/static_datasets/basin_mask/AFR_basinmask_1km.tif\"                       \n",
    "                       },\n",
    "               },\n",
    "       'data_cube':{\n",
    "           'monthly':{\n",
    "               'eta':os.path.join(wp_folder, 'eta_monthly_added.nc'),\n",
    "               'nrd':os.path.join(wp_folder, 'nRD_monthly.nc'),\n",
    "               'ndm':os.path.join(wp_folder, 'AFR_NDM_ProbaV.nc'),\n",
    "               'lai':os.path.join(wp_folder, 'AFR_LAI_MOD15.nc'),\n",
    "               'lu':os.path.join(wp_folder, 'AFR_LU_WA_resampled_monthly.nc'),\n",
    "               'p':os.path.join(wp_folder, 'AFR_P_CHIRPS.nc'),\n",
    "               'i':os.path.join(wp_folder, 'i_monthly.nc')\n",
    "               },\n",
    "           'yearly':{\n",
    "                'lu':os.path.join(wp_folder,'AFR_LU_WA.nc'),\n",
    "                   }              \n",
    "       }\n",
    "}\n",
    "\n",
    "\n",
    "start = time.time()\n",
    "\n",
    "out_folder = BASIN['output_folder']\n",
    "if not os.path.exists(out_folder):\n",
    "    os.makedirs(out_folder)\n",
    "    \n",
    "#%% Calculate yearly and (intermediate) monthly sheet csvs\n",
    "\n",
    "sheet2_yearly_csvs=sheet2.main(BASIN,unit_conversion=BASIN['unit_conversion'])\n",
    "\n",
    "\n",
    "\n",
    "if BASIN['unit_conversion'] == 1e6:\n",
    "    str_unit='km3/year'\n",
    "elif BASIN['unit_conversion']==1e3:\n",
    "    str_unit='MCM/year'\n",
    "    \n",
    "for sheet2_csv in sheet2_yearly_csvs:\n",
    "    period=os.path.basename(sheet2_csv).split('.')[0].split('_')[-1]\n",
    "    output=sheet2_csv.replace('.csv','.pdf')\n",
    "    ps.print_sheet2(BASIN['name'],period=period,\n",
    "                    output=output,units=str_unit,data=sheet2_csv)\n",
    "    \n",
    "    \n",
    "end = time.time()\n",
    "total_time = end - start\n",
    "print ('total time :',total_time)"
   ]
  },
  {
   "cell_type": "code",
   "execution_count": null,
   "id": "9bf2faef-af1e-48b4-b15c-de4feffb8a9e",
   "metadata": {},
   "outputs": [],
   "source": [
    "BASIN['data_cube']['monthly']['eta']"
   ]
  },
  {
   "cell_type": "code",
   "execution_count": null,
   "id": "21410882-adea-4b10-80f1-6e1fbb17c48d",
   "metadata": {},
   "outputs": [],
   "source": []
  }
 ],
 "metadata": {
  "kernelspec": {
   "display_name": "Python 3 (ipykernel)",
   "language": "python",
   "name": "python3"
  },
  "language_info": {
   "codemirror_mode": {
    "name": "ipython",
    "version": 3
   },
   "file_extension": ".py",
   "mimetype": "text/x-python",
   "name": "python",
   "nbconvert_exporter": "python",
   "pygments_lexer": "ipython3",
   "version": "3.7.7"
  }
 },
 "nbformat": 4,
 "nbformat_minor": 5
}
