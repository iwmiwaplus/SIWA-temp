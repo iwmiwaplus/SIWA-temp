{
 "cells": [
  {
   "cell_type": "code",
   "execution_count": 4,
   "id": "3d331e24-ce50-46e1-b654-85b13d064d4f",
   "metadata": {},
   "outputs": [
    {
     "name": "stderr",
     "output_type": "stream",
     "text": [
      "/home/iwmi-wa/anaconda3/envs/cwa_env/lib/python3.7/site-packages/distributed/client.py:1129: VersionMismatchWarning: Mismatched versions found\n",
      "\n",
      "+-------------+--------+-----------+---------+\n",
      "| Package     | client | scheduler | workers |\n",
      "+-------------+--------+-----------+---------+\n",
      "| cloudpickle | 1.6.0  | 1.6.0     | 2.0.0   |\n",
      "| msgpack     | 1.0.2  | 1.0.2     | 1.0.3   |\n",
      "| toolz       | 0.11.1 | 0.11.1    | 0.11.2  |\n",
      "| tornado     | 6.1    | 6.1       | 6.2     |\n",
      "+-------------+--------+-----------+---------+\n",
      "Notes: \n",
      "-  msgpack: Variation is ok, as long as everything is above 0.6\n",
      "  warnings.warn(version_module.VersionMismatchWarning(msg[0][\"warning\"]))\n"
     ]
    },
    {
     "data": {
      "text/plain": [
       "'http://10.0.0.241:8787/status'"
      ]
     },
     "execution_count": 4,
     "metadata": {},
     "output_type": "execute_result"
    }
   ],
   "source": [
    "from dask.distributed import Client\n",
    "client = Client('tcp://10.0.0.241:8786')\n",
    "client.dashboard_link"
   ]
  },
  {
   "cell_type": "code",
   "execution_count": 1,
   "id": "5253909f-85c3-4738-b762-2e226596d6eb",
   "metadata": {},
   "outputs": [
    {
     "name": "stdout",
     "output_type": "stream",
     "text": [
      "\n",
      "\n",
      "writing the ET_a netcdf file\n",
      "\n",
      "\n",
      "\n",
      " 488.3185017108917\n",
      "\n",
      " 489.6474642753601\n"
     ]
    }
   ],
   "source": [
    "import os\n",
    "os.chdir(r'/efs/CWA/scripts_aridity')\n",
    "from WA.model_ET_correction import correct_et\n",
    "import time\n",
    "\n",
    "start = time.time()\n",
    "\n",
    "basin = 'AFR'\n",
    "MAIN_FOLDER = r'/efs/CWA/netcdf_files_03_07_'\n",
    "p_in = os.path.join(MAIN_FOLDER,'%s_P_CHIRPS.nc' %(basin)) # Monthly Precipitation\n",
    "e_in = os.path.join(MAIN_FOLDER,'%s_ETa_SSEBop.nc'%(basin)) # Monthly Actual Evapotranspiration\n",
    "aridity = os.path.join(MAIN_FOLDER,'%s_Aridity_CHIRPS_GLEAM.nc'%(basin)) # Aridity index to identify desert areas where et should eqaul to p\n",
    "\n",
    "\n",
    "start_year = 2003\n",
    "end_year = 2007\n",
    "\n",
    "chunks=[1,900,900]\n",
    "\n",
    "correct_et(MAIN_FOLDER,p_in,e_in, aridity, start_year, end_year, chunks)\n",
    "\n",
    "end = time.time()\n",
    "print('\\n',end - start)"
   ]
  },
  {
   "cell_type": "code",
   "execution_count": 2,
   "id": "8d64abb0-ad70-4b59-8cc4-c7925518b1c3",
   "metadata": {},
   "outputs": [
    {
     "name": "stdout",
     "output_type": "stream",
     "text": [
      "\n",
      "\n",
      "writing the ET_a netcdf file\n",
      "\n",
      "\n",
      "\n",
      " 525.595733165741\n",
      "\n",
      " 527.5030746459961\n"
     ]
    }
   ],
   "source": [
    "start = time.time()\n",
    "\n",
    "basin = 'AFR'\n",
    "MAIN_FOLDER = r'/efs/CWA/netcdf_files_07_11_'\n",
    "p_in = os.path.join(MAIN_FOLDER,'%s_P_CHIRPS.nc' %(basin)) # Monthly Precipitation\n",
    "e_in = os.path.join(MAIN_FOLDER,'%s_ETa_SSEBop.nc'%(basin)) # Monthly Actual Evapotranspiration\n",
    "aridity = os.path.join(MAIN_FOLDER,'%s_Aridity_CHIRPS_GLEAM.nc'%(basin)) # Aridity index to identify desert areas where et should eqaul to p\n",
    "\n",
    "\n",
    "start_year = 2007\n",
    "end_year = 2011\n",
    "\n",
    "chunks=[1,900,900]\n",
    "\n",
    "correct_et(MAIN_FOLDER,p_in,e_in, aridity, start_year, end_year, chunks)\n",
    "\n",
    "end = time.time()\n",
    "print('\\n',end - start)"
   ]
  },
  {
   "cell_type": "code",
   "execution_count": 3,
   "id": "7f3e395c-e604-4ca0-8010-a940d27391f3",
   "metadata": {},
   "outputs": [
    {
     "name": "stdout",
     "output_type": "stream",
     "text": [
      "\n",
      "\n",
      "writing the ET_a netcdf file\n",
      "\n",
      "\n",
      "\n",
      " 526.8084971904755\n",
      "\n",
      " 528.6342763900757\n"
     ]
    }
   ],
   "source": [
    "start = time.time()\n",
    "\n",
    "basin = 'AFR'\n",
    "MAIN_FOLDER = r'/efs/CWA/netcdf_files_11_15_'\n",
    "p_in = os.path.join(MAIN_FOLDER,'%s_P_CHIRPS.nc' %(basin)) # Monthly Precipitation\n",
    "e_in = os.path.join(MAIN_FOLDER,'%s_ETa_SSEBop.nc'%(basin)) # Monthly Actual Evapotranspiration\n",
    "aridity = os.path.join(MAIN_FOLDER,'%s_Aridity_CHIRPS_GLEAM.nc'%(basin)) # Aridity index to identify desert areas where et should eqaul to p\n",
    "\n",
    "\n",
    "start_year = 2011\n",
    "end_year = 2015\n",
    "\n",
    "chunks=[1,900,900]\n",
    "\n",
    "correct_et(MAIN_FOLDER,p_in,e_in, aridity, start_year, end_year, chunks)\n",
    "\n",
    "end = time.time()\n",
    "print('\\n',end - start)"
   ]
  },
  {
   "cell_type": "code",
   "execution_count": 4,
   "id": "07919c2e-4d8a-42e8-b5a0-10631417ce2f",
   "metadata": {},
   "outputs": [
    {
     "name": "stdout",
     "output_type": "stream",
     "text": [
      "\n",
      "\n",
      "writing the ET_a netcdf file\n",
      "\n",
      "\n",
      "\n",
      " 539.9213807582855\n",
      "\n",
      " 541.7953560352325\n"
     ]
    }
   ],
   "source": [
    "start = time.time()\n",
    "\n",
    "basin = 'AFR'\n",
    "MAIN_FOLDER = r'/efs/CWA/netcdf_files_15_19_'\n",
    "p_in = os.path.join(MAIN_FOLDER,'%s_P_CHIRPS.nc' %(basin)) # Monthly Precipitation\n",
    "e_in = os.path.join(MAIN_FOLDER,'%s_ETa_SSEBop.nc'%(basin)) # Monthly Actual Evapotranspiration\n",
    "aridity = os.path.join(MAIN_FOLDER,'%s_Aridity_CHIRPS_GLEAM.nc'%(basin)) # Aridity index to identify desert areas where et should eqaul to p\n",
    "\n",
    "\n",
    "start_year = 2015\n",
    "end_year = 2019\n",
    "\n",
    "chunks=[1,900,900]\n",
    "\n",
    "correct_et(MAIN_FOLDER,p_in,e_in, aridity, start_year, end_year, chunks)\n",
    "\n",
    "end = time.time()\n",
    "print('\\n',end - start)"
   ]
  },
  {
   "cell_type": "code",
   "execution_count": 5,
   "id": "988204fd-c005-427d-bc5a-2e50ae13a126",
   "metadata": {},
   "outputs": [
    {
     "name": "stdout",
     "output_type": "stream",
     "text": [
      "\n",
      "\n",
      "writing the ET_a netcdf file\n",
      "\n",
      "\n",
      "\n",
      " 321.9736771583557\n",
      "\n",
      " 323.2780828475952\n"
     ]
    }
   ],
   "source": [
    "start = time.time()\n",
    "\n",
    "basin = 'AFR'\n",
    "MAIN_FOLDER = r'/efs/CWA/netcdf_files_19_21_'\n",
    "p_in = os.path.join(MAIN_FOLDER,'%s_P_CHIRPS.nc' %(basin)) # Monthly Precipitation\n",
    "e_in = os.path.join(MAIN_FOLDER,'%s_ETa_SSEBop.nc'%(basin)) # Monthly Actual Evapotranspiration\n",
    "aridity = os.path.join(MAIN_FOLDER,'%s_Aridity_CHIRPS_GLEAM.nc'%(basin)) # Aridity index to identify desert areas where et should eqaul to p\n",
    "\n",
    "\n",
    "start_year = 2019\n",
    "end_year = 2021\n",
    "\n",
    "chunks=[1,900,900]\n",
    "\n",
    "correct_et(MAIN_FOLDER,p_in,e_in, aridity, start_year, end_year, chunks)\n",
    "\n",
    "end = time.time()\n",
    "print('\\n',end - start)"
   ]
  },
  {
   "cell_type": "code",
   "execution_count": null,
   "id": "0a251189-c146-4983-ac62-7e7ca40a0ac7",
   "metadata": {},
   "outputs": [],
   "source": []
  }
 ],
 "metadata": {
  "kernelspec": {
   "display_name": "Python 3 (ipykernel)",
   "language": "python",
   "name": "python3"
  },
  "language_info": {
   "codemirror_mode": {
    "name": "ipython",
    "version": 3
   },
   "file_extension": ".py",
   "mimetype": "text/x-python",
   "name": "python",
   "nbconvert_exporter": "python",
   "pygments_lexer": "ipython3",
   "version": "3.7.7"
  }
 },
 "nbformat": 4,
 "nbformat_minor": 5
}
