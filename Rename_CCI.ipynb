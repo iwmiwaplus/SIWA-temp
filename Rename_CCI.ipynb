{
 "cells": [
  {
   "cell_type": "code",
   "execution_count": 1,
   "id": "ef7f7830-d8ed-43e0-a3d4-ba7e2db7e9be",
   "metadata": {},
   "outputs": [
    {
     "name": "stdout",
     "output_type": "stream",
     "text": [
      "Renamed \"CCILCV2_2018_300m.tif\" to \"CCILCV2_1km_2018.01.01.tif\"\n",
      "Renamed \"CCILCV2_2009_300m.tif\" to \"CCILCV2_1km_2009.01.01.tif\"\n",
      "Renamed \"CCILCV2_2010_300m.tif\" to \"CCILCV2_1km_2010.01.01.tif\"\n",
      "Renamed \"CCILCV2_2005_300m.tif\" to \"CCILCV2_1km_2005.01.01.tif\"\n",
      "Renamed \"CCILCV2_2014_300m.tif\" to \"CCILCV2_1km_2014.01.01.tif\"\n",
      "Renamed \"CCILCV2_2003_300m.tif\" to \"CCILCV2_1km_2003.01.01.tif\"\n",
      "Renamed \"CCILCV2_2012_300m.tif\" to \"CCILCV2_1km_2012.01.01.tif\"\n",
      "Renamed \"CCILCV2_2007_300m.tif\" to \"CCILCV2_1km_2007.01.01.tif\"\n",
      "Renamed \"CCILCV2_2016_300m.tif\" to \"CCILCV2_1km_2016.01.01.tif\"\n",
      "Renamed \"CCILCV2_2019_300m.tif\" to \"CCILCV2_1km_2019.01.01.tif\"\n",
      "Renamed \"CCILCV2_2011_300m.tif\" to \"CCILCV2_1km_2011.01.01.tif\"\n",
      "Renamed \"CCILCV2_2020_300m.tif\" to \"CCILCV2_1km_2020.01.01.tif\"\n",
      "Renamed \"CCILCV2_2015_300m.tif\" to \"CCILCV2_1km_2015.01.01.tif\"\n",
      "Renamed \"CCILCV2_2006_300m.tif\" to \"CCILCV2_1km_2006.01.01.tif\"\n",
      "Renamed \"CCILCV2_2013_300m.tif\" to \"CCILCV2_1km_2013.01.01.tif\"\n",
      "Renamed \"CCILCV2_2004_300m.tif\" to \"CCILCV2_1km_2004.01.01.tif\"\n",
      "Renamed \"CCILCV2_2017_300m.tif\" to \"CCILCV2_1km_2017.01.01.tif\"\n",
      "Renamed \"CCILCV2_2008_300m.tif\" to \"CCILCV2_1km_2008.01.01.tif\"\n"
     ]
    }
   ],
   "source": [
    "import os\n",
    "import re\n",
    "\n",
    "# Replace 'input_folder' with the path to your folder containing the tif files\n",
    "input_folder = r'/efs/CWA/rs_input_tifs/LUWA/'\n",
    "\n",
    "# Define a regular expression pattern to extract the year from the original filenames\n",
    "pattern = r'CCILCV2_(\\d{4})'\n",
    "\n",
    "# List all files in the folder\n",
    "files = os.listdir(input_folder)\n",
    "\n",
    "for file in files:\n",
    "    if file.endswith('.tiff') or file.endswith('.tif'):\n",
    "        match = re.search(pattern, file)\n",
    "        if match:\n",
    "            year = match.group(1)\n",
    "            new_filename = f'CCILCV2_1km_{year}.01.01.tif'\n",
    "            old_path = os.path.join(input_folder, file)\n",
    "            new_path = os.path.join(input_folder, new_filename)\n",
    "            os.rename(old_path, new_path)\n",
    "            print(f'Renamed \"{file}\" to \"{new_filename}\"')\n"
   ]
  },
  {
   "cell_type": "code",
   "execution_count": null,
   "id": "749ce014-4be9-4415-955d-cd6e666b0b79",
   "metadata": {},
   "outputs": [],
   "source": []
  }
 ],
 "metadata": {
  "kernelspec": {
   "display_name": "Python 3 (ipykernel)",
   "language": "python",
   "name": "python3"
  },
  "language_info": {
   "codemirror_mode": {
    "name": "ipython",
    "version": 3
   },
   "file_extension": ".py",
   "mimetype": "text/x-python",
   "name": "python",
   "nbconvert_exporter": "python",
   "pygments_lexer": "ipython3",
   "version": "3.7.7"
  }
 },
 "nbformat": 4,
 "nbformat_minor": 5
}
