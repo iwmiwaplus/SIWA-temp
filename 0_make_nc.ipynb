{
 "cells": [
  {
   "cell_type": "code",
   "execution_count": null,
   "id": "f281d0dc",
   "metadata": {},
   "outputs": [],
   "source": [
    "from dask.distributed import Client\n",
    "client = Client('tcp://10.0.0.241:8786')\n",
    "client.dashboard_link"
   ]
  },
  {
   "cell_type": "code",
   "execution_count": 1,
   "id": "1404100e",
   "metadata": {},
   "outputs": [
    {
     "name": "stderr",
     "output_type": "stream",
     "text": [
      "  0%|                                                   | 0/144 [00:00<?, ?it/s]"
     ]
    },
    {
     "name": "stdout",
     "output_type": "stream",
     "text": [
      "-1.5595164049031496e-15\n",
      "1.5595164049031496e-15\n"
     ]
    },
    {
     "name": "stderr",
     "output_type": "stream",
     "text": [
      "100%|█████████████████████████████████████████| 144/144 [03:44<00:00,  1.56s/it]\n"
     ]
    },
    {
     "name": "stdout",
     "output_type": "stream",
     "text": [
      "Time for P - 225.47286438941956\n"
     ]
    },
    {
     "name": "stderr",
     "output_type": "stream",
     "text": [
      "  0%|                                                  | 0/4383 [00:00<?, ?it/s]"
     ]
    },
    {
     "name": "stdout",
     "output_type": "stream",
     "text": [
      "-1.5595164049031496e-15\n",
      "1.5595164049031496e-15\n"
     ]
    },
    {
     "name": "stderr",
     "output_type": "stream",
     "text": [
      "100%|█████████████████████████████████████| 4383/4383 [1:45:55<00:00,  1.45s/it]\n"
     ]
    },
    {
     "name": "stdout",
     "output_type": "stream",
     "text": [
      "Time for dailyP - 6356.574618816376\n"
     ]
    },
    {
     "name": "stderr",
     "output_type": "stream",
     "text": [
      "  0%|                                                   | 0/144 [00:00<?, ?it/s]"
     ]
    },
    {
     "name": "stdout",
     "output_type": "stream",
     "text": [
      "-1.5595164049031496e-15\n",
      "1.5595164049031496e-15\n"
     ]
    },
    {
     "name": "stderr",
     "output_type": "stream",
     "text": [
      "100%|█████████████████████████████████████████| 144/144 [06:01<00:00,  2.51s/it]\n"
     ]
    },
    {
     "name": "stdout",
     "output_type": "stream",
     "text": [
      "Time for ET - 361.9152762889862\n"
     ]
    },
    {
     "name": "stderr",
     "output_type": "stream",
     "text": [
      "  0%|                                                   | 0/144 [00:00<?, ?it/s]"
     ]
    },
    {
     "name": "stdout",
     "output_type": "stream",
     "text": [
      "-1.5595164049031496e-15\n",
      "1.5595164049031496e-15\n"
     ]
    },
    {
     "name": "stderr",
     "output_type": "stream",
     "text": [
      "100%|█████████████████████████████████████████| 144/144 [12:58<00:00,  5.40s/it]\n"
     ]
    },
    {
     "name": "stdout",
     "output_type": "stream",
     "text": [
      "Time for LAI - 778.7232055664062\n"
     ]
    },
    {
     "name": "stderr",
     "output_type": "stream",
     "text": [
      "  0%|                                                     | 0/1 [00:00<?, ?it/s]"
     ]
    },
    {
     "name": "stdout",
     "output_type": "stream",
     "text": [
      "-1.5595164049031496e-15\n",
      "1.5595164049031496e-15\n"
     ]
    },
    {
     "name": "stderr",
     "output_type": "stream",
     "text": [
      "100%|█████████████████████████████████████████████| 1/1 [00:09<00:00,  9.21s/it]\n"
     ]
    },
    {
     "name": "stdout",
     "output_type": "stream",
     "text": [
      "Time for SMsat - 9.812729120254517\n"
     ]
    },
    {
     "name": "stderr",
     "output_type": "stream",
     "text": [
      "  0%|                                                     | 0/1 [00:00<?, ?it/s]"
     ]
    },
    {
     "name": "stdout",
     "output_type": "stream",
     "text": [
      "-1.5595164049031496e-15\n",
      "1.5595164049031496e-15\n"
     ]
    },
    {
     "name": "stderr",
     "output_type": "stream",
     "text": [
      "100%|█████████████████████████████████████████████| 1/1 [00:01<00:00,  1.28s/it]\n"
     ]
    },
    {
     "name": "stdout",
     "output_type": "stream",
     "text": [
      "Time for Ari - 1.8811674118041992\n"
     ]
    },
    {
     "name": "stderr",
     "output_type": "stream",
     "text": [
      "  0%|                                                    | 0/12 [00:00<?, ?it/s]"
     ]
    },
    {
     "name": "stdout",
     "output_type": "stream",
     "text": [
      "-1.5595164049031496e-15\n",
      "1.5595164049031496e-15\n"
     ]
    },
    {
     "name": "stderr",
     "output_type": "stream",
     "text": [
      "100%|███████████████████████████████████████████| 12/12 [02:10<00:00, 10.89s/it]\n"
     ]
    },
    {
     "name": "stdout",
     "output_type": "stream",
     "text": [
      "Time for LU - 131.28145837783813\n"
     ]
    },
    {
     "name": "stderr",
     "output_type": "stream",
     "text": [
      "  0%|                                                   | 0/144 [00:00<?, ?it/s]"
     ]
    },
    {
     "name": "stdout",
     "output_type": "stream",
     "text": [
      "-1.5595164049031496e-15\n",
      "1.5595164049031496e-15\n"
     ]
    },
    {
     "name": "stderr",
     "output_type": "stream",
     "text": [
      "100%|█████████████████████████████████████████| 144/144 [09:46<00:00,  4.08s/it]\n"
     ]
    },
    {
     "name": "stdout",
     "output_type": "stream",
     "text": [
      "Time for ProbaV - 587.4121415615082\n"
     ]
    },
    {
     "name": "stderr",
     "output_type": "stream",
     "text": [
      "  0%|                                                   | 0/144 [00:00<?, ?it/s]"
     ]
    },
    {
     "name": "stdout",
     "output_type": "stream",
     "text": [
      "-1.5595164049031496e-15\n",
      "1.5595164049031496e-15\n"
     ]
    },
    {
     "name": "stderr",
     "output_type": "stream",
     "text": [
      "100%|█████████████████████████████████████████| 144/144 [03:29<00:00,  1.46s/it]"
     ]
    },
    {
     "name": "stdout",
     "output_type": "stream",
     "text": [
      "Time for ETref - 210.16504979133606\n",
      "Total time for execution -  8663.253925085068\n"
     ]
    },
    {
     "name": "stderr",
     "output_type": "stream",
     "text": [
      "\n"
     ]
    }
   ],
   "source": [
    "# -*- coding: utf-8 -*-\n",
    "\"\"\"\n",
    "Created on Fri Jan 24 11:01:05 2020\n",
    "\n",
    "@author: cmi001\n",
    "\"\"\"\n",
    "\n",
    "# %% netCDF files from\n",
    "import os\n",
    "import glob\n",
    "import sys\n",
    "\n",
    "sys.path.append(r'/efs/Lerma/scripts_aridity')\n",
    "import  createNC_cmi\n",
    "import time\n",
    "\n",
    "Tstart = time.time()\n",
    "\n",
    "basedir = r\"/efs/Lerma\"\n",
    "\n",
    "pathP = os.path.join(basedir,'P', 'Chirps', 'Monthly')\n",
    "pathPday = os.path.join(basedir,'P', 'Chirps', 'Daily')\n",
    "pathET = os.path.join(basedir,'ET','ETA' )\n",
    "pathETref = os.path.join(basedir,'RET','Gleam','Monthly')\n",
    "pathLU = os.path.join(basedir,'LUWA_CCI')\n",
    "pathProbaV = os.path.join(basedir,'NDM')\n",
    "pathLAI = os.path.join(basedir, 'LAI', 'Monthly')\n",
    "pathSMsat = os.path.join(basedir,'Thetasat')\n",
    "pathAri = os.path.join(basedir, 'Aridity')\n",
    "# pathE = os.path.join(basedir,'evaporation')\n",
    "# pathI = os.path.join(basedir, 'I')\n",
    "\n",
    "template = r\"/efs/Lerma/Static_data/1km/mex_temp_1km_F.tif\"\n",
    "\n",
    "shp_path = r\"/efs/Lerma/Shapefile_lerma/Maxico.shp\"\n",
    "save_location = r\"/efs/Lerma/results_chirps_ssebop_1km/netcdfs\"\n",
    "\n",
    "if not os.path.exists(save_location):\n",
    "    os.makedirs(save_location)\n",
    "\n",
    "name = 'Mexico'\n",
    "\n",
    "datasets = {\n",
    "                    'P'      :   [pathP, \n",
    "                                 ('time','latitude', 'longitude'), \n",
    "                                 {'units': 'mm/month', 'source': 'CHIRPS', 'quantity':'P'}],\n",
    "                    'dailyP' :   [pathPday,\n",
    "                                  ('time','latitude', 'longitude'), \n",
    "                                  {'units': 'mm/d', 'source': 'CHIRPS', 'quantity':'dailyP'}],\n",
    "                    'ET'     :   [pathET, \n",
    "                                   ('time','latitude', 'longitude'), \n",
    "                                   {'units': 'mm/month', 'source': 'SESBop', 'quantity':'ETa'}],                 \n",
    "                    'LAI'    :   [pathLAI,\n",
    "                                  ('time','latitude', 'longitude'), \n",
    "                                  {'units': 'None', 'source': 'MOD15', 'quantity':'LAI'}],                   \n",
    "                    'SMsat'  :   [pathSMsat,\n",
    "                                  ('time','latitude', 'longitude'), \n",
    "                                  {'units': 'None', 'source': 'HiHydroSoils', 'quantity':'SMsat'}],\n",
    "                    'Ari'  :   [pathAri,\n",
    "                                  ('time','latitude', 'longitude'), \n",
    "                                  {'units': 'None', 'source': 'CHIRPS_GLEAM', 'quantity':'Aridity'}],\n",
    "                    'LU'     :   [pathLU,\n",
    "                                   ('time','latitude', 'longitude'), \n",
    "                                   {'units': 'None', 'source': 'WA_CCI', 'quantity':'LU'}],\n",
    "                    'ProbaV' :   [pathProbaV,\n",
    "                                  ('time','latitude', 'longitude'),\n",
    "                                  {'units': 'None', 'source': 'ProbaV', 'quantity':'NDM'}],\n",
    "                    'ETref'  :   [pathETref,\n",
    "                                  ('time','latitude', 'longitude'), \n",
    "                                  {'units': 'None', 'source': 'GLEAM', 'quantity':'ETref'}] \n",
    "#                     'evaporation' :   [pathE,\n",
    "#                                   ('time','latitude', 'longitude'),\n",
    "#                                   {'units': 'None', 'source': 'evaporation', 'quantity':'evaporation'}],\n",
    "#                     'I'  :   [pathI,\n",
    "#                                   ('time','latitude', 'longitude'), \n",
    "#                                   {'units': 'None', 'source': 'I', 'quantity':'I'}] \n",
    "  \n",
    "          }\n",
    "\n",
    "nc_files = []\n",
    "\n",
    "if not os.path.exists(save_location):\n",
    "    os.makedirs(save_location)\n",
    "\n",
    "for d in datasets:\n",
    "    start = time.time()\n",
    "    filesAll = glob.glob(os.path.join(datasets[d][0],'*.tif'))\n",
    "    dataset = {d: datasets[d]}\n",
    "    fname = name+'_'+datasets[d][2]['quantity']+'_'+ datasets[d][2]['source']+'.nc'\n",
    "    nc_file = os.path.join(save_location, fname)\n",
    "    nc_files.append(nc_file)\n",
    "    succes = createNC_cmi.make_netcdf(nc_file, dataset, shp_path, template, name)    \n",
    "    end = time.time()\n",
    "    print('Time for {} - {}'.format(d, end - start))\n",
    "    \n",
    "Tend = time.time()\n",
    "print('Total time for execution - ',Tend - Tstart)\n",
    "# Time for P - 3942.142505645752\n"
   ]
  },
  {
   "cell_type": "code",
   "execution_count": 2,
   "id": "0fbbbf16-2d01-4cc7-a253-69568072103c",
   "metadata": {},
   "outputs": [
    {
     "name": "stdout",
     "output_type": "stream",
     "text": [
      "/efs/Lerma/results_chirps_ssebop_1km/netcdfs/Mexico_ETa_SESBop.nc 0\n",
      "/efs/Lerma/results_chirps_ssebop_1km/netcdfs/Mexico_Aridity_CHIRPS_GLEAM.nc 1\n",
      "/efs/Lerma/results_chirps_ssebop_1km/netcdfs/Mexico_ETref_GLEAM.nc 2\n",
      "/efs/Lerma/results_chirps_ssebop_1km/netcdfs/Mexico_dailyP_CHIRPS.nc 3\n",
      "/efs/Lerma/results_chirps_ssebop_1km/netcdfs/Mexico_LAI_MOD15.nc 4\n",
      "/efs/Lerma/results_chirps_ssebop_1km/netcdfs/Mexico_LU_WA_CCI.nc 5\n",
      "/efs/Lerma/results_chirps_ssebop_1km/netcdfs/Mexico_P_CHIRPS.nc 6\n",
      "/efs/Lerma/results_chirps_ssebop_1km/netcdfs/Mexico_NDM_ProbaV.nc 7\n",
      "/efs/Lerma/results_chirps_ssebop_1km/netcdfs/Mexico_SMsat_HiHydroSoils.nc 8\n"
     ]
    }
   ],
   "source": [
    "import time\n",
    "import os\n",
    "import glob\n",
    "\n",
    "start = time.time()\n",
    "os.chdir(r'/efs/Lerma/scripts_aridity')\n",
    "\n",
    "import pre_proc_sm_balance\n",
    "\n",
    "nc_files = glob.glob(r'/efs/Lerma/results_chirps_ssebop_1km/netcdfs/*.nc')\n",
    "\n",
    "x =0\n",
    "for i in nc_files:\n",
    "    print(i, x)\n",
    "    x += 1"
   ]
  },
  {
   "cell_type": "code",
   "execution_count": null,
   "id": "003657ad-4123-4187-94f3-d5722d3e6ac7",
   "metadata": {},
   "outputs": [
    {
     "name": "stdout",
     "output_type": "stream",
     "text": [
      "/efs/Lerma/results_chirps_ssebop_1km/netcdfs/Mexico_dailyP_CHIRPS.nc /efs/Lerma/results_chirps_ssebop_1km/netcdfs/Mexico_P_CHIRPS.nc\n",
      "\n",
      "\n",
      "writing the Monthly RD netcdf file\n",
      "\n",
      "\n"
     ]
    },
    {
     "name": "stderr",
     "output_type": "stream",
     "text": [
      "/home/iwmi-wa/anaconda3/envs/wa_env/lib/python3.7/site-packages/xarray/core/dataarray.py:2664: SerializationWarning: saving variable nRD with floating point data as an integer dtype without any _FillValue to use for NaNs\n",
      "  return dataset.to_netcdf(*args, **kwargs)\n"
     ]
    },
    {
     "name": "stdout",
     "output_type": "stream",
     "text": [
      "[########################################] | 100% Completed |  5min 43.1s\n",
      "Total time for n_nc:  393.82756781578064\n",
      "/efs/Lerma/results_chirps_ssebop_1km/netcdfs/Mexico_LAI_MOD15.nc\n",
      "\n",
      "\n",
      "writing the Monthly I netcdf file\n",
      "\n",
      "\n",
      "[                                        ] | 0% Completed |  0.5s"
     ]
    },
    {
     "name": "stderr",
     "output_type": "stream",
     "text": [
      "/home/iwmi-wa/anaconda3/envs/wa_env/lib/python3.7/site-packages/dask/core.py:121: RuntimeWarning: invalid value encountered in true_divide\n",
      "  return func(*(_execute_task(a, cache) for a in args))\n"
     ]
    },
    {
     "name": "stdout",
     "output_type": "stream",
     "text": [
      "[######################################  ] | 95% Completed |  2min 24.6s"
     ]
    }
   ],
   "source": [
    "dailyp_nc = nc_files[3]\n",
    "p_nc = nc_files[6]\n",
    "print(dailyp_nc, p_nc)\n",
    "chunks = [1,500,500]\n",
    "n_nc = pre_proc_sm_balance.rainy_days(dailyp_nc, p_nc, chunks)\n",
    "end = time.time()\n",
    "\n",
    "print('Total time for n_nc: ', end - start)\n",
    "\n",
    "start = time.time()\n",
    "lai_nc = nc_files[4]\n",
    "print(lai_nc)\n",
    "i_nc = pre_proc_sm_balance.interception(lai_nc, p_nc, n_nc, chunks)\n",
    "end = time.time()\n",
    "print('Total time for i_nc: ', end - start)"
   ]
  },
  {
   "cell_type": "code",
   "execution_count": null,
   "id": "c777e866-95e1-4f27-9246-55cd1af5252a",
   "metadata": {},
   "outputs": [],
   "source": []
  }
 ],
 "metadata": {
  "kernelspec": {
   "display_name": "Python 3 (ipykernel)",
   "language": "python",
   "name": "python3"
  },
  "language_info": {
   "codemirror_mode": {
    "name": "ipython",
    "version": 3
   },
   "file_extension": ".py",
   "mimetype": "text/x-python",
   "name": "python",
   "nbconvert_exporter": "python",
   "pygments_lexer": "ipython3",
   "version": "3.7.7"
  }
 },
 "nbformat": 4,
 "nbformat_minor": 5
}
